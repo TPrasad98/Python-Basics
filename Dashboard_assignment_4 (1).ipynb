{
  "nbformat": 4,
  "nbformat_minor": 0,
  "metadata": {
    "colab": {
      "provenance": []
    },
    "kernelspec": {
      "name": "python3",
      "display_name": "Python 3"
    },
    "language_info": {
      "name": "python"
    }
  },
  "cells": [
    {
      "cell_type": "markdown",
      "source": [
        "##**ASSIGNMENT - 4**\n"
      ],
      "metadata": {
        "id": "Or2idS9F2c10"
      }
    },
    {
      "cell_type": "markdown",
      "source": [
        "##**1. What exactly is [ ]?**\n",
        "**ANS -**\n",
        "\n",
        "The empty list value, which is a list value that contains no items. This is similar to how \" \" is the empty string value."
      ],
      "metadata": {
        "id": "jhaQ5oms2i7F"
      }
    },
    {
      "cell_type": "markdown",
      "source": [
        "##**2. In a list of values stored in a variable called spam, how would you assign the value 'hello' as the third value? (Assume [2, 4, 6, 8, 10] are in spam.)**\n",
        "\n",
        "**ANS -**\n",
        "\n",
        "spam[2] = 'hello' (Notice that the third value in a list is at index 2 because the first index is 0.)"
      ],
      "metadata": {
        "id": "vtbRqrRx5qw_"
      }
    },
    {
      "cell_type": "code",
      "execution_count": 4,
      "metadata": {
        "colab": {
          "base_uri": "https://localhost:8080/"
        },
        "id": "53RJexsl2Sp8",
        "outputId": "1d6fd849-4423-4e14-8b35-164f03c824de"
      },
      "outputs": [
        {
          "output_type": "execute_result",
          "data": {
            "text/plain": [
              "[2, 4, 'hello', 8, 10]"
            ]
          },
          "metadata": {},
          "execution_count": 4
        }
      ],
      "source": [
        "spam=[2,4,6,8,10]\n",
        "spam[2]= 'hello' ##Assigning the value 'hello' as the third value of spam\n",
        "\n",
        "spam "
      ]
    },
    {
      "cell_type": "markdown",
      "source": [
        "###**Let&#39;s pretend the spam includes the list [ 'a', 'b' , 'c' , 'd' ]  for the next three queries.**\n"
      ],
      "metadata": {
        "id": "RcP0B4zP7Q1n"
      }
    },
    {
      "cell_type": "code",
      "source": [
        "spam=[ 'a', 'b' , 'c' , 'd' ]"
      ],
      "metadata": {
        "id": "jmeGarvX9te8"
      },
      "execution_count": 9,
      "outputs": []
    },
    {
      "cell_type": "markdown",
      "source": [
        "##**3. What is the value of spam[int(int('3' *2) / 11) ] ?**\n",
        "\n",
        "**ANS -** 'd'\n",
        "\n",
        "(Note that '3' * 2 is the string '33', which is passed to int() before being divided by 11. This eventually evaluates to 3. Expressions can be used wherever values are used.)"
      ],
      "metadata": {
        "id": "6sf7YEsC8Lka"
      }
    },
    {
      "cell_type": "code",
      "source": [
        "spam[int(int('3' *2) / 11) ]"
      ],
      "metadata": {
        "colab": {
          "base_uri": "https://localhost:8080/",
          "height": 36
        },
        "id": "7co8ZjNg9NEk",
        "outputId": "3d77495d-637c-49af-8921-76e02895aa6f"
      },
      "execution_count": 8,
      "outputs": [
        {
          "output_type": "execute_result",
          "data": {
            "text/plain": [
              "'d'"
            ],
            "application/vnd.google.colaboratory.intrinsic+json": {
              "type": "string"
            }
          },
          "metadata": {},
          "execution_count": 8
        }
      ]
    },
    {
      "cell_type": "markdown",
      "source": [
        "##**4. What is the value of spam[-1]?**\n",
        "\n",
        "**ANS -**\n",
        "'d' (Negative indexes count from the end.)"
      ],
      "metadata": {
        "id": "mKPDwxy_-GhU"
      }
    },
    {
      "cell_type": "code",
      "source": [
        "spam[-1]"
      ],
      "metadata": {
        "colab": {
          "base_uri": "https://localhost:8080/",
          "height": 36
        },
        "id": "m8JvMe-6-R-J",
        "outputId": "88544b36-daea-4ee0-ab3a-cc06f3d2a0a3"
      },
      "execution_count": 14,
      "outputs": [
        {
          "output_type": "execute_result",
          "data": {
            "text/plain": [
              "'d'"
            ],
            "application/vnd.google.colaboratory.intrinsic+json": {
              "type": "string"
            }
          },
          "metadata": {},
          "execution_count": 14
        }
      ]
    },
    {
      "cell_type": "markdown",
      "source": [
        "##**5. What is the value of spam[:2]?**\n",
        "\n",
        "**ANS -**  ['a', 'b']\n",
        "\n",
        "(Note- starting from 0th index upto 2nd index of the list)"
      ],
      "metadata": {
        "id": "ZT9pEipQ-Vxn"
      }
    },
    {
      "cell_type": "code",
      "source": [
        "spam[:2] #starting from 0th index upto 2nd index of the list"
      ],
      "metadata": {
        "colab": {
          "base_uri": "https://localhost:8080/"
        },
        "id": "Rw5OHlHn9yqN",
        "outputId": "90904c7c-2c24-4fc6-ca2a-a2ba230b8036"
      },
      "execution_count": 15,
      "outputs": [
        {
          "output_type": "execute_result",
          "data": {
            "text/plain": [
              "['a', 'b']"
            ]
          },
          "metadata": {},
          "execution_count": 15
        }
      ]
    },
    {
      "cell_type": "markdown",
      "source": [
        "###**Let's pretend bacon has the list [3.14 ,'cat',  11 , 'cat', True ] for the next three questions.**"
      ],
      "metadata": {
        "id": "ucv5qRb6_Anc"
      }
    },
    {
      "cell_type": "code",
      "source": [
        "bacon=[3.14 ,'cat', 11 , 'cat', True ] "
      ],
      "metadata": {
        "id": "zCglgQb5-ouQ"
      },
      "execution_count": 2,
      "outputs": []
    },
    {
      "cell_type": "markdown",
      "source": [
        "##**6. What is the value of bacon.index('cat')?**\n",
        "\n",
        "**ANS -** 1\n",
        "\n",
        "(Note- index() returns the first occurance of the value)\n"
      ],
      "metadata": {
        "id": "5WGSNz5x_zTE"
      }
    },
    {
      "cell_type": "code",
      "source": [
        "bacon.index('cat')"
      ],
      "metadata": {
        "colab": {
          "base_uri": "https://localhost:8080/"
        },
        "id": "rY2C8jbj_xdp",
        "outputId": "3d496da8-5e67-41cd-91b8-c2cc2b28f8de"
      },
      "execution_count": 3,
      "outputs": [
        {
          "output_type": "execute_result",
          "data": {
            "text/plain": [
              "1"
            ]
          },
          "metadata": {},
          "execution_count": 3
        }
      ]
    },
    {
      "cell_type": "markdown",
      "source": [
        "##**7. How does bacon.append(99) change the look of the list value in bacon?**\n",
        "\n",
        "**ANS -** [3.14, 'cat', 11, 'cat', True, 99]\n",
        "\n",
        "\n"
      ],
      "metadata": {
        "id": "BPk_fr2oAiN6"
      }
    },
    {
      "cell_type": "code",
      "source": [
        "bacon.append(99) # append() function inserts a single element into an existing list.\n"
      ],
      "metadata": {
        "id": "oxNvQSajBgUs"
      },
      "execution_count": 4,
      "outputs": []
    },
    {
      "cell_type": "code",
      "source": [
        "bacon # The element will be added to the end of the old list rather than being returned to a new list."
      ],
      "metadata": {
        "colab": {
          "base_uri": "https://localhost:8080/"
        },
        "id": "6vXxrhgKBmUr",
        "outputId": "ca6edf01-8840-417b-fdee-90c8d342ba22"
      },
      "execution_count": 5,
      "outputs": [
        {
          "output_type": "execute_result",
          "data": {
            "text/plain": [
              "[3.14, 'cat', 11, 'cat', True, 99]"
            ]
          },
          "metadata": {},
          "execution_count": 5
        }
      ]
    },
    {
      "cell_type": "markdown",
      "source": [
        "##**8. How does bacon.remove('cat') change the look of the list in bacon?**\n",
        "\n",
        "**ANS -** [3.14, 11, 'cat', True , 99 ]"
      ],
      "metadata": {
        "id": "8b9uKRtpoICn"
      }
    },
    {
      "cell_type": "code",
      "source": [
        "bacon"
      ],
      "metadata": {
        "colab": {
          "base_uri": "https://localhost:8080/"
        },
        "id": "WJOAvjrlBqPG",
        "outputId": "f29dedbf-12a9-43c9-8964-8dfe6015c5ef"
      },
      "execution_count": 9,
      "outputs": [
        {
          "output_type": "execute_result",
          "data": {
            "text/plain": [
              "[3.14, 11, 'cat', True, 99]"
            ]
          },
          "metadata": {},
          "execution_count": 9
        }
      ]
    },
    {
      "cell_type": "code",
      "source": [
        "bacon.remove('cat') #remove() function removes the 1st occured element of a repetative element "
      ],
      "metadata": {
        "id": "jTTZ0VqboulJ"
      },
      "execution_count": 10,
      "outputs": []
    },
    {
      "cell_type": "code",
      "source": [
        "bacon"
      ],
      "metadata": {
        "colab": {
          "base_uri": "https://localhost:8080/"
        },
        "id": "R7-TvOKQpCBR",
        "outputId": "b5fc8f65-1902-4c8e-a1a9-b0d8aa191c1e"
      },
      "execution_count": 8,
      "outputs": [
        {
          "output_type": "execute_result",
          "data": {
            "text/plain": [
              "[3.14, 11, 'cat', True, 99]"
            ]
          },
          "metadata": {},
          "execution_count": 8
        }
      ]
    },
    {
      "cell_type": "markdown",
      "source": [
        "##**9. What are the list concatenation and list replication operators?**\n",
        "\n",
        "**ANS -**\n",
        "\n",
        "The operator for list concatenation is  + , while the operator for replication is * . "
      ],
      "metadata": {
        "id": "chj1eGA6pmAC"
      }
    },
    {
      "cell_type": "code",
      "source": [
        "li1=[1,2,5,25,1232]\n",
        "li2=[12,74,85,56]\n",
        "# list concatination\n",
        "li3=li1+li2\n",
        "print(li3)\n",
        "#list replication\n",
        "li4=li2*3\n",
        "print(li4)"
      ],
      "metadata": {
        "colab": {
          "base_uri": "https://localhost:8080/"
        },
        "id": "ijyLtRBL8xmX",
        "outputId": "3b6a8abd-36f7-49c6-8853-ce75d80bdfa1"
      },
      "execution_count": 47,
      "outputs": [
        {
          "output_type": "stream",
          "name": "stdout",
          "text": [
            "[1, 2, 5, 25, 1232, 12, 74, 85, 56]\n",
            "[12, 74, 85, 56, 12, 74, 85, 56, 12, 74, 85, 56]\n"
          ]
        }
      ]
    },
    {
      "cell_type": "markdown",
      "source": [
        "##**10. What is difference between the list methods append() and insert()?**\n",
        "\n",
        "**ANS -**\n",
        "\n",
        "While append() will add values only to the end of a list, insert() can add them anywhere in the list."
      ],
      "metadata": {
        "id": "FIxleAvBqIi7"
      }
    },
    {
      "cell_type": "code",
      "source": [
        "li1=[1,2,5,'kanha',12.32]\n",
        "li1.append([12,74,85,5.6]) #append() function addes the list at the end of li1\n",
        "li1"
      ],
      "metadata": {
        "colab": {
          "base_uri": "https://localhost:8080/"
        },
        "id": "8NO7w2Cb7gYx",
        "outputId": "cf0cb2db-c84e-41a7-9805-22f5a60517e3"
      },
      "execution_count": 36,
      "outputs": [
        {
          "output_type": "execute_result",
          "data": {
            "text/plain": [
              "[1, 2, 5, 'kanha', 12.32, [12, 74, 85, 5.6]]"
            ]
          },
          "metadata": {},
          "execution_count": 36
        }
      ]
    },
    {
      "cell_type": "code",
      "source": [
        "li1.insert(2,(12,52,41,5.3))\n",
        "li1 # insert() function added the tuple at 2nd index"
      ],
      "metadata": {
        "colab": {
          "base_uri": "https://localhost:8080/"
        },
        "id": "ynMbS4XA8L93",
        "outputId": "0ef93178-8a79-4afb-c73a-eb664bee3544"
      },
      "execution_count": 37,
      "outputs": [
        {
          "output_type": "execute_result",
          "data": {
            "text/plain": [
              "[1, 2, (12, 52, 41, 5.3), 5, 'kanha', 12.32, [12, 74, 85, 5.6]]"
            ]
          },
          "metadata": {},
          "execution_count": 37
        }
      ]
    },
    {
      "cell_type": "markdown",
      "source": [
        "##**11. What are the two methods for removing items from a list?**\n",
        "\n",
        "**ANS -**\n",
        "\n",
        "The del statement and the remove() list method are two ways to remove values from a list."
      ],
      "metadata": {
        "id": "3cqC2e92qfqR"
      }
    },
    {
      "cell_type": "code",
      "source": [
        "li1=[1,2,5,'kanha',12.32]\n",
        "#rmoving 5 from the above list li1\n",
        "li1.remove(5)\n",
        "li1"
      ],
      "metadata": {
        "colab": {
          "base_uri": "https://localhost:8080/"
        },
        "id": "zft9iZvq5ipz",
        "outputId": "116145e3-5116-4f00-f16b-a5703c61b7f8"
      },
      "execution_count": 21,
      "outputs": [
        {
          "output_type": "execute_result",
          "data": {
            "text/plain": [
              "[1, 2, 'kanha', 12.32]"
            ]
          },
          "metadata": {},
          "execution_count": 21
        }
      ]
    },
    {
      "cell_type": "code",
      "source": [
        " #del statement will completely delete the list\n",
        " del li1\n",
        " li1"
      ],
      "metadata": {
        "colab": {
          "base_uri": "https://localhost:8080/",
          "height": 200
        },
        "id": "O35np4sw56Ar",
        "outputId": "82bcca65-2fda-4b21-e9f6-50a1fe78fbdf"
      },
      "execution_count": 23,
      "outputs": [
        {
          "output_type": "error",
          "ename": "NameError",
          "evalue": "ignored",
          "traceback": [
            "\u001b[0;31m---------------------------------------------------------------------------\u001b[0m",
            "\u001b[0;31mNameError\u001b[0m                                 Traceback (most recent call last)",
            "\u001b[0;32m<ipython-input-23-5a28734d3a20>\u001b[0m in \u001b[0;36m<module>\u001b[0;34m\u001b[0m\n\u001b[1;32m      1\u001b[0m \u001b[0;31m#del statement will completely delete the list\u001b[0m\u001b[0;34m\u001b[0m\u001b[0;34m\u001b[0m\u001b[0;34m\u001b[0m\u001b[0m\n\u001b[0;32m----> 2\u001b[0;31m \u001b[0;32mdel\u001b[0m \u001b[0mli1\u001b[0m\u001b[0;34m\u001b[0m\u001b[0;34m\u001b[0m\u001b[0m\n\u001b[0m\u001b[1;32m      3\u001b[0m \u001b[0mli1\u001b[0m\u001b[0;34m\u001b[0m\u001b[0;34m\u001b[0m\u001b[0m\n",
            "\u001b[0;31mNameError\u001b[0m: name 'li1' is not defined"
          ]
        }
      ]
    },
    {
      "cell_type": "markdown",
      "source": [
        "##**12. Describe how list values and string values are identical.**\n",
        "\n",
        "**ANS -**\n",
        "\n",
        "Both lists and strings can be passed to len(), have indexes and slices, be used in for loops, be concatenated or replicated, and be used with the in and not in operators."
      ],
      "metadata": {
        "id": "3PGdT2GPqzOR"
      }
    },
    {
      "cell_type": "markdown",
      "source": [
        "##**13. What's the difference between tuples and lists?**\n",
        "\n",
        "**ANS -**\n",
        "\n",
        "Lists are mutable; they can have values added, removed, or changed. Tuples are immutable; they cannot be changed at all. Also, tuples are written using parentheses, ( and ), while lists use the square brackets, [ and ]."
      ],
      "metadata": {
        "id": "-PpK5144rpRN"
      }
    },
    {
      "cell_type": "markdown",
      "source": [
        "##**14. How do you type a tuple value that only contains the integer 42?**\n",
        "\n",
        "**ANS -**  (42,)(The trailing comma is mandatory.)"
      ],
      "metadata": {
        "id": "96WyO6wur-n9"
      }
    },
    {
      "cell_type": "code",
      "source": [
        "type((42)) #without tailling comma it is int."
      ],
      "metadata": {
        "colab": {
          "base_uri": "https://localhost:8080/"
        },
        "id": "A6_LYJ8spDbC",
        "outputId": "6bec43f1-6e6a-4710-aaf7-2cb3fb7a6cc9"
      },
      "execution_count": 16,
      "outputs": [
        {
          "output_type": "execute_result",
          "data": {
            "text/plain": [
              "int"
            ]
          },
          "metadata": {},
          "execution_count": 16
        }
      ]
    },
    {
      "cell_type": "code",
      "source": [
        "type((42,)) # with tailing comma it is tuple."
      ],
      "metadata": {
        "colab": {
          "base_uri": "https://localhost:8080/"
        },
        "id": "OWRVQ5XEs0Z0",
        "outputId": "fece0227-2016-4887-cec2-d13d645ab596"
      },
      "execution_count": 17,
      "outputs": [
        {
          "output_type": "execute_result",
          "data": {
            "text/plain": [
              "tuple"
            ]
          },
          "metadata": {},
          "execution_count": 17
        }
      ]
    },
    {
      "cell_type": "markdown",
      "source": [
        "##**15. How do you get a list values tuple form? How do you get a tuple value's list form?**\n",
        "\n",
        "**ANS -**\n",
        "\n",
        "The tuple() and list() functions, respectively."
      ],
      "metadata": {
        "id": "TYFxGqs2tXCU"
      }
    },
    {
      "cell_type": "code",
      "source": [
        "#Creating a list\n",
        "li1=[1,2,5,'kanha',12.32]\n",
        "\n",
        "#converting list li1 to tuple\n",
        "tup1=tuple(li1)\n",
        "#converting the tuple tup1 to list\n",
        "li2=list(tup1)\n",
        "print(f\"\"\"\n",
        "data type of li1: {type(li1)}\n",
        "data type of tup1: {type(tup1)}\n",
        "data type of li2: {type(li2)}\n",
        "\"\"\" )"
      ],
      "metadata": {
        "colab": {
          "base_uri": "https://localhost:8080/"
        },
        "id": "0J-f39r01p9E",
        "outputId": "cb317228-a903-4a05-aef0-2e405a21812f"
      },
      "execution_count": 20,
      "outputs": [
        {
          "output_type": "stream",
          "name": "stdout",
          "text": [
            "\n",
            "data type of li1: <class 'list'>\n",
            "data type of tup1: <class 'tuple'>\n",
            "data type of li2: <class 'list'>\n",
            "\n"
          ]
        }
      ]
    },
    {
      "cell_type": "markdown",
      "source": [
        "##**16. Variables that \"contain\" list values are not necessarily lists themselves. Instead, what do they contain?**\n",
        "\n",
        "**ANS -**\n",
        "\n",
        "They contain references to list values.\n",
        "\n",
        "\n"
      ],
      "metadata": {
        "id": "4p2Gl2ZHwGZH"
      }
    },
    {
      "cell_type": "markdown",
      "source": [
        "##**17. How do you distinguish between copy.copy() and copy.deepcopy()?**##\n",
        "\n",
        "**ANS -**\n",
        "\n",
        "The copy.copy() function will do a shallow copy of a list, while the copy.deepcopy() function will do a deep copy of a list. That is, only copy.deepcopy() will duplicate any lists inside the list.\n",
        " \n",
        " As you can see that both have the same value but have different IDs.\n",
        "\n"
      ],
      "metadata": {
        "id": "1DaTWYtdyWX6"
      }
    },
    {
      "cell_type": "code",
      "source": [
        "\n",
        "# importing copy module\n",
        "import copy\n",
        " \n",
        "# initializing list 1\n",
        "li1 = [1, 2, [3, 5], 4]\n",
        " \n",
        "# using copy for shallow copy\n",
        "li2 = copy.copy(li1)\n",
        "print(\"li2 ID: \", id(li2), \"Value: \", li2)\n",
        "# using deepcopy for deepcopy\n",
        "li3 = copy.deepcopy(li1)\n",
        "print(\"li3 ID: \", id(li3), \"Value: \", li3)"
      ],
      "metadata": {
        "colab": {
          "base_uri": "https://localhost:8080/"
        },
        "id": "xnJL28Q6tE9H",
        "outputId": "4fbc54b5-0002-4be3-b137-365fb4b71d41"
      },
      "execution_count": 18,
      "outputs": [
        {
          "output_type": "stream",
          "name": "stdout",
          "text": [
            "li2 ID:  139956466297904 Value:  [1, 2, [3, 5], 4]\n",
            "li3 ID:  139956466297424 Value:  [1, 2, [3, 5], 4]\n"
          ]
        }
      ]
    }
  ]
}