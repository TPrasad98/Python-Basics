{
 "cells": [
  {
   "cell_type": "markdown",
   "id": "f80e0d20",
   "metadata": {},
   "source": [
    "# Programming Assignment - 16"
   ]
  },
  {
   "cell_type": "markdown",
   "id": "dc30bd85",
   "metadata": {},
   "source": [
    "# Question1.\n",
    "Write a function that stutters a word as if someone is struggling to read it. The\n",
    "first two letters are repeated twice with an ellipsis ... and space after each, and then the\n",
    "word is pronounced with a question mark ?.\n",
    "\n",
    "Examples\n",
    "\n",
    "stutter(&quot;incredible&quot;) ➞ &quot;in... in... incredible?&quot;\n",
    "\n",
    "stutter(&quot;enthusiastic&quot;) ➞ &quot;en... en... enthusiastic?&quot;\n",
    "\n",
    "stutter(&quot;outstanding&quot;) ➞ &quot;ou... ou... outstanding?&quot;\n",
    "\n",
    "\n",
    "Hint :- Assume all input is in lower case and at least two characters long."
   ]
  },
  {
   "cell_type": "code",
   "execution_count": 4,
   "id": "e82c15d0",
   "metadata": {},
   "outputs": [
    {
     "name": "stdout",
     "output_type": "stream",
     "text": [
      "Enter the word :incrdible\n",
      "in... in... incrdible?\n"
     ]
    }
   ],
   "source": [
    "def shutter(word):\n",
    "    pro = word[:2]\n",
    "    return (2*(pro +\"... \")) + word +\"?\"\n",
    "\n",
    "word = input(\"Enter the word :\")\n",
    "print(shutter(word))"
   ]
  },
  {
   "cell_type": "markdown",
   "id": "a2b94238",
   "metadata": {},
   "source": [
    "# Question 2.\n",
    "Create a function that takes an angle in radians and returns the corresponding\n",
    "angle in degrees rounded to one decimal place.\n",
    "\n",
    "Examples\n",
    "\n",
    "radians_to_degrees(1) ➞ 57.3\n",
    "\n",
    "radians_to_degrees(20) ➞ 1145.9\n",
    "\n",
    "radians_to_degrees(50) ➞ 2864.8"
   ]
  },
  {
   "cell_type": "code",
   "execution_count": 4,
   "id": "67ad4bf6",
   "metadata": {},
   "outputs": [
    {
     "name": "stdout",
     "output_type": "stream",
     "text": [
      "Enter the Radian : 1\n",
      "degree = 57.3\n"
     ]
    }
   ],
   "source": [
    "import math\n",
    "def radians_to_degrees(radian):\n",
    "    #pi = 3.14159\n",
    "    degree = radian * (180/math.pi)\n",
    "    return degree\n",
    "radian = float(input('Enter the Radian : '))\n",
    "print(\"degree =\",round(radians_to_degrees(radian),1))"
   ]
  },
  {
   "cell_type": "markdown",
   "id": "f50e5d7d",
   "metadata": {},
   "source": [
    "# Question 3. \n",
    "\n",
    "In this challenge, establish if a given integer num is a Curzon number. If 1 plus\n",
    "2 elevated to num is exactly divisible by 1 plus 2 multiplied by num, then num is a Curzon\n",
    "number.\n",
    "\n",
    "Given a non-negative integer num, implement a function that returns True if num is a Curzon\n",
    "number, or False otherwise.\n",
    "\n",
    "Examples\n",
    "\n",
    " **is_curzon(5) ➞ True**\n",
    "\n",
    "#2 ** 5 + 1 = 33\n",
    "\n",
    "#2 * 5 + 1 = 11\n",
    "\n",
    "#33 is a multiple of 11\n",
    "\n",
    "\n",
    "\n",
    "**is_curzon(10) ➞ False**\n",
    "\n",
    "#2 ** 10 + 1 = 1025\n",
    "\n",
    "#2 * 10 + 1 = 21\n",
    "\n",
    "#1025 is not a multiple of 21\n",
    "\n",
    "\n",
    "\n",
    "**is_curzon(14) ➞ True**\n",
    "\n",
    "#2 ** 14 + 1 = 16385\n",
    "\n",
    "#2 * 14 + 1 = 29\n",
    "\n",
    "#16385 is a multiple of 29"
   ]
  },
  {
   "cell_type": "code",
   "execution_count": 2,
   "id": "0b787612",
   "metadata": {},
   "outputs": [
    {
     "name": "stdout",
     "output_type": "stream",
     "text": [
      "Enter number:14\n"
     ]
    },
    {
     "data": {
      "text/plain": [
       "True"
      ]
     },
     "execution_count": 2,
     "metadata": {},
     "output_type": "execute_result"
    }
   ],
   "source": [
    "def is_curzon(num):\n",
    "    power,product = 0,0\n",
    "    \n",
    "    # Find 2**num + 1\n",
    "    power = pow(2,num)+1\n",
    "    \n",
    "    #Find 2*num + 1\n",
    "    product = 2*num +1\n",
    "    \n",
    "    if power%product == 0 :\n",
    "        \n",
    "        return True\n",
    "        \n",
    "    else:\n",
    "        return False\n",
    "        \n",
    "num = int(input(\"Enter number:\"))\n",
    "is_curzon(num)\n",
    "        "
   ]
  },
  {
   "cell_type": "markdown",
   "id": "2bcbe72c",
   "metadata": {},
   "source": [
    "# Question 4.\n",
    "\n",
    "Given the side length x find the area of a hexagon.\n",
    "\n",
    "Examples\n",
    "\n",
    "area_of_hexagon(1) ➞ 2.6\n",
    "\n",
    "area_of_hexagon(2) ➞ 10.4\n",
    "\n",
    "area_of_hexagon(3) ➞ 23.4 "
   ]
  },
  {
   "cell_type": "code",
   "execution_count": 6,
   "id": "bc05013a",
   "metadata": {},
   "outputs": [
    {
     "name": "stdout",
     "output_type": "stream",
     "text": [
      "Enter the length : 1\n",
      "Area: 2.6\n"
     ]
    }
   ],
   "source": [
    "# area of a Hexagon\n",
    "# Area = (3 √3(n*n) ) / 2\n",
    "import math\n",
    "def area_of_hexagon(sideLength):     \n",
    "    return ((3 * math.sqrt(3) * (sideLength * sideLength)) / 2);\n",
    "     \n",
    "#length of a side.\n",
    "sideLength = float(input('Enter the length : '))\n",
    "\n",
    "print(\"Area:\",round(area_of_hexagon(sideLength),1))"
   ]
  },
  {
   "cell_type": "markdown",
   "id": "2c5a5344",
   "metadata": {},
   "source": [
    "# Question 5. \n",
    "\n",
    "Create a function that returns a base-2 (binary) representation of a base-10\n",
    "(decimal) string number. To convert is simple: ((2) means base-2 and (10) means base-10)\n",
    "010101001(2) = 1 + 8 + 32 + 128.\n",
    "\n",
    "Going from right to left, the value of the most right bit is 1, now from that every bit to the left\n",
    "will be x2 the value, value of an 8 bit binary numbers are (256, 128, 64, 32, 16, 8, 4, 2, 1).\n",
    "\n",
    "Examples\n",
    "\n",
    "binary(1) ➞ &quot;1&quot;\n",
    "\n",
    "#1* 1 = 1\n",
    "\n",
    "binary(5) ➞ &quot;101&quot;\n",
    "\n",
    "#1* 1 + 1* 4 = 5\n",
    "\n",
    "binary(10) ➞ &quot;1010&quot;\n",
    "\n",
    "#1 * 2 + 1 * 8 = 10"
   ]
  },
  {
   "cell_type": "code",
   "execution_count": 7,
   "id": "45cf562c",
   "metadata": {},
   "outputs": [
    {
     "name": "stdout",
     "output_type": "stream",
     "text": [
      "Enter decimal number:10\n"
     ]
    },
    {
     "data": {
      "text/plain": [
       "'1010'"
      ]
     },
     "execution_count": 7,
     "metadata": {},
     "output_type": "execute_result"
    }
   ],
   "source": [
    "def binary(decimal):\n",
    "    decimal = int(decimal)\n",
    "    binary_str = \"\"\n",
    "    while decimal > 0:\n",
    "        remainder = decimal % 2\n",
    "        binary_str = str(remainder) + binary_str\n",
    "        decimal = decimal // 2\n",
    "    return binary_str if binary_str != \"\" else \"0\"\n",
    "\n",
    "decimal = input(\"Enter decimal number:\")\n",
    "binary(decimal)"
   ]
  },
  {
   "cell_type": "code",
   "execution_count": null,
   "id": "6c22c85f",
   "metadata": {},
   "outputs": [],
   "source": []
  }
 ],
 "metadata": {
  "kernelspec": {
   "display_name": "Python 3 (ipykernel)",
   "language": "python",
   "name": "python3"
  },
  "language_info": {
   "codemirror_mode": {
    "name": "ipython",
    "version": 3
   },
   "file_extension": ".py",
   "mimetype": "text/x-python",
   "name": "python",
   "nbconvert_exporter": "python",
   "pygments_lexer": "ipython3",
   "version": "3.9.12"
  }
 },
 "nbformat": 4,
 "nbformat_minor": 5
}
