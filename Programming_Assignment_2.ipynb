{
  "nbformat": 4,
  "nbformat_minor": 0,
  "metadata": {
    "colab": {
      "provenance": []
    },
    "kernelspec": {
      "name": "python3",
      "display_name": "Python 3"
    },
    "language_info": {
      "name": "python"
    }
  },
  "cells": [
    {
      "cell_type": "markdown",
      "source": [
        "#**Programming Assignment-2**"
      ],
      "metadata": {
        "id": "frBd8EJZN--T"
      }
    },
    {
      "cell_type": "markdown",
      "source": [
        "##**1. Write a Python program to convert kilometers to miles?**"
      ],
      "metadata": {
        "id": "r3Zu9HriOKw2"
      }
    },
    {
      "cell_type": "code",
      "source": [
        "# Taking kilometers input from the user\n",
        "kilometers = float(input(\"Enter value in kilometers: \"))\n",
        "\n",
        "# conversion factor\n",
        "conv_fac = 0.621371\n",
        "\n",
        "# calculate miles\n",
        "miles = kilometers * conv_fac\n",
        "print('%0.2f kilometers is equal to %0.2f miles .' %(kilometers,miles))"
      ],
      "metadata": {
        "colab": {
          "base_uri": "https://localhost:8080/"
        },
        "id": "NdJoOplaOIH8",
        "outputId": "7314d57d-b431-4782-a686-46c2c9ea5227"
      },
      "execution_count": 2,
      "outputs": [
        {
          "output_type": "stream",
          "name": "stdout",
          "text": [
            "Enter value in kilometers: 25.5\n",
            "25.50 kilometers is equal to 15.84 miles .\n"
          ]
        }
      ]
    },
    {
      "cell_type": "markdown",
      "source": [
        "##**2. Write a Python program to convert Celsius to Fahrenheit?**"
      ],
      "metadata": {
        "id": "zMrmAGa9PTcA"
      }
    },
    {
      "cell_type": "code",
      "source": [
        "# Python Program to convert temperature in celsius to fahrenheit\n",
        "\n",
        "# change this value for a different result\n",
        "celsius = 37.5\n",
        "\n",
        "# calculate fahrenheit\n",
        "fahrenheit = (celsius * 1.8) + 32\n",
        "print(f'{celsius} degree Celsius is equal to {fahrenheit} degree Fahrenheit.')\n",
        "\n"
      ],
      "metadata": {
        "colab": {
          "base_uri": "https://localhost:8080/"
        },
        "id": "TbDDxEvYOsjC",
        "outputId": "dd587e80-e48d-477c-a424-1c5d507b97eb"
      },
      "execution_count": 4,
      "outputs": [
        {
          "output_type": "stream",
          "name": "stdout",
          "text": [
            "37.5 degree Celsius is equal to 99.5 degree Fahrenheit.\n"
          ]
        }
      ]
    },
    {
      "cell_type": "markdown",
      "source": [
        "##**3. Write a Python program to display calendar?**"
      ],
      "metadata": {
        "id": "M7I5Cx4sRdri"
      }
    },
    {
      "cell_type": "code",
      "source": [
        "\n",
        "# Python program to display calendar of\n",
        "# given month of the year\n",
        " \n",
        "# import module\n",
        "import calendar\n",
        " \n",
        "yy = 2022\n",
        "mm = 11\n",
        " \n",
        "# display the calendar\n",
        "print(calendar.month(yy, mm))"
      ],
      "metadata": {
        "colab": {
          "base_uri": "https://localhost:8080/"
        },
        "id": "KTgrOH2fRM-E",
        "outputId": "ee1d579e-d589-4838-a221-d3219e3c9741"
      },
      "execution_count": 5,
      "outputs": [
        {
          "output_type": "stream",
          "name": "stdout",
          "text": [
            "   November 2022\n",
            "Mo Tu We Th Fr Sa Su\n",
            "    1  2  3  4  5  6\n",
            " 7  8  9 10 11 12 13\n",
            "14 15 16 17 18 19 20\n",
            "21 22 23 24 25 26 27\n",
            "28 29 30\n",
            "\n"
          ]
        }
      ]
    },
    {
      "cell_type": "markdown",
      "source": [
        "##**4. Write a Python program to solve quadratic equation?**\n"
      ],
      "metadata": {
        "id": "uU-Xf9YFSFA9"
      }
    },
    {
      "cell_type": "code",
      "source": [
        "# Pyton program to find roots of quadratic equation\n",
        "import math\n",
        "\n",
        "#function for finding roots\n",
        "def equation_roots(a,b,c):\n",
        "\n",
        "  #Calculating discriminant using the formula\n",
        "  dis = b*b - 4 * a * c \n",
        "  sqrt_val = math.sqrt(abs(dis))\n",
        "\n",
        "  # checking conditon for discrimnant\n",
        "  if dis > 0:\n",
        "    print(\"real and different roots.\")\n",
        "    print((-b + sqrt_val)/(2*a))\n",
        "    print((-b - sqrt_val)/(2*a))\n",
        "\n",
        "  elif dis == 0:\n",
        "    print(\"real and different roots.\")\n",
        "    print(-b / (2*a))\n",
        "\n",
        "  #when discrimnant is less than 0\n",
        "  else:  \n",
        "    print(\"complex roots.\")\n",
        "    print(-b / (2*a),\"+i\",sqrt_val)\n",
        "    print(-b / (2*a),\"-i\",sqrt_val)\n",
        "\n",
        "\n",
        "#Driver Program\n",
        "a=1\n",
        "b=8\n",
        "c=-12\n",
        "\n",
        "# If a is 0 then incorrect equation\n",
        "if a == 0 :\n",
        "  print(\"Input correct quadratic equation.\")\n",
        "\n",
        "else :\n",
        "  equation_roots(a,b,c)  \n"
      ],
      "metadata": {
        "colab": {
          "base_uri": "https://localhost:8080/"
        },
        "id": "t1Fh5QeDR203",
        "outputId": "bf9f413d-a5c3-4931-fe25-ad39ea9e5ebf"
      },
      "execution_count": 7,
      "outputs": [
        {
          "output_type": "stream",
          "name": "stdout",
          "text": [
            "real and different roots.\n",
            "1.2915026221291814\n",
            "-9.291502622129181\n"
          ]
        }
      ]
    },
    {
      "cell_type": "markdown",
      "source": [
        "##**5. Write a Python program to swap two variables without temp variable?**"
      ],
      "metadata": {
        "id": "fBNHjS-xd0pP"
      }
    },
    {
      "cell_type": "code",
      "source": [
        "x = 5\n",
        "y = 10\n",
        "\n",
        "x, y = y, x\n",
        "print(\"x =\", x)\n",
        "print(\"y =\", y)\n"
      ],
      "metadata": {
        "colab": {
          "base_uri": "https://localhost:8080/"
        },
        "id": "f9wxOe3Sdy0T",
        "outputId": "52daa3b4-d74a-457b-cd66-91f82e18b46c"
      },
      "execution_count": 11,
      "outputs": [
        {
          "output_type": "stream",
          "name": "stdout",
          "text": [
            "x = 10\n",
            "y = 5\n"
          ]
        }
      ]
    }
  ]
}