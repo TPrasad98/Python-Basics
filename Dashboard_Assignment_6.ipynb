{
  "nbformat": 4,
  "nbformat_minor": 0,
  "metadata": {
    "colab": {
      "provenance": []
    },
    "kernelspec": {
      "name": "python3",
      "display_name": "Python 3"
    },
    "language_info": {
      "name": "python"
    }
  },
  "cells": [
    {
      "cell_type": "markdown",
      "source": [
        "#**ASSIGNMENT-6**"
      ],
      "metadata": {
        "id": "3GYdvsc4jXfV"
      }
    },
    {
      "cell_type": "markdown",
      "source": [
        "##**1. What are escape characters, and how do you use them?**\n",
        "\n",
        "**ANS-**\n",
        "\n",
        "* To insert characters that are illegal in a string, we use an escape character.\n",
        "\n",
        "* An escape character is a backslash \\ followed by the character you want to insert.\n",
        "\n",
        "* An example of an illegal character is a double quote inside a string that is surrounded by double quotes:\n",
        "\n",
        "**EXAMPLE -**\n",
        "   \n",
        "* You will get an error if you use double quotes inside a string that is surrounded by double quotes:\n",
        "\n",
        "    "
      ],
      "metadata": {
        "id": "H8WacOPjj1-V"
      }
    },
    {
      "cell_type": "code",
      "source": [
        "  txt = \"We are the so-called \"Vikings\" from the north.\""
      ],
      "metadata": {
        "colab": {
          "base_uri": "https://localhost:8080/",
          "height": 130
        },
        "id": "gjuePFcBlbbv",
        "outputId": "f48e8710-1ab2-40be-aef8-5f3e7a3ee2b8"
      },
      "execution_count": 1,
      "outputs": [
        {
          "output_type": "error",
          "ename": "SyntaxError",
          "evalue": "ignored",
          "traceback": [
            "\u001b[0;36m  File \u001b[0;32m\"<ipython-input-1-56cdf4283a8e>\"\u001b[0;36m, line \u001b[0;32m1\u001b[0m\n\u001b[0;31m    txt = \"We are the so-called \"Vikings\" from the north.\"\u001b[0m\n\u001b[0m                                       ^\u001b[0m\n\u001b[0;31mSyntaxError\u001b[0m\u001b[0;31m:\u001b[0m invalid syntax\n"
          ]
        }
      ]
    },
    {
      "cell_type": "markdown",
      "source": [
        "* To fix this problem, use the escape character \\ \":\n",
        "\n",
        "**EXAMPLE-**\n",
        "\n",
        "* The escape character allows you to use double quotes when you normally would not be allowed:"
      ],
      "metadata": {
        "id": "meNAikJRlpXW"
      }
    },
    {
      "cell_type": "code",
      "source": [
        "txt = \"We are the so-called \\\"Vikings\\\" from the north.\""
      ],
      "metadata": {
        "id": "t-gdTyE9limh"
      },
      "execution_count": 2,
      "outputs": []
    },
    {
      "cell_type": "markdown",
      "source": [
        "##**2.What do the escape characters n and t stand for?**\n",
        "\n",
        "**ANS-**\n",
        "\n",
        " * **\\n is a newline**\n",
        " \n",
        " ***\\t is a tab.**\n"
      ],
      "metadata": {
        "id": "7mp9OYXLmXkO"
      }
    },
    {
      "cell_type": "code",
      "source": [
        " print ('apple\\torange') #\\t creates a tab"
      ],
      "metadata": {
        "colab": {
          "base_uri": "https://localhost:8080/"
        },
        "id": "RySSzoLkl4Od",
        "outputId": "a7755e50-4750-4b6c-fd27-5fff49c17375"
      },
      "execution_count": 4,
      "outputs": [
        {
          "output_type": "stream",
          "name": "stdout",
          "text": [
            "apple\torange\n"
          ]
        }
      ]
    },
    {
      "cell_type": "code",
      "source": [
        "print ('apple\\norange') # \\n creates a new line"
      ],
      "metadata": {
        "colab": {
          "base_uri": "https://localhost:8080/"
        },
        "id": "zX_p5n3pnCD9",
        "outputId": "a002c1e9-0696-45ac-ad2b-be76610b9ff3"
      },
      "execution_count": 5,
      "outputs": [
        {
          "output_type": "stream",
          "name": "stdout",
          "text": [
            "apple\n",
            "orange\n"
          ]
        }
      ]
    },
    {
      "cell_type": "markdown",
      "source": [
        "##**3. What is the way to include backslash characters in a string?**\n",
        "\n",
        "**ANS -**\n",
        "\n",
        "* To insert characters that are illegal in a string, use an escape character. An escape character is a backslash \\ followed by the character you want to insert.\n",
        "\n",
        "\n",
        "* The \\\\ escape character will represent a backslash character."
      ],
      "metadata": {
        "id": "8-W__2-Sn2X2"
      }
    },
    {
      "cell_type": "markdown",
      "source": [
        "##**4. The string \"Howl's Moving Castle\" is a correct value. Why isn't the single quote character in theword Howl's not escaped a problem?**\n",
        "\n",
        "\n",
        "**ANS-**\n",
        "\n",
        "* The single quote in Howl's is fine because we've used double quotes to mark the beginning and end of the string."
      ],
      "metadata": {
        "id": "F1OpgkfiqVuv"
      }
    },
    {
      "cell_type": "markdown",
      "source": [
        "##**5. How do you write a string of newlines if you don't want to use the n character?**\n",
        "\n",
        "**ANS-**\n",
        "\n",
        "* Multiline strings allow you to use newlines in strings without the \\n escape character.\n",
        "* You can assign a multiline string to a variable by using three quotes:\n",
        "\n",
        "**EXAMPLE -**\n"
      ],
      "metadata": {
        "id": "Y8jHYl8WsCWy"
      }
    },
    {
      "cell_type": "code",
      "source": [
        "a = \"\"\"Lorem ipsum dolor sit amet,\n",
        "consectetur adipiscing elit,\n",
        "sed do eiusmod tempor incididunt\n",
        "ut labore et dolore magna aliqua.\"\"\"\n",
        "print(a)"
      ],
      "metadata": {
        "colab": {
          "base_uri": "https://localhost:8080/"
        },
        "id": "CPG6f_ikqVWt",
        "outputId": "0e1f3805-96f1-43cf-8293-30d91876536c"
      },
      "execution_count": 6,
      "outputs": [
        {
          "output_type": "stream",
          "name": "stdout",
          "text": [
            "Lorem ipsum dolor sit amet,\n",
            "consectetur adipiscing elit,\n",
            "sed do eiusmod tempor incididunt\n",
            "ut labore et dolore magna aliqua.\n"
          ]
        }
      ]
    },
    {
      "cell_type": "markdown",
      "source": [
        "##**6. What are the values of the given expressions?**\n",
        "&#39;Hello, world!&#39;[1]\n",
        "\n",
        "&#39;Hello, world!&#39;[0:5]\n",
        "\n",
        "&#39;Hello, world!&#39;[:5]\n",
        "\n",
        "&#39;Hello, world!&#39;[3:]"
      ],
      "metadata": {
        "id": "xfGHysyYuCAk"
      }
    },
    {
      "cell_type": "code",
      "source": [
        "'Hello, world!'[1] # represents 1st index of the string 'Hello, world!'"
      ],
      "metadata": {
        "colab": {
          "base_uri": "https://localhost:8080/",
          "height": 36
        },
        "id": "LNVV46ULnzaA",
        "outputId": "afdbc283-5b76-4389-9859-2d476c0e6632"
      },
      "execution_count": 7,
      "outputs": [
        {
          "output_type": "execute_result",
          "data": {
            "text/plain": [
              "'e'"
            ],
            "application/vnd.google.colaboratory.intrinsic+json": {
              "type": "string"
            }
          },
          "metadata": {},
          "execution_count": 7
        }
      ]
    },
    {
      "cell_type": "code",
      "source": [
        "'Hello, world!'[0:5] #starting from the 0th index upto the 5th index of the string excluding the 5th index"
      ],
      "metadata": {
        "colab": {
          "base_uri": "https://localhost:8080/",
          "height": 36
        },
        "id": "bd1iWkNUuX7J",
        "outputId": "849a11e5-c4b1-4b80-860f-09e87a1dc883"
      },
      "execution_count": 8,
      "outputs": [
        {
          "output_type": "execute_result",
          "data": {
            "text/plain": [
              "'Hello'"
            ],
            "application/vnd.google.colaboratory.intrinsic+json": {
              "type": "string"
            }
          },
          "metadata": {},
          "execution_count": 8
        }
      ]
    },
    {
      "cell_type": "code",
      "source": [
        "'Hello, world!'[:5] # from stating point upto the 5th index excluding the 5th index"
      ],
      "metadata": {
        "colab": {
          "base_uri": "https://localhost:8080/",
          "height": 36
        },
        "id": "Rkm3mx3DuaG4",
        "outputId": "603dff71-2488-4cc3-e4f6-7573a39bcaa7"
      },
      "execution_count": 9,
      "outputs": [
        {
          "output_type": "execute_result",
          "data": {
            "text/plain": [
              "'Hello'"
            ],
            "application/vnd.google.colaboratory.intrinsic+json": {
              "type": "string"
            }
          },
          "metadata": {},
          "execution_count": 9
        }
      ]
    },
    {
      "cell_type": "code",
      "source": [
        "'Hello, world!'[3:] # from 3rd index upto the end point of the string"
      ],
      "metadata": {
        "colab": {
          "base_uri": "https://localhost:8080/",
          "height": 36
        },
        "id": "S8eyB9t_ucRa",
        "outputId": "9be884e1-3610-4271-830a-95b63341eb45"
      },
      "execution_count": 10,
      "outputs": [
        {
          "output_type": "execute_result",
          "data": {
            "text/plain": [
              "'lo, world!'"
            ],
            "application/vnd.google.colaboratory.intrinsic+json": {
              "type": "string"
            }
          },
          "metadata": {},
          "execution_count": 10
        }
      ]
    },
    {
      "cell_type": "markdown",
      "source": [
        "##**7. What are the values of the following expressions?**\n",
        "&#39;Hello&#39;.upper()\n",
        "\n",
        "&#39;Hello&#39;.upper().isupper()\n",
        "\n",
        "&#39;Hello&#39;.upper().lower()"
      ],
      "metadata": {
        "id": "RNP4FbIlvZ47"
      }
    },
    {
      "cell_type": "code",
      "source": [
        "'Hello'.upper() "
      ],
      "metadata": {
        "colab": {
          "base_uri": "https://localhost:8080/",
          "height": 36
        },
        "id": "tku-kREcuqIt",
        "outputId": "1ce51985-3ea2-4ced-f488-54c78b0e999f"
      },
      "execution_count": 11,
      "outputs": [
        {
          "output_type": "execute_result",
          "data": {
            "text/plain": [
              "'HELLO'"
            ],
            "application/vnd.google.colaboratory.intrinsic+json": {
              "type": "string"
            }
          },
          "metadata": {},
          "execution_count": 11
        }
      ]
    },
    {
      "cell_type": "code",
      "source": [
        "'Hello'.upper().isupper()"
      ],
      "metadata": {
        "colab": {
          "base_uri": "https://localhost:8080/"
        },
        "id": "LQbDNO2avj52",
        "outputId": "5c5e6e60-995a-43aa-f240-c1d997f07754"
      },
      "execution_count": 12,
      "outputs": [
        {
          "output_type": "execute_result",
          "data": {
            "text/plain": [
              "True"
            ]
          },
          "metadata": {},
          "execution_count": 12
        }
      ]
    },
    {
      "cell_type": "code",
      "source": [
        "'Hello'.upper().lower()"
      ],
      "metadata": {
        "colab": {
          "base_uri": "https://localhost:8080/",
          "height": 36
        },
        "id": "K-TkMw3dvsaz",
        "outputId": "c74530fb-f7cd-42be-8b0b-da78c7cd2537"
      },
      "execution_count": 13,
      "outputs": [
        {
          "output_type": "execute_result",
          "data": {
            "text/plain": [
              "'hello'"
            ],
            "application/vnd.google.colaboratory.intrinsic+json": {
              "type": "string"
            }
          },
          "metadata": {},
          "execution_count": 13
        }
      ]
    },
    {
      "cell_type": "markdown",
      "source": [
        "##**8. What are the values of the following expressions?**\n",
        "* &#39;Remember, remember, the fifth of July.&#39;.split()\n",
        "\n",
        "* &#39;-&#39;.join(&#39;There can only one.&#39;.split())"
      ],
      "metadata": {
        "id": "SF8jd0a70W0P"
      }
    },
    {
      "cell_type": "code",
      "source": [
        "'Remember, remember, the fifth of July.'.split()"
      ],
      "metadata": {
        "colab": {
          "base_uri": "https://localhost:8080/"
        },
        "id": "AI4GofKn0edO",
        "outputId": "a6878fb1-9e96-4b39-f19d-e39b6fc2a4be"
      },
      "execution_count": 14,
      "outputs": [
        {
          "output_type": "execute_result",
          "data": {
            "text/plain": [
              "['Remember,', 'remember,', 'the', 'fifth', 'of', 'July.']"
            ]
          },
          "metadata": {},
          "execution_count": 14
        }
      ]
    },
    {
      "cell_type": "code",
      "source": [
        "'-'.join('There can only one.'.split())"
      ],
      "metadata": {
        "colab": {
          "base_uri": "https://localhost:8080/",
          "height": 36
        },
        "id": "0o0R0ZNr0hQS",
        "outputId": "05900dcb-6bb2-4088-eb49-c99cd10983cd"
      },
      "execution_count": 15,
      "outputs": [
        {
          "output_type": "execute_result",
          "data": {
            "text/plain": [
              "'There-can-only-one.'"
            ],
            "application/vnd.google.colaboratory.intrinsic+json": {
              "type": "string"
            }
          },
          "metadata": {},
          "execution_count": 15
        }
      ]
    },
    {
      "cell_type": "markdown",
      "source": [
        "##**9. What are the methods for right-justifying, left-justifying, and centering a string?**\n",
        "\n",
        "**ANS -**\n",
        "\n",
        "* The rjust(), ljust(), and center() string methods, respectively."
      ],
      "metadata": {
        "id": "DJ5B0D8H0m0p"
      }
    },
    {
      "cell_type": "code",
      "source": [
        "\n",
        "# Python3 code to demonstrate \n",
        "# the working of center()\n",
        "  \n",
        "cstr = \"I love iNeuron.\"\n",
        "  \n",
        "# Printing the original string\n",
        "print (\"The original string is : \\n\", cstr, \"\\n\")\n",
        "  \n",
        "# Printing the center aligned string \n",
        "print (\"The center aligned string is : \")\n",
        "print (cstr.center(40), \"\\n\")\n",
        "  \n",
        "# Printing the center aligned \n",
        "# string with fillchr\n",
        "print (\"Center aligned string with fillchr: \")\n",
        "print (cstr.center(40, '#'))"
      ],
      "metadata": {
        "colab": {
          "base_uri": "https://localhost:8080/"
        },
        "id": "2lylV11i1YeX",
        "outputId": "868785c3-8b46-4b28-c84d-6d9b961dab1c"
      },
      "execution_count": 20,
      "outputs": [
        {
          "output_type": "stream",
          "name": "stdout",
          "text": [
            "The original string is : \n",
            " I love iNeuron. \n",
            "\n",
            "The center aligned string is : \n",
            "            I love iNeuron.              \n",
            "\n",
            "Center aligned string with fillchr: \n",
            "############I love iNeuron.#############\n"
          ]
        }
      ]
    },
    {
      "cell_type": "code",
      "source": [
        "# Python3 code to demonstrate \n",
        "# the working of  ljust()\n",
        "  \n",
        "lstr = \"I love iNeuron.\"\n",
        "  \n",
        "# Printing the original string\n",
        "print (\"The original string is : \\n\", lstr, \"\\n\")\n",
        "  \n",
        "# Printing the left aligned \n",
        "# string with \"-\" padding \n",
        "print (\"The left aligned string is : \")\n",
        "print (lstr.ljust(40, '-'))"
      ],
      "metadata": {
        "colab": {
          "base_uri": "https://localhost:8080/"
        },
        "id": "7nF4sPpu1kNy",
        "outputId": "5cd37e3c-8349-4045-f457-401f12cc88d6"
      },
      "execution_count": 21,
      "outputs": [
        {
          "output_type": "stream",
          "name": "stdout",
          "text": [
            "The original string is : \n",
            " I love iNeuron. \n",
            "\n",
            "The left aligned string is : \n",
            "I love iNeuron.-------------------------\n"
          ]
        }
      ]
    },
    {
      "cell_type": "code",
      "source": [
        "# Python3 code to demonstrate \n",
        "# the working of rjust()\n",
        "  \n",
        "rstr = \"I love iNeuron.\"\n",
        "  \n",
        "# Printing the original string\n",
        "print (\"The original string is : \\n\", rstr, \"\\n\")\n",
        "  \n",
        "# Printing the right aligned string\n",
        "# with \"-\" padding \n",
        "print (\"The right aligned string is : \")\n",
        "print (rstr.rjust(40, '-'))"
      ],
      "metadata": {
        "colab": {
          "base_uri": "https://localhost:8080/"
        },
        "id": "6XuXyffU1xoX",
        "outputId": "a62caa36-1d84-4ba3-ffc5-d38680439cc2"
      },
      "execution_count": 22,
      "outputs": [
        {
          "output_type": "stream",
          "name": "stdout",
          "text": [
            "The original string is : \n",
            " I love iNeuron. \n",
            "\n",
            "The right aligned string is : \n",
            "-------------------------I love iNeuron.\n"
          ]
        }
      ]
    },
    {
      "cell_type": "markdown",
      "source": [
        "##**10. What is the best way to remove whitespace characters from the start or end?**\n",
        "\n",
        "\n",
        "**ANS-**\n",
        "\n",
        "* The lstrip() and rstrip() methods remove whitespace from the left and right ends of a string, respectively.\n",
        "\n"
      ],
      "metadata": {
        "id": "rgUl3HG92DEh"
      }
    },
    {
      "cell_type": "code",
      "source": [
        "# Python code to demonstrate working of \n",
        "# strip(), lstrip() and rstrip()\n",
        "str = \"---iNeuron---\"\n",
        "  \n",
        "# using strip() to delete all '-'\n",
        "print ( \" String after stripping all '-' is : \", end=\"\")\n",
        "print ( str.strip('-') )\n",
        "  \n",
        "# using lstrip() to delete all trailing '-'\n",
        "print ( \" String after stripping all leading '-' is : \", end=\"\")\n",
        "print ( str.lstrip('-') )\n",
        "  \n",
        "# using rstrip() to delete all leading '-'\n",
        "print ( \" String after stripping all trailing '-' is : \", end=\"\")\n",
        "print ( str.rstrip('-') )"
      ],
      "metadata": {
        "colab": {
          "base_uri": "https://localhost:8080/"
        },
        "id": "y5M1TJu71_PY",
        "outputId": "6ffa295d-0f11-4d48-d505-528c1ca99fc2"
      },
      "execution_count": 23,
      "outputs": [
        {
          "output_type": "stream",
          "name": "stdout",
          "text": [
            " String after stripping all '-' is : iNeuron\n",
            " String after stripping all leading '-' is : iNeuron---\n",
            " String after stripping all trailing '-' is : ---iNeuron\n"
          ]
        }
      ]
    }
  ]
}