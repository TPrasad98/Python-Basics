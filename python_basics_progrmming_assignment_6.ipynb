{
  "nbformat": 4,
  "nbformat_minor": 0,
  "metadata": {
    "colab": {
      "provenance": []
    },
    "kernelspec": {
      "name": "python3",
      "display_name": "Python 3"
    },
    "language_info": {
      "name": "python"
    }
  },
  "cells": [
    {
      "cell_type": "markdown",
      "source": [
        "## **1. Write a Python Program to Display Fibonacci Sequence Using Recursion?**\n"
      ],
      "metadata": {
        "id": "4NX13eLG1YGp"
      }
    },
    {
      "cell_type": "code",
      "source": [
        "def fib_no(n):\n",
        "  if n <= 1 :\n",
        "    return n\n",
        "\n",
        "  else:\n",
        "    return fib_no(n-1) + fib_no(n-2)\n",
        "\n",
        "\n",
        "#Take input from the user\n",
        "nterms = int(input(\"How many terms :\"))\n",
        "\n",
        "#Check if the number of terms are valid or not\n",
        "if nterms <= 0 :\n",
        "  print(\"Please enter a positive integer...\")\n",
        "\n",
        "else :\n",
        "  print(\"Fibonaci  Sequence...\")\n",
        "  for i in range(nterms):\n",
        "    print(fib_no(i))"
      ],
      "metadata": {
        "colab": {
          "base_uri": "https://localhost:8080/"
        },
        "id": "bKRZ8yJZ1d5f",
        "outputId": "4832de57-c126-48fb-db0d-64e6190f27eb"
      },
      "execution_count": 5,
      "outputs": [
        {
          "output_type": "stream",
          "name": "stdout",
          "text": [
            "How many terms :12\n",
            "Fibonaci  Sequence...\n",
            "0\n",
            "1\n",
            "1\n",
            "2\n",
            "3\n",
            "5\n",
            "8\n",
            "13\n",
            "21\n",
            "34\n",
            "55\n",
            "89\n"
          ]
        }
      ]
    },
    {
      "cell_type": "markdown",
      "source": [
        "## **2. Write a Python Program to Find Factorial of Number Using Recursion?**"
      ],
      "metadata": {
        "id": "j_Kt_c_M4Uru"
      }
    },
    {
      "cell_type": "code",
      "source": [
        "def rec_facto(m):\n",
        "  if m < 0:\n",
        "    print(\"Sorry..,Factorial doesn't exist for negative number\")\n",
        "\n",
        "  elif m == 0 or m == 1 :\n",
        "    return 1\n",
        "\n",
        "  else :\n",
        "    return m*rec_facto(m-1)\n",
        "\n",
        "rec_facto(5)    "
      ],
      "metadata": {
        "colab": {
          "base_uri": "https://localhost:8080/"
        },
        "id": "1S1mCar32JzG",
        "outputId": "5ab6de2e-815d-4bdf-db04-0d96ab43117e"
      },
      "execution_count": 8,
      "outputs": [
        {
          "output_type": "execute_result",
          "data": {
            "text/plain": [
              "120"
            ]
          },
          "metadata": {},
          "execution_count": 8
        }
      ]
    },
    {
      "cell_type": "markdown",
      "source": [
        "## **3. Write a Python Program to calculate your Body Mass Index?**\n"
      ],
      "metadata": {
        "id": "hZeWTtRW74uq"
      }
    },
    {
      "cell_type": "code",
      "source": [
        "def BMI(height,weight):\n",
        "  bmi = weight/(height**2)\n",
        "  return bmi\n",
        "\n",
        "\n",
        "height = float(input(\"Enter the height in meters:\"))\n",
        "weight = float(input(\"Enter the weight in kgs :\"))\n",
        "\n",
        "bmi = BMI(height,weight)\n",
        "print(\"The BMI is\",format(bmi),\"so \",end ='')\n",
        "\n",
        "if (bmi < 18.5):\n",
        "    print(\"underweight\")\n",
        " \n",
        "elif ( bmi >= 18.5 and bmi < 24.9):\n",
        "    print(\"Healthy\")\n",
        " \n",
        "elif ( bmi >= 24.9 and bmi < 30):\n",
        "    print(\"overweight\")\n",
        " \n",
        "elif ( bmi >=30):\n",
        "    print(\"Suffering from Obesity\")"
      ],
      "metadata": {
        "colab": {
          "base_uri": "https://localhost:8080/"
        },
        "id": "WbbK61Wb8juK",
        "outputId": "05e45670-54b5-4741-ebdf-86608a8893a4"
      },
      "execution_count": 15,
      "outputs": [
        {
          "output_type": "stream",
          "name": "stdout",
          "text": [
            "Enter the height in meters:1.875\n",
            "Enter the weight in kgs :77\n",
            "The BMI is 21.90222222222222 so Healthy\n"
          ]
        }
      ]
    },
    {
      "cell_type": "markdown",
      "source": [
        "## **4. Write a Python Program to calculate the natural logarithm of any number?**"
      ],
      "metadata": {
        "id": "XCzwTUfM_Xaj"
      }
    },
    {
      "cell_type": "code",
      "source": [
        "import math\n",
        "\n",
        "number = int(input(\"Enter the number: \"))\n",
        "\n",
        "ans = math.log(number)\n",
        "# Printing the log base e of number\n",
        "print(\"The natural logarithm of  \",number,\"is \",ans)"
      ],
      "metadata": {
        "colab": {
          "base_uri": "https://localhost:8080/"
        },
        "id": "wIw1YGnh_A96",
        "outputId": "1a461911-cfac-4731-d04f-f0579f206a13"
      },
      "execution_count": 16,
      "outputs": [
        {
          "output_type": "stream",
          "name": "stdout",
          "text": [
            "Enter the number: 12\n",
            "The natural logarithm of   12 is  2.4849066497880004\n"
          ]
        }
      ]
    },
    {
      "cell_type": "markdown",
      "source": [
        "## **5. Write a Python Program for cube sum of first n natural numbers?**"
      ],
      "metadata": {
        "id": "jZHqzhAfBDfZ"
      }
    },
    {
      "cell_type": "code",
      "source": [
        "def cube_sum(n):\n",
        "  sum = 0\n",
        "  for i in range(1,n+1):\n",
        "    sum += pow(i,3)\n",
        "  return sum\n",
        "\n",
        "\n",
        "print(cube_sum(11))"
      ],
      "metadata": {
        "colab": {
          "base_uri": "https://localhost:8080/"
        },
        "id": "IrE-Rg9mAWEK",
        "outputId": "160d5afd-02d1-438c-a9ce-359b262b49f8"
      },
      "execution_count": 20,
      "outputs": [
        {
          "output_type": "stream",
          "name": "stdout",
          "text": [
            "4356\n"
          ]
        }
      ]
    }
  ]
}