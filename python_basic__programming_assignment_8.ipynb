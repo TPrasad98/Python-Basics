{
  "nbformat": 4,
  "nbformat_minor": 0,
  "metadata": {
    "colab": {
      "provenance": []
    },
    "kernelspec": {
      "name": "python3",
      "display_name": "Python 3"
    },
    "language_info": {
      "name": "python"
    }
  },
  "cells": [
    {
      "cell_type": "markdown",
      "source": [
        "# **ASSIGNMENT - 8**"
      ],
      "metadata": {
        "id": "hGrQ28U6kM1v"
      }
    },
    {
      "cell_type": "markdown",
      "source": [
        "## **1. Write a Python Program to Add Two Matrices?**"
      ],
      "metadata": {
        "id": "U6Hu-_QHkof-"
      }
    },
    {
      "cell_type": "code",
      "source": [
        "X = [[12,7,3],\n",
        "    [4 ,5,6],\n",
        "    [7 ,8,9]]\n",
        "\n",
        "Y = [[5,8,1],\n",
        "    [6,7,3],\n",
        "    [4,5,9]]\n",
        "\n",
        "result = [[X[i][j] + Y[i][j]  for j in range(len(X[0]))] for i in range(len(X))]\n",
        "\n",
        "for r in result:\n",
        "   print(r)\n"
      ],
      "metadata": {
        "colab": {
          "base_uri": "https://localhost:8080/"
        },
        "id": "JCZjPkIWknEI",
        "outputId": "4f7604ad-b604-44c6-a6da-9e4ef1da05db"
      },
      "execution_count": null,
      "outputs": [
        {
          "output_type": "stream",
          "name": "stdout",
          "text": [
            "[17, 15, 4]\n",
            "[10, 12, 9]\n",
            "[11, 13, 18]\n"
          ]
        }
      ]
    },
    {
      "cell_type": "markdown",
      "source": [
        "## **2. Write a Python Program to Multiply Two Matrices?**"
      ],
      "metadata": {
        "id": "CXR6lIDZnV0e"
      }
    },
    {
      "cell_type": "code",
      "source": [
        "#3x3 matrix\n",
        "X = [[12,7,3],\n",
        "    [4 ,5,6],\n",
        "    [7 ,8,9]]\n",
        "\n",
        "# 3x4 matrix\n",
        "Y = [[5,8,1,2],\n",
        "    [6,7,3,8],\n",
        "    [4,5,9,6]]\n",
        "\n",
        "# result in 3X4  matrix\n",
        "result = [[0,0,0,0],\n",
        "          [0,0,0,0],\n",
        "          [0,0,0,0]]\n",
        "\n",
        "#iterating through rows of x\n",
        "for i in range(len(X)):\n",
        "  # iterate through the columns of Y\n",
        "  for j in range(len(Y[0])) :\n",
        "    # iterate through the rows of Y\n",
        "    for k in range(len(Y)):\n",
        "      result[i][j] += X[i][k] * Y[k][j]\n",
        "\n",
        "for r in result :\n",
        "  print(r)"
      ],
      "metadata": {
        "id": "rHIxUQFvmhbn",
        "colab": {
          "base_uri": "https://localhost:8080/"
        },
        "outputId": "2a2a2a99-3125-4bc7-cfd7-5a4093e046ad"
      },
      "execution_count": 3,
      "outputs": [
        {
          "output_type": "stream",
          "name": "stdout",
          "text": [
            "[114, 160, 60, 98]\n",
            "[74, 97, 73, 84]\n",
            "[119, 157, 112, 132]\n"
          ]
        }
      ]
    },
    {
      "cell_type": "markdown",
      "source": [
        "## **3. Write a Python Program to Transpose a Matrix?**"
      ],
      "metadata": {
        "id": "ggaQAuVbB4zI"
      }
    },
    {
      "cell_type": "code",
      "source": [
        "#3x2 matrix\n",
        "X = [[12,7],\n",
        "    [4 ,5],\n",
        "    [3 ,8]]\n",
        "\n",
        "#2x3 matrix\n",
        "result = [[0,0,0],\n",
        "         [0,0,0]]\n",
        "\n",
        "\n",
        "# iterate through rows..\n",
        "for i in range(len(X)):\n",
        "  #iterate through columns..\n",
        "  for j in range(len(X[0])):\n",
        "    result[j][i] = X[i][j]\n",
        "\n",
        "for r in result :\n",
        "  print(r)"
      ],
      "metadata": {
        "colab": {
          "base_uri": "https://localhost:8080/"
        },
        "id": "YmpLWSFsAsyA",
        "outputId": "b57d3e33-a099-4753-ce05-6dace73ade26"
      },
      "execution_count": 7,
      "outputs": [
        {
          "output_type": "stream",
          "name": "stdout",
          "text": [
            "[12, 4, 3]\n",
            "[7, 5, 8]\n"
          ]
        }
      ]
    },
    {
      "cell_type": "markdown",
      "source": [
        "## **4. Write a Python Program to Sort Words in Alphabetic Order?**"
      ],
      "metadata": {
        "id": "QiiLALXTErJO"
      }
    },
    {
      "cell_type": "code",
      "source": [
        "def ALPha(S):\n",
        "  s = S.split()\n",
        "  for i in range(len(s)):\n",
        "    # Convert all words into lowercase\n",
        "    s[i] = s[i].lower()\n",
        "  S = sorted(s)\n",
        "  return ' '.join(S)\n",
        "   \n",
        "\n",
        "# Driver code\n",
        "S = \"HE gives ME a Good ShOE\"\n",
        " \n",
        "# function call\n",
        "ALPha(S)"
      ],
      "metadata": {
        "colab": {
          "base_uri": "https://localhost:8080/",
          "height": 36
        },
        "id": "R9pAqHMrGa4N",
        "outputId": "4604b13c-9c58-4367-ef61-b4e59cbd345f"
      },
      "execution_count": 22,
      "outputs": [
        {
          "output_type": "execute_result",
          "data": {
            "text/plain": [
              "'a gives good he me shoe'"
            ],
            "application/vnd.google.colaboratory.intrinsic+json": {
              "type": "string"
            }
          },
          "metadata": {},
          "execution_count": 22
        }
      ]
    },
    {
      "cell_type": "markdown",
      "source": [
        "## **5. Write a Python Program to Remove Punctuation From a String?**"
      ],
      "metadata": {
        "id": "DMT5kj12Ijv_"
      }
    },
    {
      "cell_type": "code",
      "source": [
        "# define punctuation\n",
        "punctuations = '''!()-[]{};:'\"\\,<>./?@#$%^&*_~'''\n",
        "\n",
        "my_str = input(\"Enter a string: \")\n",
        "\n",
        "# remove punctuation from the string\n",
        "no_punct = \"\"\n",
        "for char in my_str:\n",
        "   if char not in punctuations:\n",
        "       no_punct += char\n",
        "\n",
        "# display the unpunctuated string\n",
        "print(no_punct)"
      ],
      "metadata": {
        "id": "TVIVqjYmGw2E",
        "outputId": "9d448d28-bdda-438b-fad5-1bc83ce95b0a",
        "colab": {
          "base_uri": "https://localhost:8080/"
        }
      },
      "execution_count": 24,
      "outputs": [
        {
          "output_type": "stream",
          "name": "stdout",
          "text": [
            "Enter a string: \"Hello!!!, he said ---and went.\"\n",
            "Hello he said and went\n"
          ]
        }
      ]
    }
  ]
}