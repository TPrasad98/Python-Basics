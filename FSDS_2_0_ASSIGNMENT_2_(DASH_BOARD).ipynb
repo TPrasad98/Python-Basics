{
  "nbformat": 4,
  "nbformat_minor": 0,
  "metadata": {
    "colab": {
      "provenance": []
    },
    "kernelspec": {
      "name": "python3",
      "display_name": "Python 3"
    },
    "language_info": {
      "name": "python"
    }
  },
  "cells": [
    {
      "cell_type": "markdown",
      "source": [
        "#  **ASSIGNMENT- 2** #"
      ],
      "metadata": {
        "id": "X0woM7iBnx1y"
      }
    },
    {
      "cell_type": "markdown",
      "source": [
        "##**1.What are the two values of the Boolean data type? How do you write them?**##"
      ],
      "metadata": {
        "id": "XUzjTmYrn3ZI"
      }
    },
    {
      "cell_type": "markdown",
      "source": [
        "ANS -\n",
        "\n",
        "Python boolean type is one of the built-in data types provided by Python, which represents one of the two values i.e. True or False. Generally, it is used to represent the truth values of the expressions. For example, 1==1 is True whereas 2<1 is False . \n",
        "\n",
        "* True-   True represents the value 1.\n",
        "\n",
        "* False-  False represents the value 0.\n",
        "\n",
        "Syntax for boolean data type - bool(x)\n",
        "\n",
        "EXAMPLE - "
      ],
      "metadata": {
        "id": "2jcooqhVNx6m"
      }
    },
    {
      "cell_type": "code",
      "source": [
        "\n",
        "a = True # checking boolean type\n",
        "type(a)\n",
        " "
      ],
      "metadata": {
        "id": "CByJKBdSn1D5",
        "colab": {
          "base_uri": "https://localhost:8080/"
        },
        "outputId": "e9cd3c6e-374e-4fcb-9b54-1cff303320d8"
      },
      "execution_count": 2,
      "outputs": [
        {
          "output_type": "execute_result",
          "data": {
            "text/plain": [
              "bool"
            ]
          },
          "metadata": {},
          "execution_count": 2
        }
      ]
    },
    {
      "cell_type": "code",
      "source": [
        " b = 1 # any value other than 0 returns True\n",
        " bool(b)"
      ],
      "metadata": {
        "colab": {
          "base_uri": "https://localhost:8080/"
        },
        "id": "IPkxbBBxPbMT",
        "outputId": "f11c704e-4b5a-45a8-9b72-a597c9c49e5e"
      },
      "execution_count": 13,
      "outputs": [
        {
          "output_type": "execute_result",
          "data": {
            "text/plain": [
              "True"
            ]
          },
          "metadata": {},
          "execution_count": 13
        }
      ]
    },
    {
      "cell_type": "code",
      "source": [
        "c = 0 # 0 returns False\n",
        "bool(c)\n"
      ],
      "metadata": {
        "colab": {
          "base_uri": "https://localhost:8080/"
        },
        "id": "B5-uNJOHQRC3",
        "outputId": "b675aeff-e165-410d-b8ea-f7bcf04477dc"
      },
      "execution_count": 12,
      "outputs": [
        {
          "output_type": "execute_result",
          "data": {
            "text/plain": [
              "False"
            ]
          },
          "metadata": {},
          "execution_count": 12
        }
      ]
    },
    {
      "cell_type": "code",
      "source": [
        "1 == 1 # as the statement is True it will return True\n"
      ],
      "metadata": {
        "colab": {
          "base_uri": "https://localhost:8080/"
        },
        "id": "2HBEMma5Qe4Q",
        "outputId": "97d09b97-356e-4344-d412-5a59f21c4882"
      },
      "execution_count": 16,
      "outputs": [
        {
          "output_type": "execute_result",
          "data": {
            "text/plain": [
              "True"
            ]
          },
          "metadata": {},
          "execution_count": 16
        }
      ]
    },
    {
      "cell_type": "code",
      "source": [
        "2>3 # as the sataement is False it will return False"
      ],
      "metadata": {
        "colab": {
          "base_uri": "https://localhost:8080/"
        },
        "id": "jYEAcgS9RIcq",
        "outputId": "cc53f806-bdcf-4285-a1ca-f1c6417df983"
      },
      "execution_count": 17,
      "outputs": [
        {
          "output_type": "execute_result",
          "data": {
            "text/plain": [
              "False"
            ]
          },
          "metadata": {},
          "execution_count": 17
        }
      ]
    },
    {
      "cell_type": "markdown",
      "source": [
        "## **2. What are the three different types of Boolean operators?** "
      ],
      "metadata": {
        "id": "dV1JpxtzRxBk"
      }
    },
    {
      "cell_type": "markdown",
      "source": [
        "Three different types of Boolean operators  are \n",
        "\n",
        "* Logical AND\n",
        "* Logical OR \n",
        "* Logical NOT \n",
        "\n",
        " It is used to combine conditional statements.\n",
        "\n",
        "  \n",
        " Operator | Syntax | Description\n",
        " - | - | -\n",
        "AND | Logical AND: True if both the operands are true | x and y\n",
        "OR | Logical OR: True if either of the operands is true  | x or y\n",
        "NOT | \tLogical NOT: True if the operand is false |\tnot x  \n",
        "\n",
        "\n",
        "EXAMPLE -"
      ],
      "metadata": {
        "id": "8B4p7C3ATYpk"
      }
    },
    {
      "cell_type": "code",
      "source": [
        "\n",
        "# Examples of Logical Operator\n",
        "a = True\n",
        "b = False\n",
        "  \n",
        "# Print a and b is False\n",
        "print(a and b)\n",
        "  \n",
        "# Print a or b is True\n",
        "print(a or b)\n",
        "  \n",
        "# Print not a is False\n",
        "print(not a)"
      ],
      "metadata": {
        "colab": {
          "base_uri": "https://localhost:8080/"
        },
        "id": "teY7lKBVROIm",
        "outputId": "7eb162a5-d087-439e-a4e3-1853c0c30d3d"
      },
      "execution_count": 18,
      "outputs": [
        {
          "output_type": "stream",
          "name": "stdout",
          "text": [
            "False\n",
            "True\n",
            "False\n"
          ]
        }
      ]
    },
    {
      "cell_type": "markdown",
      "source": [
        "## **3. Make a list of each Boolean operator's truth tables (i.e. every possible combination of Boolean values for the operator and what it evaluate).** \n",
        "\n",
        "ANS -"
      ],
      "metadata": {
        "id": "7rTiE6Z8Wm7D"
      }
    },
    {
      "cell_type": "markdown",
      "source": [
        "## *1.Logical AND truth table -*\n",
        "\n",
        "Statement1 | Statement2 | Result\n",
        " - | - | -\n",
        " True | True | True\n",
        " True | False | False\n",
        " False | True | False\n",
        " False | False | False\n",
        "\n",
        "## *2.Logical OR truth table -* \n",
        "\n",
        "Statement1 | Statement2 | Result\n",
        " - | - | -\n",
        " True | True | True\n",
        " True | False | True\n",
        " False | True | True\n",
        " False | False | False\n",
        "\n",
        "\n",
        "## *3.Logical NOT truth table -* \n",
        "\n",
        "Statement | Result\n",
        "- | -\n",
        " True | False\n",
        "False | True"
      ],
      "metadata": {
        "id": "438SSSIZXt2u"
      }
    },
    {
      "cell_type": "markdown",
      "source": [
        "## **4. What are the values of the following expressions?** "
      ],
      "metadata": {
        "id": "absPWl8Lci1X"
      }
    },
    {
      "cell_type": "code",
      "source": [
        "(5 > 4) and (3 == 5) # True anded with False results False, logical and operation"
      ],
      "metadata": {
        "colab": {
          "base_uri": "https://localhost:8080/"
        },
        "id": "M2K3i_KCVtsv",
        "outputId": "921c78f7-3b1d-450e-a695-437062ce91e2"
      },
      "execution_count": 20,
      "outputs": [
        {
          "output_type": "execute_result",
          "data": {
            "text/plain": [
              "False"
            ]
          },
          "metadata": {},
          "execution_count": 20
        }
      ]
    },
    {
      "cell_type": "code",
      "source": [
        "not (5 > 4) # logical NOT operation "
      ],
      "metadata": {
        "colab": {
          "base_uri": "https://localhost:8080/"
        },
        "id": "FiEyyjW6c1Af",
        "outputId": "bbd5181a-1e7f-43db-f9e2-85053ed8a411"
      },
      "execution_count": 21,
      "outputs": [
        {
          "output_type": "execute_result",
          "data": {
            "text/plain": [
              "False"
            ]
          },
          "metadata": {},
          "execution_count": 21
        }
      ]
    },
    {
      "cell_type": "code",
      "source": [
        "(5 > 4) or (3 == 5) # logical or operation ,TRue ored with False results True"
      ],
      "metadata": {
        "colab": {
          "base_uri": "https://localhost:8080/"
        },
        "id": "mGXtsOaWdQxu",
        "outputId": "17cf1244-3f39-4fab-cc15-47693aa14cd4"
      },
      "execution_count": 22,
      "outputs": [
        {
          "output_type": "execute_result",
          "data": {
            "text/plain": [
              "True"
            ]
          },
          "metadata": {},
          "execution_count": 22
        }
      ]
    },
    {
      "cell_type": "code",
      "source": [
        "not ((5 > 4) or (3 == 5))  # not True returns False"
      ],
      "metadata": {
        "colab": {
          "base_uri": "https://localhost:8080/"
        },
        "id": "_IORHQKHdrPl",
        "outputId": "aec6db5e-36d3-4986-a2ee-cf4b7d44d798"
      },
      "execution_count": 24,
      "outputs": [
        {
          "output_type": "execute_result",
          "data": {
            "text/plain": [
              "False"
            ]
          },
          "metadata": {},
          "execution_count": 24
        }
      ]
    },
    {
      "cell_type": "code",
      "source": [
        "(True and True) and (True == False) #True anded with false results False"
      ],
      "metadata": {
        "colab": {
          "base_uri": "https://localhost:8080/"
        },
        "id": "YoE31Bb0dvwJ",
        "outputId": "fa1f4424-7246-4407-b8f0-6603df3f0563"
      },
      "execution_count": 25,
      "outputs": [
        {
          "output_type": "execute_result",
          "data": {
            "text/plain": [
              "False"
            ]
          },
          "metadata": {},
          "execution_count": 25
        }
      ]
    },
    {
      "cell_type": "code",
      "source": [
        "(not False) or (not True) #True ored with False results True"
      ],
      "metadata": {
        "colab": {
          "base_uri": "https://localhost:8080/"
        },
        "id": "1PhPJ8FdeDEj",
        "outputId": "4c580435-b45c-4162-9b45-a48c79c3a227"
      },
      "execution_count": 26,
      "outputs": [
        {
          "output_type": "execute_result",
          "data": {
            "text/plain": [
              "True"
            ]
          },
          "metadata": {},
          "execution_count": 26
        }
      ]
    },
    {
      "cell_type": "markdown",
      "source": [
        "## **5. What are the six comparison operators?** ##"
      ],
      "metadata": {
        "id": "Ly05bq7VeND4"
      }
    },
    {
      "cell_type": "markdown",
      "source": [
        "###Comparison of Relational operators compares the values. It either returns True or False according to the condition.\n",
        "\n",
        " **serial no.**| **Operator** | **Description** | **Syntax**\n",
        "- | - | - | -\n",
        "1. | > |\tGreater than: True if the left operand is greater than the right\t|x > y\n",
        "2.  | < |\tLess than: True if the left operand is less than the right |\tx < y\n",
        "3. |== |\tEqual to: True if both operands are equal\t | x == y\n",
        "4. |!= |\tNot equal to – True if operands are not equal\t | x != y\n",
        "5. | >=|\tGreater than or equal to True if the left operand is greater than or equal to the right | x >= y\n",
        "6.|<=\t|Less than or equal to True if the left operand is less than or equal to the right|\tx <= y\n",
        "\n",
        " \n",
        " **EXAMPLE -**"
      ],
      "metadata": {
        "id": "qVs3sjYze2xx"
      }
    },
    {
      "cell_type": "code",
      "source": [
        "# Examples of Relational Operators\n",
        "a = 13\n",
        "b = 33\n",
        "  \n",
        "# a > b is False\n",
        "print(a > b)\n",
        "  \n",
        "# a < b is True\n",
        "print(a < b)\n",
        "  \n",
        "# a == b is False\n",
        "print(a == b)\n",
        "  \n",
        "# a != b is True\n",
        "print(a != b)\n",
        "  \n",
        "# a >= b is False\n",
        "print(a >= b)\n",
        "  \n",
        "# a <= b is True\n",
        "print(a <= b)"
      ],
      "metadata": {
        "colab": {
          "base_uri": "https://localhost:8080/"
        },
        "id": "zufa_9V2hfPt",
        "outputId": "fc8911ca-632b-4d51-be5e-731138191f99"
      },
      "execution_count": 27,
      "outputs": [
        {
          "output_type": "stream",
          "name": "stdout",
          "text": [
            "False\n",
            "True\n",
            "False\n",
            "True\n",
            "False\n",
            "True\n"
          ]
        }
      ]
    },
    {
      "cell_type": "markdown",
      "source": [
        "## **6. How do you tell the difference between the equal to and assignment operators? Describe a condition and when you would use one.** ##"
      ],
      "metadata": {
        "id": "IdYXLOnhh3ZT"
      }
    },
    {
      "cell_type": "markdown",
      "source": [
        "* The '=' is the so-called assignment operator and is used to assign the result of the expression on the right side of the operator to the variable on the left side.\n",
        "\n",
        "* The '==' is the so-called equality comparison operator and is used to check whether the two expressions on both sides are equal or not.\n",
        "\n",
        "* It is a common error to mistype '==' as '=' which can lead to errors in IF comparisons, non-initialized variables etc.\n",
        "\n",
        "* In the following example -\n",
        "\n",
        " the variable a is set to 1. In the IF expression, 'a' should be compared to 0, but it is assigned by mistake the value 0 instead. The result of the expression is not a boolean value (true or false) and an error message is generated to inform you about the problem:"
      ],
      "metadata": {
        "id": "g_u2IioAitfB"
      }
    },
    {
      "cell_type": "code",
      "source": [
        "# WRONG CODE\n",
        "a = 1 #assignment operator\n",
        "if a = 0 :  #it should be a comparison  operator\n",
        "   print (\"A is Zero!\")\n",
        "else :\n",
        "   print (\"A is not Zero!\")  \n",
        " # Type error: if-test requires BooleanClass, got: 0  "
      ],
      "metadata": {
        "colab": {
          "base_uri": "https://localhost:8080/",
          "height": 130
        },
        "id": "WJPJAKNkeL8b",
        "outputId": "dca458cb-1641-4999-9590-28d7d1e9f15c"
      },
      "execution_count": 28,
      "outputs": [
        {
          "output_type": "error",
          "ename": "SyntaxError",
          "evalue": "ignored",
          "traceback": [
            "\u001b[0;36m  File \u001b[0;32m\"<ipython-input-28-93be9f23f200>\"\u001b[0;36m, line \u001b[0;32m2\u001b[0m\n\u001b[0;31m    if a = 0 :\u001b[0m\n\u001b[0m         ^\u001b[0m\n\u001b[0;31mSyntaxError\u001b[0m\u001b[0;31m:\u001b[0m invalid syntax\n"
          ]
        }
      ]
    },
    {
      "cell_type": "code",
      "source": [
        "# CORRECT CODE\n",
        "a = 1 #assignment operator\n",
        "if a == 0 :  # comparison  operator\n",
        "   print (\"A is Zero!\")\n",
        "else :\n",
        "   print (\"A is not Zero!\")"
      ],
      "metadata": {
        "colab": {
          "base_uri": "https://localhost:8080/"
        },
        "id": "PodvFJ_okoi9",
        "outputId": "71ccc7eb-9086-4741-d9e5-0cf41d394163"
      },
      "execution_count": 29,
      "outputs": [
        {
          "output_type": "stream",
          "name": "stdout",
          "text": [
            "A is not Zero!\n"
          ]
        }
      ]
    },
    {
      "cell_type": "markdown",
      "source": [
        "## **7. Identify the three blocks in this code:**"
      ],
      "metadata": {
        "id": "9kQeqfCUmWp8"
      }
    },
    {
      "cell_type": "code",
      "source": [
        "spam = 0\n",
        "if spam == 10: ## BLOCK - 1 \n",
        "  print('eggs')\n",
        "if spam > 5:   ## BLOCK - 2\n",
        "  print('bacon')\n",
        "else:          ## BLOCK - 3\n",
        "  print('ham')\n",
        "  print('spam')\n",
        "  print('spam')"
      ],
      "metadata": {
        "colab": {
          "base_uri": "https://localhost:8080/"
        },
        "id": "V-Z5w_TqlQmi",
        "outputId": "ea1e22e2-7dc1-45e1-c8bc-217ff6133373"
      },
      "execution_count": 30,
      "outputs": [
        {
          "output_type": "stream",
          "name": "stdout",
          "text": [
            "ham\n",
            "spam\n",
            "spam\n"
          ]
        }
      ]
    },
    {
      "cell_type": "markdown",
      "source": [
        "### **The three blocks from the above code are as followings -**\n",
        " \n",
        " * **BLOCK-1:**\n",
        "       if spam == 10:  \n",
        "         print('eggs')\n",
        "\n",
        " * **BLOCK-2:**\n",
        "       if spam > 5:   \n",
        "         print('bacon')\n",
        "\n",
        " * **BLOCK-3:**\n",
        "        else:          \n",
        "          print('ham')\n",
        "          print('spam')\n",
        "          print('spam')"
      ],
      "metadata": {
        "id": "3g_05ifZnizG"
      }
    },
    {
      "cell_type": "markdown",
      "source": [
        "## **8. Write code that prints Hello if 1 is stored in spam, prints Howdy if 2 is stored in spam, and prints Greetings! if anything else is stored in spam.**\n",
        "\n",
        "**ANS -**"
      ],
      "metadata": {
        "id": "uTDvVizdpPx5"
      }
    },
    {
      "cell_type": "code",
      "source": [
        "\n",
        "if spam == 1 : # 1 not stored in spam\n",
        "  print('Hello')\n",
        "elif spam == 2 : # 2 not stored in spam\n",
        "  print('Howdy')\n",
        "else :\n",
        "  print('Greetings!')    "
      ],
      "metadata": {
        "colab": {
          "base_uri": "https://localhost:8080/"
        },
        "id": "0K4Mg76RnQXg",
        "outputId": "5e54f974-2ed8-4932-9003-852cfe2ecee1"
      },
      "execution_count": 50,
      "outputs": [
        {
          "output_type": "stream",
          "name": "stdout",
          "text": [
            "Greetings!\n"
          ]
        }
      ]
    },
    {
      "cell_type": "markdown",
      "source": [
        "## **9.If your programme is stuck in an endless loop, what keys you’ll press?**"
      ],
      "metadata": {
        "id": "h4pioK4XrN30"
      }
    },
    {
      "cell_type": "markdown",
      "source": [
        "* The break statement can be used to stop a infinite loop immediately.\n",
        "* You can also stop an infinite loop with CTRL + C ."
      ],
      "metadata": {
        "id": "C3vP4CWGt1b6"
      }
    },
    {
      "cell_type": "code",
      "source": [
        "# Define a variable\n",
        "i = 5\n",
        "\n",
        "# Run this loop while i is less than 15\n",
        "while i < 15:\n",
        "    # Print a message\n",
        "    print(\"Hello, World!\") "
      ],
      "metadata": {
        "id": "RoVk_S-x0l8U"
      },
      "execution_count": null,
      "outputs": []
    },
    {
      "cell_type": "code",
      "source": [
        "# Define a variable\n",
        "i = 5\n",
        "\n",
        "# Run this loop while i is less than 15\n",
        "while i < 15:\n",
        "    # Print a message\n",
        "    print(\"Hello, World!\")\n",
        "  break  "
      ],
      "metadata": {
        "colab": {
          "base_uri": "https://localhost:8080/",
          "height": 130
        },
        "id": "AjC1DhoDwD-l",
        "outputId": "8fefff80-0df6-4279-8f82-342eb9b38a85"
      },
      "execution_count": 40,
      "outputs": [
        {
          "output_type": "error",
          "ename": "IndentationError",
          "evalue": "ignored",
          "traceback": [
            "\u001b[0;36m  File \u001b[0;32m\"<tokenize>\"\u001b[0;36m, line \u001b[0;32m8\u001b[0m\n\u001b[0;31m    break\u001b[0m\n\u001b[0m    ^\u001b[0m\n\u001b[0;31mIndentationError\u001b[0m\u001b[0;31m:\u001b[0m unindent does not match any outer indentation level\n"
          ]
        }
      ]
    },
    {
      "cell_type": "markdown",
      "source": [
        "## **10. How can you tell the difference between break and continue?**"
      ],
      "metadata": {
        "id": "NONOZZ8lwaxC"
      }
    },
    {
      "cell_type": "markdown",
      "source": [
        "* **break :**\n",
        "\n",
        " “break” is used to control the flow of the loop. The statement is used to break out of the loop and passes the control to the statement following immediately after loop.\n",
        "\n",
        "* **continue :**\n",
        "\n",
        " “continue” is also used to control the flow of code. The keyword skips the current iteration of the loop but does not end the loop.\n",
        "\n",
        " **EXAMPLE -**"
      ],
      "metadata": {
        "id": "7oGEqWP9x9mx"
      }
    },
    {
      "cell_type": "code",
      "source": [
        "#Break -\n",
        "# Using for loop\n",
        "for i in range(10):\n",
        "  \n",
        "    print(i, end = \" \")\n",
        "      \n",
        "    # break the loop as soon it sees 6\n",
        "    if i == 6:\n",
        "        break\n",
        "print()\n",
        " \n",
        " \n",
        "# Continue -   \n",
        "# loop from 1 to 10\n",
        "i = 0\n",
        "while i <10:\n",
        "      \n",
        "    # If i is equals to 6,\n",
        "    # continue to next iteration\n",
        "    # without printing\n",
        "    if i == 6:\n",
        "        i+= 1\n",
        "        continue\n",
        "    else:\n",
        "        # otherwise print the value\n",
        "        # of i\n",
        "        print(i, end = \" \")\n",
        "          \n",
        "    i += 1"
      ],
      "metadata": {
        "colab": {
          "base_uri": "https://localhost:8080/"
        },
        "id": "nGYeo5cXwY44",
        "outputId": "7416f7b0-8661-4706-a00b-97c06fbff9f4"
      },
      "execution_count": 41,
      "outputs": [
        {
          "output_type": "stream",
          "name": "stdout",
          "text": [
            "0 1 2 3 4 5 6 \n",
            "0 1 2 3 4 5 7 8 9 "
          ]
        }
      ]
    },
    {
      "cell_type": "markdown",
      "source": [
        "## **11. In a for loop, what is the difference between range(10), range(0, 10), and range(0, 10, 1) ?**\n",
        "\n",
        "**ANS :**"
      ],
      "metadata": {
        "id": "6DnDowY80Nsk"
      }
    },
    {
      "cell_type": "markdown",
      "source": [
        "range() is a built-in function provided by Python. This function is commonly used with a for loop for looping over a range of numbers. This function returns a sequence of numbers that, by default, starts with zero, increments by 1, and ends at a specified number passed as an argument. However, it is possible to provide this function as an argument for the starting number, increment step size, and the number at which it needs to stop.There are three ways in which a range() function can be used:\n",
        "      \n",
        "\n",
        "\n"
      ],
      "metadata": {
        "id": "0w4CnW0r0-9f"
      }
    },
    {
      "cell_type": "markdown",
      "source": [
        "* **range(stop)**\n",
        " * **range(10):** It is the default version of the range() function. It will generate a sequence of numbers starting from 0, incrementing by 1, and ending at 9 excluding the endpoint.\n",
        "\n"
      ],
      "metadata": {
        "id": "GVfY4yNl6siQ"
      }
    },
    {
      "cell_type": "code",
      "source": [
        "for i in range(10):\n",
        "  print(i,end=\" \")"
      ],
      "metadata": {
        "colab": {
          "base_uri": "https://localhost:8080/"
        },
        "id": "DYtaWJ7j61wM",
        "outputId": "686532d8-f973-4fd5-af53-a7bb079380ab"
      },
      "execution_count": 43,
      "outputs": [
        {
          "output_type": "stream",
          "name": "stdout",
          "text": [
            "0 1 2 3 4 5 6 7 8 9 "
          ]
        }
      ]
    },
    {
      "cell_type": "markdown",
      "source": [
        "* **range(start, stop)**\n",
        " * **range(0, 10) :** It will generate a sequence of numbers starting at 0 and   ending at 9 excluding the endpoint, by default incremented by 1.\n",
        "\n"
      ],
      "metadata": {
        "id": "YG1MvDeM6wgc"
      }
    },
    {
      "cell_type": "code",
      "source": [
        "for i in range(0,10):\n",
        "  print(i,end=\" \")"
      ],
      "metadata": {
        "colab": {
          "base_uri": "https://localhost:8080/"
        },
        "id": "2z8je8CZ7q_v",
        "outputId": "5a40ae03-8d29-4137-da1c-f4f53606d58d"
      },
      "execution_count": 44,
      "outputs": [
        {
          "output_type": "stream",
          "name": "stdout",
          "text": [
            "0 1 2 3 4 5 6 7 8 9 "
          ]
        }
      ]
    },
    {
      "cell_type": "markdown",
      "source": [
        "* **range(start,stop,increment)**\n",
        " * **range(0,10,1) :** It will generate a sequence of numbers starting at 0 and ending at 9 excluding the endpoint,  incremented by 1."
      ],
      "metadata": {
        "id": "Kq5niFiV6zVA"
      }
    },
    {
      "cell_type": "code",
      "source": [
        "for i in range(0,10,1):\n",
        "  print(i,end=\" \")"
      ],
      "metadata": {
        "colab": {
          "base_uri": "https://localhost:8080/"
        },
        "id": "Mro9Vmh277l7",
        "outputId": "bcc64e4a-ea74-4760-8966-0ed762f71c29"
      },
      "execution_count": 45,
      "outputs": [
        {
          "output_type": "stream",
          "name": "stdout",
          "text": [
            "0 1 2 3 4 5 6 7 8 9 "
          ]
        }
      ]
    },
    {
      "cell_type": "markdown",
      "source": [
        "**CONCLUSION :**\n",
        "The above three range function have same output but they are written in different ways."
      ],
      "metadata": {
        "id": "9-44w7gx8Go4"
      }
    },
    {
      "cell_type": "markdown",
      "source": [
        "## **12. Write a short program that prints the numbers 1 to 10 using a for loop. Then write an equivalentprogram that prints the numbers 1 to 10 using a while loop.**"
      ],
      "metadata": {
        "id": "xinOWIgz8sVD"
      }
    },
    {
      "cell_type": "markdown",
      "source": [
        "* **Using For Loop :**"
      ],
      "metadata": {
        "id": "zIphcwTM84VE"
      }
    },
    {
      "cell_type": "code",
      "source": [
        "for i in range(1,11):\n",
        "  print(i,end=\" \")"
      ],
      "metadata": {
        "colab": {
          "base_uri": "https://localhost:8080/"
        },
        "id": "3upUeYHUy_JV",
        "outputId": "cdf725bc-3706-44ac-e978-7a2863bf913e"
      },
      "execution_count": 48,
      "outputs": [
        {
          "output_type": "stream",
          "name": "stdout",
          "text": [
            "1 2 3 4 5 6 7 8 9 10 "
          ]
        }
      ]
    },
    {
      "cell_type": "markdown",
      "source": [
        "* **Using while loop:**"
      ],
      "metadata": {
        "id": "N0ioojg79ZyT"
      }
    },
    {
      "cell_type": "code",
      "source": [
        "i=1\n",
        "while i <= 10:\n",
        "  print(i,end=\" \")\n",
        "  i +=1"
      ],
      "metadata": {
        "colab": {
          "base_uri": "https://localhost:8080/"
        },
        "id": "Ynxk2gW_9KiQ",
        "outputId": "a0ef669c-a172-40ce-89d9-3f6da1734f92"
      },
      "execution_count": 49,
      "outputs": [
        {
          "output_type": "stream",
          "name": "stdout",
          "text": [
            "1 2 3 4 5 6 7 8 9 10 "
          ]
        }
      ]
    },
    {
      "cell_type": "markdown",
      "source": [
        "## **13. If you had a function named bacon() inside a module named spam, how would you call it after importing spam ?** \n",
        "\n",
        "**ANS -**\n",
        " \n",
        "\n",
        "This function can be called with spam.bacon().\n"
      ],
      "metadata": {
        "id": "hfQoQZaO93JY"
      }
    },
    {
      "cell_type": "code",
      "source": [
        "spam.bacon()"
      ],
      "metadata": {
        "id": "N8aijqRS9uqS"
      },
      "execution_count": null,
      "outputs": []
    }
  ]
}