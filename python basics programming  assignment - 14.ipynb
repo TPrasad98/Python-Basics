{
 "cells": [
  {
   "cell_type": "markdown",
   "id": "cb5d3a75",
   "metadata": {},
   "source": [
    "# programming assignment - 14"
   ]
  },
  {
   "cell_type": "markdown",
   "id": "f529b013",
   "metadata": {},
   "source": [
    "# Question 1:\n",
    "# Define a class with a generator which can iterate the numbers, which are divisible by 7, between a given range 0 and n."
   ]
  },
  {
   "cell_type": "code",
   "execution_count": 4,
   "id": "d0cf2609",
   "metadata": {},
   "outputs": [
    {
     "name": "stdout",
     "output_type": "stream",
     "text": [
      "0,7,14,21,28,35,42,49,56,63,70,77,84,91,98,"
     ]
    }
   ],
   "source": [
    "def generator(n):\n",
    "    for i in range(0,n+1):\n",
    "        if i%7 == 0:\n",
    "            yield i\n",
    "            \n",
    "output = generator(100)\n",
    "\n",
    "for ele in output :\n",
    "    print(ele,end = \",\")"
   ]
  },
  {
   "cell_type": "markdown",
   "id": "bb85db5e",
   "metadata": {},
   "source": [
    "# Question 2:\n",
    "\n",
    "# Write a program to compute the frequency of the words from the input. The output should output after sorting the key alphanumerically. "
   ]
  },
  {
   "cell_type": "code",
   "execution_count": 14,
   "id": "abcfbb2c",
   "metadata": {},
   "outputs": [
    {
     "name": "stdout",
     "output_type": "stream",
     "text": [
      "Enter some text:New to Python or choosing between Python 2 and Python 3? Read Python 2 or Python 3.\n",
      "2 2\n",
      "3 1\n",
      "3? 1\n",
      "New 1\n",
      "Python 5\n",
      "Read 1\n",
      "and 1\n",
      "between 1\n",
      "choosing 1\n",
      "or 2\n",
      "to 1\n"
     ]
    }
   ],
   "source": [
    "text = input(\"Enter some text:\")\n",
    "\n",
    "# check if each word has '.' at its last. If so then ignore '.'\n",
    "if text[-1] == '.':\n",
    "    text = text[0:len(text) - 1]\n",
    "\n",
    "\n",
    "# Create a dictionary to store the word frequencies\n",
    "freq_dict = {}\n",
    "\n",
    "for i in text.split(' '):\n",
    "        if i not in freq_dict:\n",
    "            freq_dict[i] = 1\n",
    "        elif i in freq_dict:\n",
    "            freq_dict[i] += 1\n",
    "    \n",
    "    \n",
    "# Sort the keys in alphabetical order\n",
    "sorted_freq_dict = sorted(freq_dict.keys())\n",
    "\n",
    "#print the results\n",
    "for key in sorted_freq_dict:\n",
    "    print(key , freq_dict[key])\n",
    "    \n",
    "            \n",
    "    "
   ]
  },
  {
   "cell_type": "markdown",
   "id": "44d14961",
   "metadata": {},
   "source": [
    "# Question 3:\n",
    "\n",
    "# Define a class Person and its two child classes: Male and Female. All classes have a method &quot;getGender&quot; which can print &quot;Male&quot; for Male class and &quot;Female&quot; for Femaleclass."
   ]
  },
  {
   "cell_type": "code",
   "execution_count": 21,
   "id": "971a671a",
   "metadata": {},
   "outputs": [],
   "source": [
    "class Person(object):\n",
    "    \n",
    "    def getGender(self):\n",
    "        return 'Unknown'\n",
    "\n",
    "class Male(Person):\n",
    "    \n",
    "    def getGender(self):\n",
    "        return 'Male'\n",
    "        \n",
    "class Female(Person):\n",
    "    \n",
    "    def getGender(self):\n",
    "        return 'Female'\n",
    "   "
   ]
  },
  {
   "cell_type": "code",
   "execution_count": 26,
   "id": "c687b754",
   "metadata": {},
   "outputs": [
    {
     "data": {
      "text/plain": [
       "'Unknown'"
      ]
     },
     "execution_count": 26,
     "metadata": {},
     "output_type": "execute_result"
    }
   ],
   "source": [
    "person = Person()\n",
    "person.getGender()  \n",
    "  "
   ]
  },
  {
   "cell_type": "code",
   "execution_count": 25,
   "id": "1776db20",
   "metadata": {},
   "outputs": [
    {
     "data": {
      "text/plain": [
       "'Male'"
      ]
     },
     "execution_count": 25,
     "metadata": {},
     "output_type": "execute_result"
    }
   ],
   "source": [
    "male = Male()\n",
    "male.getGender()"
   ]
  },
  {
   "cell_type": "code",
   "execution_count": 27,
   "id": "21ec4209",
   "metadata": {},
   "outputs": [
    {
     "data": {
      "text/plain": [
       "'Female'"
      ]
     },
     "execution_count": 27,
     "metadata": {},
     "output_type": "execute_result"
    }
   ],
   "source": [
    "female = Female()\n",
    "female.getGender()"
   ]
  },
  {
   "cell_type": "markdown",
   "id": "84d0e618",
   "metadata": {},
   "source": [
    "# Question 4:\n",
    "# Please write a program to generate all sentences where subject is in [&quot;I&quot;, &quot;You&quot;] and verb is in [&quot;Play&quot;, &quot;Love&quot;] and the object is in [&quot;Hockey&quot;,&quot;Football&quot;]."
   ]
  },
  {
   "cell_type": "code",
   "execution_count": 28,
   "id": "c80e57da",
   "metadata": {},
   "outputs": [
    {
     "name": "stdout",
     "output_type": "stream",
     "text": [
      "I Play Hockey.\n",
      "I Play Football.\n",
      "I Love Hockey.\n",
      "I Love Football.\n",
      "You Play Hockey.\n",
      "You Play Football.\n",
      "You Love Hockey.\n",
      "You Love Football.\n"
     ]
    }
   ],
   "source": [
    "subjects = [\"I\",\"You\"]\n",
    "verbs = [\"Play\",\"Love\"]\n",
    "objects = [\"Hockey\",\"Football\"]\n",
    "\n",
    "for sub in subjects:\n",
    "    for verb in verbs:\n",
    "        for obj in objects:\n",
    "            sentence = f\"{sub} {verb} {obj}.\"\n",
    "            print(sentence)"
   ]
  },
  {
   "cell_type": "markdown",
   "id": "16778200",
   "metadata": {},
   "source": [
    "# Question 5:\n",
    "# Please write a program to compress and decompress the string &quot;hello world!hello world!hello world!hello world!&quot;."
   ]
  },
  {
   "cell_type": "code",
   "execution_count": 30,
   "id": "57456793",
   "metadata": {},
   "outputs": [
    {
     "name": "stdout",
     "output_type": "stream",
     "text": [
      "Compressed data :b'x\\x9c\\xcbH\\xcd\\xc9\\xc9W(\\xcf/\\xcaIQ\\xcc \\x82\\r\\x00\\xbd[\\x11\\xf5'\n",
      "Decompressed data : hello world!hello world!hello world!hello world!\n"
     ]
    }
   ],
   "source": [
    "import zlib\n",
    "\n",
    "#compress the string\n",
    "compressed_data = zlib.compress(b\"hello world!hello world!hello world!hello world!\")\n",
    "\n",
    "#print the compressed data\n",
    "print(f\"Compressed data :{compressed_data}\")\n",
    "\n",
    "#decompress the data\n",
    "decompressed_data = zlib.decompress(compressed_data)\n",
    "\n",
    "#print the decompressed data\n",
    "print(f\"Decompressed data : {decompressed_data.decode()}\")"
   ]
  },
  {
   "cell_type": "markdown",
   "id": "4b3f6608",
   "metadata": {},
   "source": [
    "# Question 6:\n",
    "# Please write a binary search function which searches an item in a sorted list. The function should return the index of element to be searched in the list."
   ]
  },
  {
   "cell_type": "code",
   "execution_count": 31,
   "id": "3ef7f596",
   "metadata": {},
   "outputs": [],
   "source": [
    "def binary_search(arr,item):\n",
    "    \"\"\"Search for an item in a sorted list using binary search.\"\"\"\n",
    "    low = 0\n",
    "    high = len(arr) - 1\n",
    "\n",
    "    while low <= high :\n",
    "        mid = (low + high)//2\n",
    "        guess = arr[mid]\n",
    "        \n",
    "        if guess == item :\n",
    "            return mid\n",
    "        \n",
    "        if guess > item :\n",
    "            high = mid - 1\n",
    "            \n",
    "        else :\n",
    "            low = mid +1\n",
    "    return None"
   ]
  },
  {
   "cell_type": "code",
   "execution_count": 32,
   "id": "a8b05a37",
   "metadata": {},
   "outputs": [
    {
     "name": "stdout",
     "output_type": "stream",
     "text": [
      "1\n",
      "None\n"
     ]
    }
   ],
   "source": [
    "my_list = [1, 3, 5, 7, 9]\n",
    "\n",
    "print(binary_search(my_list, 3))  # prints 1\n",
    "print(binary_search(my_list, -1))  # prints None"
   ]
  },
  {
   "cell_type": "code",
   "execution_count": null,
   "id": "6e0bc874",
   "metadata": {},
   "outputs": [],
   "source": []
  }
 ],
 "metadata": {
  "kernelspec": {
   "display_name": "Python 3 (ipykernel)",
   "language": "python",
   "name": "python3"
  },
  "language_info": {
   "codemirror_mode": {
    "name": "ipython",
    "version": 3
   },
   "file_extension": ".py",
   "mimetype": "text/x-python",
   "name": "python",
   "nbconvert_exporter": "python",
   "pygments_lexer": "ipython3",
   "version": "3.9.12"
  }
 },
 "nbformat": 4,
 "nbformat_minor": 5
}
