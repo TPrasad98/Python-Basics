{
  "nbformat": 4,
  "nbformat_minor": 0,
  "metadata": {
    "colab": {
      "provenance": []
    },
    "kernelspec": {
      "name": "python3",
      "display_name": "Python 3"
    },
    "language_info": {
      "name": "python"
    }
  },
  "cells": [
    {
      "cell_type": "markdown",
      "source": [
        "# **ASSIGNMENT-3** #"
      ],
      "metadata": {
        "id": "SGcfGPB8oJUJ"
      }
    },
    {
      "cell_type": "markdown",
      "source": [
        "## **1. Why are functions advantageous to have in your programs?** ##\n",
        "\n",
        "**ANS -**\n",
        "\n",
        "Functions reduce the need for duplicate code. This makes programs shorter, easier to read, and easier to update.\n",
        "\n",
        "With the help of functions, we can avoid rewriting the same logic or code again and again in a program. In a single Program, we can call Python functions anywhere and also call multiple times."
      ],
      "metadata": {
        "id": "BSyEJLNDo4_f"
      }
    },
    {
      "cell_type": "markdown",
      "source": [
        "## **2. When does the code in a function run : when it's specified or when it's called?** ##\n",
        "\n",
        "**ANS -**\n",
        "\n",
        "The code in a function executes when the function is called, not when the function is defined."
      ],
      "metadata": {
        "id": "w_KiIotEpqfl"
      }
    },
    {
      "cell_type": "markdown",
      "source": [
        "## **3. What statement creates a function?** ##\n",
        "\n",
        "**ANS -**\n",
        "\n",
        "The def statement defines (i.e creates) a function."
      ],
      "metadata": {
        "id": "BMB6xqLAquZl"
      }
    },
    {
      "cell_type": "markdown",
      "source": [
        "## **4. What is the difference between a function and a function call?**##\n",
        "\n",
        "**ANS -**\n",
        "\n",
        "A function consists of the def statement and the code in its def clause.\n",
        "\n",
        "A function call is what moves the program execution into the function, and the function call evaluates to the function's return value."
      ],
      "metadata": {
        "id": "Qp5k6VEOrHaJ"
      }
    },
    {
      "cell_type": "markdown",
      "source": [
        "## **5. How many global scopes are there in a Python program? How many local scopes?**##\n",
        "\n",
        "**ANS -**\n",
        "\n",
        "There is one global scope, and a local scope is created whenever a function is called.\n"
      ],
      "metadata": {
        "id": "rzzx8i2LrmYl"
      }
    },
    {
      "cell_type": "markdown",
      "source": [
        "##**6. What happens to variables in a local scope when the function call returns?** ##\n",
        "\n",
        "**ANS-**\n",
        "\n",
        "When a function returns, the local scope is destroyed, and all the variables in it are forgotten.\n",
        "\n",
        "A function's local variables exists only while the function is executing. When the function begins, its local variables and its parameter variables are created in memory, and when the function ends, the local variables and parameter variables are destroyed."
      ],
      "metadata": {
        "id": "CD7UN-QDslW_"
      }
    },
    {
      "cell_type": "markdown",
      "source": [
        "## **7. What is the concept of a return value? Is it possible to have a return value in an expression?** ##\n",
        "\n",
        "**ANS -**\n",
        "\n",
        "A return is a value that a function returns to the calling script or function when it completes its task. A return value can be any one of the four variable types: handle, integer, object, or string.\n",
        "\n",
        "Like any value, a return value can be used as part of an expression."
      ],
      "metadata": {
        "id": "M3Mxp3mDtA-a"
      }
    },
    {
      "cell_type": "markdown",
      "source": [
        "##**8. If a function does not have a return statement, what is the return value of a call to that function?**##\n",
        "\n",
        "**ANS -**\n",
        "\n",
        "If there is no return statement for a function, its return value is None."
      ],
      "metadata": {
        "id": "iOKy6mPgvsU3"
      }
    },
    {
      "cell_type": "markdown",
      "source": [
        "##**9. How do you make a function variable refer to the global variable?**##\n",
        "\n",
        "**ANS -**\n",
        "\n",
        "A global statement will force a variable in a function to refer to the global variable."
      ],
      "metadata": {
        "id": "9nEFOYyaw9FD"
      }
    },
    {
      "cell_type": "markdown",
      "source": [
        "##**10. What is the data type of None?**##\n",
        "**ANS-**\n",
        "\n",
        "The data type of None is NoneType."
      ],
      "metadata": {
        "id": "BIC7Q2ANxPoJ"
      }
    },
    {
      "cell_type": "markdown",
      "source": [
        "##**11. What does the sentence import areallyourpetsnamederic do?**##\n",
        "\n",
        "**ANS -**\n",
        "\n",
        "That import statement imports a module named areallyourpetsnamederic. (This isn't a real Python module, by the way.)"
      ],
      "metadata": {
        "id": "PGJkTX3hxnRM"
      }
    },
    {
      "cell_type": "markdown",
      "source": [
        "##**12. If you had a bacon() feature in a spam module, what would you call it after importing spam?**##\n",
        "\n",
        "**ANS -**\n",
        "\n",
        "This function can be called with spam.bacon()."
      ],
      "metadata": {
        "id": "z5KLoB0xyeuQ"
      }
    },
    {
      "cell_type": "markdown",
      "source": [
        "##**13. What can you do to save a programme from crashing if it encounters an error?**##\n",
        "\n",
        "**ANS -**\n",
        "\n",
        "Place the line of code that might cause an error in a try clause."
      ],
      "metadata": {
        "id": "0ivs4Ttey5Cz"
      }
    },
    {
      "cell_type": "markdown",
      "source": [
        "##**14. What is the purpose of the try clause? What is the purpose of the except clause?**##\n",
        "\n",
        "**ANS -**\n",
        "\n",
        "The code that could potentially cause an error goes in the try clause.\n",
        "\n",
        "The code that executes if an error happens goes in the except clause."
      ],
      "metadata": {
        "id": "_pjuj27xz4kw"
      }
    }
  ]
}