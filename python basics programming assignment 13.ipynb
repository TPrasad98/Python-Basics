{
 "cells": [
  {
   "cell_type": "markdown",
   "id": "e8f95e34",
   "metadata": {},
   "source": [
    "# Programming assignment - 13"
   ]
  },
  {
   "cell_type": "markdown",
   "id": "8d8ce038",
   "metadata": {},
   "source": [
    "Question 1:\n",
    "\n",
    "Write a program that calculates and prints the value according to the given formula:\n",
    "Q = Square root of [(2 * C * D)/H]\n",
    "Following are the fixed values of C and H:\n",
    "C is 50. H is 30.\n",
    "D is the variable whose values should be input to your program in a comma-separated\n",
    "sequence.\n",
    "Example\n",
    "Let us assume the following comma separated input sequence is given to the program:\n",
    "100,150,180\n",
    "The output of the program should be:\n",
    "18,22,24"
   ]
  },
  {
   "cell_type": "code",
   "execution_count": 9,
   "id": "ee58d232",
   "metadata": {},
   "outputs": [
    {
     "name": "stdout",
     "output_type": "stream",
     "text": [
      "Provide D(comma separated input sequence is given to the program: 100,150,180 ) :100,150,180\n",
      "18,22,24\n"
     ]
    }
   ],
   "source": [
    "import math\n",
    "\n",
    "C = 50\n",
    "H = 30\n",
    "numbers = input(\"Provide D(comma separated input sequence is given to the program: 100,150,180 ) :\")\n",
    "numbers = numbers.split(',')\n",
    "\n",
    "result_list = []\n",
    "for D in numbers :\n",
    "    Q = str(int(round(math.sqrt(2*C*float(D)/H))))\n",
    "    result_list.append(Q)\n",
    "    \n",
    "print(','.join(result_list))"
   ]
  },
  {
   "cell_type": "markdown",
   "id": "df703af6",
   "metadata": {},
   "source": [
    "Question 2:\n",
    "\n",
    "Write a program which takes 2 digits, X,Y as input and generates a 2-dimensional array. \n",
    "The element value in the i-th row and j-th column of the array should be i*j.\n",
    "\n",
    "Note: i=0,1.., X-1; j=0,1,¡Y-1.\n",
    "Example\n",
    "Suppose the following inputs are given to the program:\n",
    "3,5\n",
    "Then, the output of the program should be:\n",
    "[[0, 0, 0, 0, 0], [0, 1, 2, 3, 4], [0, 2, 4, 6, 8]]"
   ]
  },
  {
   "cell_type": "code",
   "execution_count": 6,
   "id": "121944bf",
   "metadata": {},
   "outputs": [
    {
     "name": "stdout",
     "output_type": "stream",
     "text": [
      "Row :3\n",
      "Column :5\n",
      "[[0, 0, 0, 0, 0], [0, 1, 2, 3, 4], [0, 2, 4, 6, 8]]\n"
     ]
    }
   ],
   "source": [
    "X = int(input(\"Row :\"))\n",
    "Y = int(input(\"Column :\"))\n",
    "matrix = [[0 for col in range(Y)] for row in range(X)]\n",
    "for row in range(X):\n",
    "    for col in range(Y):\n",
    "        matrix[row][col] = row*col\n",
    "print(matrix)"
   ]
  },
  {
   "cell_type": "markdown",
   "id": "a2b94ba1",
   "metadata": {},
   "source": [
    "Question 3:\n",
    "\n",
    "Write a program that accepts a comma separated sequence of words as input and prints the words in a comma-separated sequence after sorting them alphabetically.\n",
    "\n",
    "Suppose the following input is supplied to the program:\n",
    "\n",
    "without,hello,bag,world\n",
    "\n",
    "Then, the output should be:\n",
    "\n",
    "bag,hello,without,world"
   ]
  },
  {
   "cell_type": "code",
   "execution_count": 5,
   "id": "b787d2da",
   "metadata": {},
   "outputs": [
    {
     "name": "stdout",
     "output_type": "stream",
     "text": [
      "Input a comma separated sequence of words() :without,hello,bag,world\n",
      "words in a comma-separated sequence after sorting them alphabetically\n",
      " bag,hello,without,world\n"
     ]
    }
   ],
   "source": [
    "phrase = input(\"Input a comma separated sequence of words() :\")\n",
    "\n",
    "phrase_list = phrase.split(',')\n",
    "phrase_list.sort()\n",
    "\n",
    "print('words in a comma-separated sequence after sorting them alphabetically\\n',','.join(phrase_list))\n"
   ]
  },
  {
   "cell_type": "markdown",
   "id": "01cfc382",
   "metadata": {},
   "source": [
    "Question 4:\n",
    "\n",
    "Write a program that accepts a sequence of whitespace separated words as input and prints the words after removing all duplicate words and sorting them alphanumerically. \n",
    "\n",
    "Suppose the following input is supplied to the program:\n",
    "\n",
    "hello world and practice makes perfect and hello world again\n",
    "\n",
    "Then, the output should be:\n",
    "\n",
    "again and hello makes perfect practice world"
   ]
  },
  {
   "cell_type": "code",
   "execution_count": 3,
   "id": "eac38075",
   "metadata": {},
   "outputs": [
    {
     "name": "stdout",
     "output_type": "stream",
     "text": [
      "Type in: hello world and practice makes perfect and hello world again\n",
      "the output becomes : again and hello makes perfect practice world\n"
     ]
    }
   ],
   "source": [
    "\n",
    "phrase = input(\"Type in: \")\n",
    "phrase_splited = phrase.split(' ')\n",
    "\n",
    "word_list = []\n",
    "for i in phrase_splited:\n",
    "    if i not in word_list:\n",
    "        word_list.append(i)\n",
    "    else:\n",
    "        continue\n",
    "word_list.sort()\n",
    "print('the output becomes :',(' ').join(word_list))"
   ]
  },
  {
   "cell_type": "markdown",
   "id": "4560eb38",
   "metadata": {},
   "source": [
    "Question 5:\n",
    "\n",
    "Write a program that accepts a sentence and calculate the number of letters and digits.\n",
    "\n",
    "Suppose the following input is supplied to the program:\n",
    "\n",
    "hello world! 123\n",
    "\n",
    "Then, the output should be:\n",
    "\n",
    "LETTERS 10\n",
    "\n",
    "DIGITS 3"
   ]
  },
  {
   "cell_type": "code",
   "execution_count": 5,
   "id": "6d89345e",
   "metadata": {},
   "outputs": [
    {
     "name": "stdout",
     "output_type": "stream",
     "text": [
      "Enter the phrase :hello world! 123\n",
      "LETTERS : 10\n",
      "DIGITS : 3\n"
     ]
    }
   ],
   "source": [
    "phrase = input(\"Enter the phrase :\")\n",
    "phrase = list(phrase)\n",
    "\n",
    "ltr,dig = 0,0\n",
    "for i in phrase :\n",
    "    if i.isalpha():\n",
    "        ltr += 1\n",
    "    if i.isdigit():\n",
    "        dig += 1\n",
    "        \n",
    "    else :\n",
    "        pass\n",
    "\n",
    "print(\"LETTERS :\",ltr)\n",
    "print(\"DIGITS :\",dig)"
   ]
  },
  {
   "cell_type": "markdown",
   "id": "d00d8402",
   "metadata": {},
   "source": [
    "Question 6:\n",
    "\n",
    "A website requires the users to input username and password to register. Write a program to check the validity of password input by users.\n",
    "\n",
    "Following are the criteria for checking the password:\n",
    "\n",
    "1. At least 1 letter between [a-z]\n",
    "\n",
    "2. At least 1 number between [0-9]\n",
    "\n",
    "1. At least 1 letter between [A-Z]\n",
    "\n",
    "3. At least 1 character from [$#@]\n",
    "\n",
    "4. Minimum length of transaction password: 6\n",
    "\n",
    "5. Maximum length of transaction password: 12\n",
    "\n",
    "Your program should accept a sequence of comma separated passwords and will check them according to the above criteria. Passwords that match the criteria are to be printed, each separated by a comma.\n",
    "Example\n",
    "\n",
    "If the following passwords are given as input to the program:\n",
    "\n",
    "ABd1234@1,a F1#,2w3E*,2We3345\n",
    "\n",
    "Then, the output of the program should be:\n",
    "\n",
    "ABd1234@1"
   ]
  },
  {
   "cell_type": "code",
   "execution_count": 3,
   "id": "a7948f14",
   "metadata": {},
   "outputs": [
    {
     "name": "stdout",
     "output_type": "stream",
     "text": [
      "Enter the passwords separated by comma :ABd1234@1,a F1#,2w3E*,2We3345\n",
      "The accepted passwords are : ABd1234@1\n"
     ]
    }
   ],
   "source": [
    "import re\n",
    "\n",
    "given_passwords = input(\"Enter the passwords separated by comma :\")\n",
    "given_passwords = given_passwords.split(',')\n",
    "\n",
    "correct_passwords = []\n",
    "\n",
    "for passwd in given_passwords :\n",
    "    if len(passwd) < 6 or len(passwd) > 12 :\n",
    "        continue\n",
    "        \n",
    "    elif not re.search(\"([a-z])+\",passwd) :\n",
    "        continue\n",
    "        \n",
    "    elif not re.search(\"([A-Z])+\",passwd) :\n",
    "        continue\n",
    "        \n",
    "    elif not re.search(\"([0-9])+\",passwd) :\n",
    "        continue\n",
    "        \n",
    "    elif not re.search(\"([!@#$%^&])+\",passwd) :\n",
    "        continue\n",
    "        \n",
    "    else :\n",
    "        correct_passwords.append(passwd)\n",
    "        \n",
    "print(\"The accepted passwords are :\",(\",\").join(correct_passwords))\n",
    "        \n",
    "        \n",
    "    "
   ]
  },
  {
   "cell_type": "code",
   "execution_count": null,
   "id": "417823ed",
   "metadata": {},
   "outputs": [],
   "source": []
  }
 ],
 "metadata": {
  "kernelspec": {
   "display_name": "Python 3 (ipykernel)",
   "language": "python",
   "name": "python3"
  },
  "language_info": {
   "codemirror_mode": {
    "name": "ipython",
    "version": 3
   },
   "file_extension": ".py",
   "mimetype": "text/x-python",
   "name": "python",
   "nbconvert_exporter": "python",
   "pygments_lexer": "ipython3",
   "version": "3.9.12"
  }
 },
 "nbformat": 4,
 "nbformat_minor": 5
}
