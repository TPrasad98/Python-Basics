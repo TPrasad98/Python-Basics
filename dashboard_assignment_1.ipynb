{
  "nbformat": 4,
  "nbformat_minor": 0,
  "metadata": {
    "colab": {
      "provenance": []
    },
    "kernelspec": {
      "name": "python3",
      "display_name": "Python 3"
    },
    "language_info": {
      "name": "python"
    }
  },
  "cells": [
    {
      "cell_type": "markdown",
      "source": [
        "# **ASSIGNMENT - 1**\n"
      ],
      "metadata": {
        "id": "-t2oh6-sDzhO"
      }
    },
    {
      "cell_type": "markdown",
      "source": [
        "##**1. In the below elements which of them are values or an expression? eg:- values can be integer or string and expressions will be mathematical operators.**\n",
        " ->  * , 'hello', -87.8 , - , / , + , 6 \n",
        "\n",
        "\n",
        " ANS=>"
      ],
      "metadata": {
        "id": "pYHPT2i4ECek"
      }
    },
    {
      "cell_type": "markdown",
      "source": [
        " From the above elements \n",
        "\n",
        ".Expressions are :    *  , - , / , +\n",
        "\n",
        ".Values are :    'hello' , -87.8 , 6   "
      ],
      "metadata": {
        "id": "Mi7AWVffFL2K"
      }
    },
    {
      "cell_type": "markdown",
      "source": [
        "##2. **What is the difference between string and variable?**\n",
        "\n",
        "ANS =>"
      ],
      "metadata": {
        "id": "AeuKVJYsG0Vh"
      }
    },
    {
      "cell_type": "markdown",
      "source": [
        "###VARIABLES:\n",
        ".A Python variable is a symbolic name that is a reference or pointer to an object. Once an object is assigned to a variable, you can refer to the object by that name. But the data itself is still contained within the object. For example:  n = 300.\n",
        "\n",
        ".In general Variables are symbols that you can use to store data in a program. You can think of them as an empty box that you fill with some data or value.\n",
        "\n",
        "\n",
        "**EXAMPLE -**"
      ],
      "metadata": {
        "id": "S46x5XZyHBNX"
      }
    },
    {
      "cell_type": "code",
      "source": [
        "var=\"He is the boss\"\n",
        "# var is the variable \n",
        "#\"He is the boss\" is a string data type"
      ],
      "metadata": {
        "id": "p8JMP6jJARHq"
      },
      "execution_count": 10,
      "outputs": []
    },
    {
      "cell_type": "markdown",
      "source": [
        "###STRING :\n",
        ".String is a collection of alphabets, words or other characters. It is one of the primitive data structures and are the building blocks for data manipulation. Python has a built-in string class named str . Python strings are \"immutable\" which means they cannot be changed after they are created.\n",
        "\n",
        ".Strings are data, so we can use them to fill up a variable. Declaring strings as variables can make it easier for us to work with strings throughout our Python programs."
      ],
      "metadata": {
        "id": "WKgfW2CHAHrv"
      }
    },
    {
      "cell_type": "code",
      "source": [
        "s1=\"He is the boss\"  #\"He is the boss\" is a string data type\n",
        "print(type(s1))      #s1 is variable               \n"
      ],
      "metadata": {
        "colab": {
          "base_uri": "https://localhost:8080/"
        },
        "id": "bzW3lYzHAnFr",
        "outputId": "5352df8b-6e78-44df-db64-2237e57dbfb2"
      },
      "execution_count": 12,
      "outputs": [
        {
          "output_type": "stream",
          "name": "stdout",
          "text": [
            "<class 'str'>\n"
          ]
        }
      ]
    },
    {
      "cell_type": "markdown",
      "source": [
        "##**3. Describe three different data types.**\n",
        "\n"
      ],
      "metadata": {
        "id": "C4WDXNqfLnxz"
      }
    },
    {
      "cell_type": "markdown",
      "source": [
        "\n",
        "\n",
        "###1.NUMERIC -\n",
        "\n",
        ".In Python, numeric data type represent the data which has numeric value. Numeric value can be integer, floating number or even complex numbers. These values are defined as int, float and complex class in Python.\n",
        "\n",
        "* **Integers -**  This value is represented by int class. It contains positive or negative whole numbers (without fraction or decimal). In Python there is no limit to how long an integer value can be.\n",
        "\n",
        "* **Float -**  This value is represented by\n",
        "float class. It is a real number with floating point representation. It is specified by a decimal point. Optionally, the character e or E followed by a positive or negative integer may be appended to specify scientific notation. \n",
        "\n",
        "* **Complex Numbers -**  Complex number is represented by complex class. It is specified as (real part) + (imaginary part)j. \n",
        "For example – 2+3j   \n",
        "  \n"
      ],
      "metadata": {
        "id": "Hz_0o0EzL0e6"
      }
    },
    {
      "cell_type": "code",
      "source": [
        "# Python program to \n",
        "# demonstrate numeric value\n",
        "  \n",
        "a = 5\n",
        "print(\"Type of a: \", type(a))\n",
        "  \n",
        "b = 5.0\n",
        "print(\"\\nType of b: \", type(b))\n",
        "  \n",
        "c = 2 + 4j\n",
        "print(\"\\nType of c: \", type(c))"
      ],
      "metadata": {
        "colab": {
          "base_uri": "https://localhost:8080/"
        },
        "id": "xj7xo1ap9tjS",
        "outputId": "c3db97c2-0556-4ad3-fd6c-0bec25d93c2f"
      },
      "execution_count": 6,
      "outputs": [
        {
          "output_type": "stream",
          "name": "stdout",
          "text": [
            "Type of a:  <class 'int'>\n",
            "\n",
            "Type of b:  <class 'float'>\n",
            "\n",
            "Type of c:  <class 'complex'>\n"
          ]
        }
      ]
    },
    {
      "cell_type": "markdown",
      "source": [
        "###2.SEQUENCE TYPE -\n",
        "In Python, sequence is the ordered collection of similar or different data types. Sequences allows to store multiple values in an organized and efficient fashion. There are several sequence types in Python –\n",
        "\n",
        "\n",
        "\n",
        "* **I.STRING -** \n",
        "\n",
        " In Python, Strings are arrays of bytes representing Unicode characters. A string is a collection of one or more characters put in a single quote, double-quote or triple quote. In python there is no character data type, a character is a string of length one. It is represented by str class.\n",
        " * ***Creating String*** -\n",
        " Strings in Python can be created using single quotes or double quotes or even triple quotes.\n",
        " \n",
        "  * ***Accessing elements of String*** -\n",
        "In Python, individual characters of a String can be accessed by using the method of Indexing. Indexing allows negative address references to access characters from the back of the String, e.g. -1 refers to the last character, -2 refers to the second last character and so on.\n",
        "\n",
        "* **II.LIST -** \n",
        "Lists are just like the arrays, declared in other languages which is a ordered collection of data. It is very flexible as the items in a list do not need to be of the same type.\n",
        "  * ***Creating List -***\n",
        "  Lists in Python can be created by just placing the sequence inside the square brackets[ ].\n",
        " * ***Accessing elements of List -***\n",
        "In order to access the list items refer to the index number. Use the index operator [ ] to access an item in a list. In Python, negative sequence indexes represent positions from the end of the array. Instead of having to compute the offset as in List[len(List)-3], it is enough to just write List[-3]. Negative indexing means beginning from the end, -1 refers to the last item, -2 refers to the second-last item, etc.\n",
        "\n",
        "* **III.TUPLE -**\n",
        "Just like list, tuple is also an ordered collection of Python objects. The only difference between tuple and list is that tuples are immutable i.e. tuples cannot be modified after it is created. It is represented by tuple class.\n",
        " * ***Creating Tuple -***\n",
        " In Python, tuples are created by placing a sequence of values separated by ‘comma’ with or without the use of parentheses for grouping of the data sequence. Tuples can contain any number of elements and of any datatype (like strings, integers, list, etc.).\n",
        " * ***Accessing elements of Tuple -***\n",
        "In order to access the tuple items refer to the index number. Use the index operator [ ] to access an item in a tuple. The index must be an integer. Nested tuples are accessed using nested indexing.\n",
        "\n",
        "\n",
        "\n",
        "\n"
      ],
      "metadata": {
        "id": "Mcqpzplk9fMM"
      }
    },
    {
      "cell_type": "code",
      "source": [
        "# python program to \n",
        "#  demonstrate sequence type\n",
        "\n",
        "string1=\"HE is a King.\"\n",
        "print(f\"\"\"\n",
        "{string1}\n",
        "{type(string1)}\n",
        "\"\"\")\n",
        "\n",
        "list1=[1,2.3,3+6j,\"krish\",True]\n",
        "print(f\"{type(list1)}\")\n",
        "\n",
        "\n",
        "tuple1=(1,2.3,3+6j,\"krish\",True)\n",
        "print(f\"{type(tuple1)}\")\n"
      ],
      "metadata": {
        "colab": {
          "base_uri": "https://localhost:8080/"
        },
        "id": "qF4H4j019xp7",
        "outputId": "5e3f9ba0-a113-4613-bcfc-c1d661224532"
      },
      "execution_count": 9,
      "outputs": [
        {
          "output_type": "stream",
          "name": "stdout",
          "text": [
            "\n",
            "HE is a King.\n",
            "<class 'str'>\n",
            "\n",
            "<class 'list'>\n",
            "<class 'tuple'>\n"
          ]
        }
      ]
    },
    {
      "cell_type": "markdown",
      "source": [
        "###3.BOOLEAN -\n",
        "Data type with one of the two built-in values, True or False. Boolean objects that are equal to True are truthy (true), and those equal to False are falsy (false). But non-Boolean objects can be evaluated in Boolean context as well and determined to be true or false. It is denoted by the class bool.\n",
        " True and False with capital ‘T’ and ‘F’ are valid booleans otherwise python will throw an error."
      ],
      "metadata": {
        "id": "E1b8q-uh9le3"
      }
    },
    {
      "cell_type": "code",
      "source": [
        "# Python program to \n",
        "# demonstrate boolean type\n",
        "  \n",
        "print(type(True))\n",
        "print(type(False))\n",
        "  \n"
      ],
      "metadata": {
        "colab": {
          "base_uri": "https://localhost:8080/"
        },
        "id": "dkwfAEHI-Qil",
        "outputId": "6de9e6be-8d42-44b5-8db5-b74f640e23d0"
      },
      "execution_count": 8,
      "outputs": [
        {
          "output_type": "stream",
          "name": "stdout",
          "text": [
            "<class 'bool'>\n",
            "<class 'bool'>\n"
          ]
        }
      ]
    },
    {
      "cell_type": "markdown",
      "source": [
        "##**4. What is an expression made up of? What do all expressions do?**"
      ],
      "metadata": {
        "id": "eHtyHw-YYM6n"
      }
    },
    {
      "cell_type": "markdown",
      "source": [
        "**ANS -**\n",
        "\n",
        "A combination of operands and operators is called an expression. The expression in Python produces some value or result after being interpreted by the Python interpreter. An expression in Python is a combination of operators and operands.\n",
        "\n",
        "An example of expression can be : x = x + 10x=x+10. In this expression, the first 1010 is added to the variable x. After the addition is performed, the result is assigned to the variable x.\n",
        "\n",
        "**EXAMPLE -**"
      ],
      "metadata": {
        "id": "4sU_ZndWvb_8"
      }
    },
    {
      "cell_type": "code",
      "source": [
        "x = 25          # a statement\n",
        "x = x + 10      # an expression\n",
        "\n",
        "print(x)"
      ],
      "metadata": {
        "colab": {
          "base_uri": "https://localhost:8080/"
        },
        "id": "awL73ETJwuhf",
        "outputId": "47b5a525-41d5-4a02-a764-3705eb17bd6e"
      },
      "execution_count": 1,
      "outputs": [
        {
          "output_type": "stream",
          "name": "stdout",
          "text": [
            "35\n"
          ]
        }
      ]
    },
    {
      "cell_type": "markdown",
      "source": [
        "##**5.This assignment statements, like spam = 10. What is the difference between anexpression and a statement?**"
      ],
      "metadata": {
        "id": "mCQbX272vx8d"
      }
    },
    {
      "cell_type": "markdown",
      "source": [
        "**ANS -**\n",
        "\n",
        "An expression in Python is very different from statements in Python. A statement is not evaluated for some results. A statement is used for creating variables or for displaying values.\n",
        "\n",
        "But an expression in python produces some value or result after being interpreted by python interpreter."
      ],
      "metadata": {
        "id": "914lQlj2xFRW"
      }
    },
    {
      "cell_type": "code",
      "source": [
        "spam=10  # a statement which creating a variable\n",
        "\n",
        "spam= spam+52  # an expression which will produce some value after interpretation\n",
        "\n",
        "print(spam) # a statement displaying a value"
      ],
      "metadata": {
        "colab": {
          "base_uri": "https://localhost:8080/"
        },
        "id": "_A_CGnbhD-AJ",
        "outputId": "f9b7aa56-d131-4d3d-932f-dde9767523d8"
      },
      "execution_count": 2,
      "outputs": [
        {
          "output_type": "stream",
          "name": "stdout",
          "text": [
            "62\n"
          ]
        }
      ]
    },
    {
      "cell_type": "markdown",
      "source": [
        "##**6. After running the following code, what does the variable bacon contain?**\n",
        "bacon = 22\n",
        "\n",
        "bacon + 1"
      ],
      "metadata": {
        "id": "gZDD1uPfxEbT"
      }
    },
    {
      "cell_type": "code",
      "source": [
        "bacon = 22\n",
        "\n",
        "bacon + 1"
      ],
      "metadata": {
        "colab": {
          "base_uri": "https://localhost:8080/"
        },
        "id": "VxJmd9OkyqHL",
        "outputId": "44335373-648f-4547-b7a9-f06177998e57"
      },
      "execution_count": 3,
      "outputs": [
        {
          "output_type": "execute_result",
          "data": {
            "text/plain": [
              "23"
            ]
          },
          "metadata": {},
          "execution_count": 3
        }
      ]
    },
    {
      "cell_type": "markdown",
      "source": [
        "**ANS -**\n",
        "After running the above code the variable bacon contains -> 23"
      ],
      "metadata": {
        "id": "4e1rzZhDzHN_"
      }
    },
    {
      "cell_type": "markdown",
      "source": [
        "##**7. What should the values of the following two terms be?**\n",
        "\n",
        " * 'spam'+'spamspam'\n",
        " * 'spam'*3\n"
      ],
      "metadata": {
        "id": "W5cCrAWtzYR-"
      }
    },
    {
      "cell_type": "code",
      "source": [
        "'spam'+'spamspam'"
      ],
      "metadata": {
        "colab": {
          "base_uri": "https://localhost:8080/",
          "height": 36
        },
        "id": "7m5dtMV0zAkv",
        "outputId": "c451f282-e9e1-4a19-b6c4-f873ad0caf17"
      },
      "execution_count": 4,
      "outputs": [
        {
          "output_type": "execute_result",
          "data": {
            "text/plain": [
              "'spamspamspam'"
            ],
            "application/vnd.google.colaboratory.intrinsic+json": {
              "type": "string"
            }
          },
          "metadata": {},
          "execution_count": 4
        }
      ]
    },
    {
      "cell_type": "code",
      "source": [
        "'spam'*3\n"
      ],
      "metadata": {
        "colab": {
          "base_uri": "https://localhost:8080/",
          "height": 36
        },
        "id": "JcAn6jq_5utq",
        "outputId": "eba753ce-40b9-48b5-b044-3d0d954ea6bf"
      },
      "execution_count": 5,
      "outputs": [
        {
          "output_type": "execute_result",
          "data": {
            "text/plain": [
              "'spamspamspam'"
            ],
            "application/vnd.google.colaboratory.intrinsic+json": {
              "type": "string"
            }
          },
          "metadata": {},
          "execution_count": 5
        }
      ]
    },
    {
      "cell_type": "markdown",
      "source": [
        "##**8. Why is eggs a valid variable name while 100 is invalid?**"
      ],
      "metadata": {
        "id": "GnRsiGdx54yc"
      }
    },
    {
      "cell_type": "markdown",
      "source": [
        "**ANS -**\n",
        "In general Variables are symbols that you can use to store data in a program.As we also know that variable names should start with alphabets and it should not contain any special characters like ^ % $ ! @ # ^ & * ( ).\n",
        "Variable names can contain numbers but you can't start with numbers.\n",
        "\n",
        "Here in the given question eggs follows all the above conditions to be a varibale.\n",
        "\n",
        "But 100 is an integer data type so it can't be a varibale."
      ],
      "metadata": {
        "id": "4KRv2six5-gq"
      }
    },
    {
      "cell_type": "code",
      "source": [
        "# taking egss as variable\n",
        "eggs=23"
      ],
      "metadata": {
        "id": "bm7fxPRABRSR"
      },
      "execution_count": 14,
      "outputs": []
    },
    {
      "cell_type": "code",
      "source": [
        "#taking 100 as varibale throws an error\n",
        "100=\"hundred\"   "
      ],
      "metadata": {
        "colab": {
          "base_uri": "https://localhost:8080/",
          "height": 130
        },
        "id": "Oa9EIl4zBfP5",
        "outputId": "4bb457a3-0b6f-499b-bb9e-ce66eccb9cd2"
      },
      "execution_count": 15,
      "outputs": [
        {
          "output_type": "error",
          "ename": "SyntaxError",
          "evalue": "ignored",
          "traceback": [
            "\u001b[0;36m  File \u001b[0;32m\"<ipython-input-15-f84a9faabd93>\"\u001b[0;36m, line \u001b[0;32m2\u001b[0m\n\u001b[0;31m    100=\"hundred\"\u001b[0m\n\u001b[0m                 ^\u001b[0m\n\u001b[0;31mSyntaxError\u001b[0m\u001b[0;31m:\u001b[0m can't assign to literal\n"
          ]
        }
      ]
    },
    {
      "cell_type": "code",
      "source": [],
      "metadata": {
        "id": "u5edP7RtBmw3"
      },
      "execution_count": null,
      "outputs": []
    }
  ]
}