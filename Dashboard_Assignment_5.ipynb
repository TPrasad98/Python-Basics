{
  "nbformat": 4,
  "nbformat_minor": 0,
  "metadata": {
    "colab": {
      "provenance": []
    },
    "kernelspec": {
      "name": "python3",
      "display_name": "Python 3"
    },
    "language_info": {
      "name": "python"
    }
  },
  "cells": [
    {
      "cell_type": "markdown",
      "source": [
        "#**ASSIGNMENT- 5**"
      ],
      "metadata": {
        "id": "b_2uqadDDRFc"
      }
    },
    {
      "cell_type": "markdown",
      "source": [
        "##**1. What does an empty dictionary's code look like?**\n",
        "\n",
        "**ANS -**\n",
        "Two curly brackets: {}"
      ],
      "metadata": {
        "id": "wTsvSgXxDg0C"
      }
    },
    {
      "cell_type": "markdown",
      "source": [
        "##**2. What is the value of a dictionary value with the key 'foo' and the value 42?**\n",
        "\n",
        "**ANS -**   {'foo': 42}"
      ],
      "metadata": {
        "id": "4dT-7JHhDu-K"
      }
    },
    {
      "cell_type": "code",
      "source": [
        "{'foo': 42}"
      ],
      "metadata": {
        "colab": {
          "base_uri": "https://localhost:8080/"
        },
        "id": "aO2QVFTWEMtQ",
        "outputId": "6d5d8ee3-c5f0-44b2-dd80-9e05fe7ac563"
      },
      "execution_count": 1,
      "outputs": [
        {
          "output_type": "execute_result",
          "data": {
            "text/plain": [
              "{'foo': 42}"
            ]
          },
          "metadata": {},
          "execution_count": 1
        }
      ]
    },
    {
      "cell_type": "markdown",
      "source": [
        "##**3. What is the most significant distinction between a dictionary and a list?**\n",
        "\n",
        "**ANS -**\n",
        " The items stored in a dictionary are unordered, while the items in a list are ordered."
      ],
      "metadata": {
        "id": "HRdNXDs_ELSg"
      }
    },
    {
      "cell_type": "markdown",
      "source": [
        "##**4. What happens if you try to access spam['foo'] if spam is {'bar': 100}?**\n",
        "**ANS-**\n",
        " Got a KeyError error."
      ],
      "metadata": {
        "id": "LXoJ5puFE347"
      }
    },
    {
      "cell_type": "code",
      "execution_count": 2,
      "metadata": {
        "colab": {
          "base_uri": "https://localhost:8080/",
          "height": 182
        },
        "id": "H_G_yTjXDG3D",
        "outputId": "6650536e-1d30-4af5-81d7-3a8bd6810ef9"
      },
      "outputs": [
        {
          "output_type": "error",
          "ename": "KeyError",
          "evalue": "ignored",
          "traceback": [
            "\u001b[0;31m---------------------------------------------------------------------------\u001b[0m",
            "\u001b[0;31mKeyError\u001b[0m                                  Traceback (most recent call last)",
            "\u001b[0;32m<ipython-input-2-3fa7eee1403a>\u001b[0m in \u001b[0;36m<module>\u001b[0;34m\u001b[0m\n\u001b[1;32m      1\u001b[0m \u001b[0mspam\u001b[0m\u001b[0;34m=\u001b[0m\u001b[0;34m{\u001b[0m\u001b[0;34m'bar'\u001b[0m\u001b[0;34m:\u001b[0m\u001b[0;36m100\u001b[0m\u001b[0;34m}\u001b[0m\u001b[0;34m\u001b[0m\u001b[0;34m\u001b[0m\u001b[0m\n\u001b[0;32m----> 2\u001b[0;31m \u001b[0mspam\u001b[0m\u001b[0;34m[\u001b[0m\u001b[0;34m'foo'\u001b[0m\u001b[0;34m]\u001b[0m\u001b[0;34m\u001b[0m\u001b[0;34m\u001b[0m\u001b[0m\n\u001b[0m",
            "\u001b[0;31mKeyError\u001b[0m: 'foo'"
          ]
        }
      ],
      "source": [
        "spam={'bar':100}\n",
        "spam['foo']"
      ]
    },
    {
      "cell_type": "markdown",
      "source": [
        "##**5. If a dictionary is stored in spam, what is the difference between the expressions 'cat' in spam and 'cat' in spam.keys()?**\n",
        "\n",
        "**ANS -**\n",
        "There is no difference. The in operator checks whether a value exists as a key in the dictionary."
      ],
      "metadata": {
        "id": "UNtjEXEoFiFy"
      }
    },
    {
      "cell_type": "code",
      "source": [
        "spam={'cat':'CAT'}\n",
        "'cat' in spam"
      ],
      "metadata": {
        "colab": {
          "base_uri": "https://localhost:8080/"
        },
        "id": "csxX9o7aFeGT",
        "outputId": "04d2aef4-2c5d-4bf4-cc08-127b0da75ac2"
      },
      "execution_count": 7,
      "outputs": [
        {
          "output_type": "execute_result",
          "data": {
            "text/plain": [
              "True"
            ]
          },
          "metadata": {},
          "execution_count": 7
        }
      ]
    },
    {
      "cell_type": "code",
      "source": [
        "'cat' in spam.keys()"
      ],
      "metadata": {
        "colab": {
          "base_uri": "https://localhost:8080/"
        },
        "id": "UsZ96Hm_Ijjl",
        "outputId": "f58c8399-ada8-4984-fc17-7923a2c6996a"
      },
      "execution_count": 10,
      "outputs": [
        {
          "output_type": "execute_result",
          "data": {
            "text/plain": [
              "True"
            ]
          },
          "metadata": {},
          "execution_count": 10
        }
      ]
    },
    {
      "cell_type": "markdown",
      "source": [
        "##**6. If a dictionary is stored in spam, what is the difference between the expressions 'cat' in spam and 'cat' in spam.values()?**\n",
        "\n",
        "**ANS -**\n",
        "\n",
        "'cat' in spam checks whether there is a 'cat' key in the dictionary, while 'cat' in spam.values() checks whether there is a value 'cat' for one of the keys in spam."
      ],
      "metadata": {
        "id": "IYThc8YrGlic"
      }
    },
    {
      "cell_type": "code",
      "source": [
        "spam={'cat':'CAT'}\n",
        "'cat' in spam"
      ],
      "metadata": {
        "colab": {
          "base_uri": "https://localhost:8080/"
        },
        "id": "HXqQUOHjGaBk",
        "outputId": "ef5e32fd-bd56-421e-f5db-61cdd2fd4703"
      },
      "execution_count": 6,
      "outputs": [
        {
          "output_type": "execute_result",
          "data": {
            "text/plain": [
              "True"
            ]
          },
          "metadata": {},
          "execution_count": 6
        }
      ]
    },
    {
      "cell_type": "code",
      "source": [
        "'cat' in spam.values()"
      ],
      "metadata": {
        "colab": {
          "base_uri": "https://localhost:8080/"
        },
        "id": "-dm1YUNDIbvB",
        "outputId": "2bc7a900-b7be-480c-dbe8-293a314b5f59"
      },
      "execution_count": 9,
      "outputs": [
        {
          "output_type": "execute_result",
          "data": {
            "text/plain": [
              "False"
            ]
          },
          "metadata": {},
          "execution_count": 9
        }
      ]
    },
    {
      "cell_type": "markdown",
      "source": [
        "##**7. What is a shortcut for the following code?**\n",
        "if 'color' not in spam:\n",
        "\n",
        "spam['color'] = 'black'\n",
        "\n",
        "**ANS -**"
      ],
      "metadata": {
        "id": "D9gtHY5NIzlD"
      }
    },
    {
      "cell_type": "code",
      "source": [
        "spam.setdefault('color', 'black')"
      ],
      "metadata": {
        "colab": {
          "base_uri": "https://localhost:8080/",
          "height": 36
        },
        "id": "P0WGrIqRIuDM",
        "outputId": "1476ac4e-1015-4c4c-cbbf-af05a1589aa5"
      },
      "execution_count": 11,
      "outputs": [
        {
          "output_type": "execute_result",
          "data": {
            "text/plain": [
              "'black'"
            ],
            "application/vnd.google.colaboratory.intrinsic+json": {
              "type": "string"
            }
          },
          "metadata": {},
          "execution_count": 11
        }
      ]
    },
    {
      "cell_type": "markdown",
      "source": [
        "##**8. How do you &quot;pretty print&quot; dictionary values using which module and function?**\n",
        "\n",
        "**ANS -**"
      ],
      "metadata": {
        "id": "0Gv66K01JaCm"
      }
    },
    {
      "cell_type": "code",
      "source": [
        "pprint.pprint()"
      ],
      "metadata": {
        "id": "GAzfl6IVJ56-"
      },
      "execution_count": null,
      "outputs": []
    }
  ]
}