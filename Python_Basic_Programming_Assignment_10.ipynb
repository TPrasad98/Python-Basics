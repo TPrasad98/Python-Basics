{
  "nbformat": 4,
  "nbformat_minor": 0,
  "metadata": {
    "colab": {
      "provenance": []
    },
    "kernelspec": {
      "name": "python3",
      "display_name": "Python 3"
    },
    "language_info": {
      "name": "python"
    }
  },
  "cells": [
    {
      "cell_type": "markdown",
      "source": [
        "# **PROGRAMMING ASSIGNMENT - 10**"
      ],
      "metadata": {
        "id": "V_HU8NODOJO9"
      }
    },
    {
      "cell_type": "markdown",
      "source": [
        "## **1. Write a Python program to find sum of elements in list?**"
      ],
      "metadata": {
        "id": "lI1iZ1j6OXHE"
      }
    },
    {
      "cell_type": "code",
      "source": [
        "def sum_list(l) :\n",
        "  print(\" the sum of list objects is :\",end = ' ')\n",
        "  return sum(l)\n",
        "\n",
        "l = [11, 5, 17, 18, 23]\n",
        "sum_list(l)"
      ],
      "metadata": {
        "colab": {
          "base_uri": "https://localhost:8080/"
        },
        "id": "hCPp2ERFOUsK",
        "outputId": "fe6b67e5-d8cb-4b32-d33f-0381c9f0b859"
      },
      "execution_count": 3,
      "outputs": [
        {
          "output_type": "stream",
          "name": "stdout",
          "text": [
            " the sum of list objects is : "
          ]
        },
        {
          "output_type": "execute_result",
          "data": {
            "text/plain": [
              "74"
            ]
          },
          "metadata": {},
          "execution_count": 3
        }
      ]
    },
    {
      "cell_type": "markdown",
      "source": [
        "### **2. Write a Python program to Multiply all numbers in the list?**"
      ],
      "metadata": {
        "id": "P-LvRRy_QSl2"
      }
    },
    {
      "cell_type": "code",
      "source": [
        "def mul_list(l):\n",
        "\n",
        "  # multiplying elements one by one..\n",
        "  result = 1\n",
        "  for i in l :\n",
        "    result *= i\n",
        "  return result\n",
        "\n",
        "list1 = [12,41,5,1,2,3,6,5]\n",
        "print(\"The product of all elements of the list is :\",mul_list(list1))"
      ],
      "metadata": {
        "colab": {
          "base_uri": "https://localhost:8080/"
        },
        "id": "K0sIH_ghP_uT",
        "outputId": "aad72fd5-f44b-4c01-c110-1b172753633a"
      },
      "execution_count": 6,
      "outputs": [
        {
          "output_type": "stream",
          "name": "stdout",
          "text": [
            "The product of all elements of the list is : 442800\n"
          ]
        }
      ]
    },
    {
      "cell_type": "markdown",
      "source": [
        "## **3. Write a Python program to find smallest number in a list?**"
      ],
      "metadata": {
        "id": "yLA6NCdqTMDL"
      }
    },
    {
      "cell_type": "code",
      "source": [
        "def smallest_in_list(l):\n",
        "  l = sorted(l)\n",
        "  return l[0]\n",
        "\n",
        "l1 = [22,46,5245,414,5524,2222,5,85,5,45,5,53]\n",
        "print(\"The smallest element in the given list is :\",smallest_in_list(l1))"
      ],
      "metadata": {
        "colab": {
          "base_uri": "https://localhost:8080/"
        },
        "id": "yQ_ziJ5US2ej",
        "outputId": "1a1a1da8-9bdc-4a33-b763-f900420c4033"
      },
      "execution_count": 10,
      "outputs": [
        {
          "output_type": "stream",
          "name": "stdout",
          "text": [
            "The smallest element in the given list is : 5\n"
          ]
        }
      ]
    },
    {
      "cell_type": "markdown",
      "source": [
        "## **4. Write a Python program to find largest number in a list?**"
      ],
      "metadata": {
        "id": "1S_ui3loUqzN"
      }
    },
    {
      "cell_type": "code",
      "source": [
        "def largest_in_list(l):\n",
        "  l = sorted(l)\n",
        "  return l[-1]\n",
        "\n",
        "l1 = [22,46,5245,414,5524,2222,5,85,5,45,5,53]\n",
        "print(\"The largest element in the given list is :\",largest_in_list(l1))"
      ],
      "metadata": {
        "colab": {
          "base_uri": "https://localhost:8080/"
        },
        "id": "HXkVcSpTUIcD",
        "outputId": "a60ce130-627f-48d0-cd77-a625935acf62"
      },
      "execution_count": 12,
      "outputs": [
        {
          "output_type": "stream",
          "name": "stdout",
          "text": [
            "The largest element in the given list is : 5524\n"
          ]
        }
      ]
    },
    {
      "cell_type": "markdown",
      "source": [
        "## **5. Write a Python program to find second largest number in a list?**"
      ],
      "metadata": {
        "id": "h_gna2GwU-8y"
      }
    },
    {
      "cell_type": "code",
      "source": [
        "list1 = [10, 20, 4, 45, 99]\n",
        "\n",
        "# print second maximum element using sorted() method\n",
        "print(\"Second largest element is:\", sorted(list1)[-2])"
      ],
      "metadata": {
        "colab": {
          "base_uri": "https://localhost:8080/"
        },
        "id": "cB0bSrN0U566",
        "outputId": "ad7f4082-9b11-4fdc-f25d-6e6ceb4be2b7"
      },
      "execution_count": 13,
      "outputs": [
        {
          "output_type": "stream",
          "name": "stdout",
          "text": [
            "Second largest element is: 45\n"
          ]
        }
      ]
    },
    {
      "cell_type": "markdown",
      "source": [
        "## **6. Write a Python program to find N largest elements from a list?**"
      ],
      "metadata": {
        "id": "TNpsLxzNWnFq"
      }
    },
    {
      "cell_type": "code",
      "source": [
        "def N_largest(l,N) :\n",
        "  l = list(set(l))\n",
        "  return l[-N:]\n",
        "\n",
        "list1 = [1,2,5,2,4,5,8,7,6,3,5,9,8,4,5,2]\n",
        "n = 3\n",
        "\n",
        "print('The',n, 'largest elements from the list :',N_largest(list1,n))"
      ],
      "metadata": {
        "colab": {
          "base_uri": "https://localhost:8080/"
        },
        "id": "RCiT6NniYtma",
        "outputId": "d32c577c-9f20-438c-b43b-f4450a8958da"
      },
      "execution_count": 22,
      "outputs": [
        {
          "output_type": "stream",
          "name": "stdout",
          "text": [
            "The 3 largest elements from the list : [7, 8, 9]\n"
          ]
        }
      ]
    },
    {
      "cell_type": "markdown",
      "source": [
        "## **7. Write a Python program to print even numbers in a list?**\n"
      ],
      "metadata": {
        "id": "alhrxemyZ9Oa"
      }
    },
    {
      "cell_type": "code",
      "source": [
        "list1 = [10, 24, 4, 45, 66, 93]\n",
        "\n",
        "num = 0\n",
        "\n",
        "# using while loop\n",
        "while num < len(list1) :\n",
        "\n",
        "  # checking condition\n",
        "  if list1[num] % 2 == 0 :\n",
        "    print(list1[num],end = ', ')\n",
        "\n",
        "  # increment num  \n",
        "  num += 1"
      ],
      "metadata": {
        "colab": {
          "base_uri": "https://localhost:8080/"
        },
        "id": "dnjgUF_0ZmZp",
        "outputId": "deb379a6-ecb0-4c48-83fa-9e716f51fbf4"
      },
      "execution_count": 24,
      "outputs": [
        {
          "output_type": "stream",
          "name": "stdout",
          "text": [
            "10, 24, 4, 66, "
          ]
        }
      ]
    },
    {
      "cell_type": "markdown",
      "source": [
        "## **8. Write a Python program to print odd numbers in a List?**"
      ],
      "metadata": {
        "id": "4TCAnDbucmap"
      }
    },
    {
      "cell_type": "code",
      "source": [
        "list1 = [10, 24, 4, 45, 66, 93]\n",
        "\n",
        "num = 0\n",
        "\n",
        "# using while loop\n",
        "while num < len(list1) :\n",
        "\n",
        "  # checking conditions\n",
        "  if list1[num] % 2 != 0 :\n",
        "    print(list1[num],end = ', ')\n",
        "\n",
        "  # increment num\n",
        "  num += 1"
      ],
      "metadata": {
        "colab": {
          "base_uri": "https://localhost:8080/"
        },
        "id": "AJXMqzekbeAt",
        "outputId": "f73322b7-1d96-4d56-f701-d75c88fdec8f"
      },
      "execution_count": 25,
      "outputs": [
        {
          "output_type": "stream",
          "name": "stdout",
          "text": [
            "45, 93, "
          ]
        }
      ]
    },
    {
      "cell_type": "markdown",
      "source": [
        "## **9. Write a Python program to Remove empty List from List?**"
      ],
      "metadata": {
        "id": "w8bzaXEsdWKB"
      }
    },
    {
      "cell_type": "code",
      "source": [
        "test_list = [5, 6, [], 3, [], [], 9]\n",
        " \n",
        "# Printing original list\n",
        "print(\"The original list is : \" + str(test_list))\n",
        " \n",
        "# Removing empty List from List\n",
        "# using filter() method\n",
        "res = list(filter(None, test_list))\n",
        " \n",
        "# Printing the resultant list\n",
        "print(\"List after empty list removal : \" + str(res))"
      ],
      "metadata": {
        "colab": {
          "base_uri": "https://localhost:8080/"
        },
        "id": "BYTKOX72dQkA",
        "outputId": "0c7f1aed-2125-4ca7-ec0e-c3709632c994"
      },
      "execution_count": 26,
      "outputs": [
        {
          "output_type": "stream",
          "name": "stdout",
          "text": [
            "The original list is : [5, 6, [], 3, [], [], 9]\n",
            "List after empty list removal : [5, 6, 3, 9]\n"
          ]
        }
      ]
    },
    {
      "cell_type": "markdown",
      "source": [
        "##  **10. Write a Python program to Cloning or Copying a list?**"
      ],
      "metadata": {
        "id": "pPnTchwxd1Ma"
      }
    },
    {
      "cell_type": "code",
      "source": [
        "def Cloning(li1):\n",
        "    li_copy = li1\n",
        "    return li_copy\n",
        "   \n",
        "# Driver Code\n",
        "li1 = [4, 8, 2, 10, 15, 18]\n",
        "li2 = Cloning(li1)\n",
        "print(\"Original List:\", li1)\n",
        "print(\"After Cloning:\", li2)"
      ],
      "metadata": {
        "colab": {
          "base_uri": "https://localhost:8080/"
        },
        "id": "azihclONdxBf",
        "outputId": "afb29ea2-98c9-4f88-ed7e-4bd5d7ec7b65"
      },
      "execution_count": 27,
      "outputs": [
        {
          "output_type": "stream",
          "name": "stdout",
          "text": [
            "Original List: [4, 8, 2, 10, 15, 18]\n",
            "After Cloning: [4, 8, 2, 10, 15, 18]\n"
          ]
        }
      ]
    },
    {
      "cell_type": "markdown",
      "source": [
        "## **11. Write a Python program to Count occurrences of an element in a list?**"
      ],
      "metadata": {
        "id": "IFELaA25fEvw"
      }
    },
    {
      "cell_type": "code",
      "source": [
        "def countX(lst, x):\n",
        "    return lst.count(x)\n",
        " \n",
        " \n",
        "# Driver Code\n",
        "lst = [8, 6, 8, 10, 8, 20, 10, 8, 8]\n",
        "x = 6\n",
        "print(f'{x} has occurred {countX(lst, x)} times')\n",
        "                                  "
      ],
      "metadata": {
        "colab": {
          "base_uri": "https://localhost:8080/"
        },
        "id": "BXcQHF78e_8v",
        "outputId": "00bbb7ac-0e91-442d-a810-36b413629c8d"
      },
      "execution_count": 30,
      "outputs": [
        {
          "output_type": "stream",
          "name": "stdout",
          "text": [
            "6 has occurred 1 times\n"
          ]
        }
      ]
    }
  ]
}