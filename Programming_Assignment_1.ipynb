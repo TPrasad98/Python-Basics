{
  "nbformat": 4,
  "nbformat_minor": 0,
  "metadata": {
    "colab": {
      "provenance": []
    },
    "kernelspec": {
      "name": "python3",
      "display_name": "Python 3"
    },
    "language_info": {
      "name": "python"
    }
  },
  "cells": [
    {
      "cell_type": "markdown",
      "source": [
        "#**Programming Assignment-1**"
      ],
      "metadata": {
        "id": "sqWSLygKJW9r"
      }
    },
    {
      "cell_type": "markdown",
      "source": [
        "##**1. Write a Python program to print &quot;Hello Python&quot;?**"
      ],
      "metadata": {
        "id": "VT0HQn29I-QF"
      }
    },
    {
      "cell_type": "code",
      "source": [
        "print ('Hello Python') "
      ],
      "metadata": {
        "colab": {
          "base_uri": "https://localhost:8080/"
        },
        "id": "9dajZmItJVAP",
        "outputId": "7ff93c9c-a7cb-4490-a3be-c21c4aceef74"
      },
      "execution_count": 1,
      "outputs": [
        {
          "output_type": "stream",
          "name": "stdout",
          "text": [
            "Hello Python\n"
          ]
        }
      ]
    },
    {
      "cell_type": "markdown",
      "source": [
        "##**2. Write a Python program to do arithmetical operations addition and division.?**"
      ],
      "metadata": {
        "id": "75_Q6c-UKZqS"
      }
    },
    {
      "cell_type": "code",
      "source": [
        "\n",
        "val1 = 2\n",
        "val2 = 3\n",
        "  \n",
        "# using the addition operator\n",
        "res = val1 + val2\n",
        "print(res)\n",
        "\n"
      ],
      "metadata": {
        "colab": {
          "base_uri": "https://localhost:8080/"
        },
        "id": "s4wtoAcxKRJj",
        "outputId": "dbbeff64-0c25-46ac-fa9b-2e5ead8943a4"
      },
      "execution_count": 4,
      "outputs": [
        {
          "output_type": "stream",
          "name": "stdout",
          "text": [
            "5\n"
          ]
        }
      ]
    },
    {
      "cell_type": "code",
      "source": [
        "val1 = 3\n",
        "val2 = 2\n",
        "  \n",
        "# using the division operator\n",
        "res = val1 / val2\n",
        "print(res)"
      ],
      "metadata": {
        "colab": {
          "base_uri": "https://localhost:8080/"
        },
        "id": "w06rcUyTLCDB",
        "outputId": "62d908a5-4c23-4020-be38-eea53cd4739a"
      },
      "execution_count": 5,
      "outputs": [
        {
          "output_type": "stream",
          "name": "stdout",
          "text": [
            "1.5\n"
          ]
        }
      ]
    },
    {
      "cell_type": "markdown",
      "source": [
        "##**3. Write a Python program to find the area of a triangle?**"
      ],
      "metadata": {
        "id": "pPv4ISBXLb5P"
      }
    },
    {
      "cell_type": "code",
      "source": [
        "# Python Program to find the area of triangle\n",
        "\n",
        "a = 5\n",
        "b = 6\n",
        "c = 7\n",
        "\n",
        "# Uncomment below to take inputs from the user\n",
        "# a = float(input('Enter first side: '))\n",
        "# b = float(input('Enter second side: '))\n",
        "# c = float(input('Enter third side: '))\n",
        "\n",
        "# calculate the semi-perimeter\n",
        "s = (a + b + c) / 2\n",
        "\n",
        "# calculate the area\n",
        "area = (s*(s-a)*(s-b)*(s-c)) ** 0.5\n",
        "print('The area of the triangle is %0.2f'%area)"
      ],
      "metadata": {
        "colab": {
          "base_uri": "https://localhost:8080/"
        },
        "id": "fy-B-l4eLZlR",
        "outputId": "95b26980-da3a-45dd-8d22-560a8e969287"
      },
      "execution_count": 10,
      "outputs": [
        {
          "output_type": "stream",
          "name": "stdout",
          "text": [
            "The area of the triangle is 14.70\n"
          ]
        }
      ]
    },
    {
      "cell_type": "markdown",
      "source": [
        "##**4. Write a Python program to swap two variables?**"
      ],
      "metadata": {
        "id": "S3NFcbOGMTnt"
      }
    },
    {
      "cell_type": "code",
      "source": [
        "# Python program to demonstrate\n",
        "# swapping of two variables\n",
        " \n",
        "x = 10\n",
        "y = 50\n",
        " \n",
        "# Swapping of two variables\n",
        "# Using third variable\n",
        "temp = x\n",
        "x = y\n",
        "y = temp\n",
        " \n",
        "print(\"Value of x:\", x)\n",
        "print(\"Value of y:\", y)"
      ],
      "metadata": {
        "colab": {
          "base_uri": "https://localhost:8080/"
        },
        "id": "_xepRa-vLt00",
        "outputId": "17a03f46-5781-48ac-90e3-f28c54a617ac"
      },
      "execution_count": 11,
      "outputs": [
        {
          "output_type": "stream",
          "name": "stdout",
          "text": [
            "Value of x: 50\n",
            "Value of y: 10\n"
          ]
        }
      ]
    },
    {
      "cell_type": "markdown",
      "source": [
        "##**5. Write a Python program to generate a random number?**"
      ],
      "metadata": {
        "id": "PXkHVlsPMkNO"
      }
    },
    {
      "cell_type": "code",
      "source": [
        "import random\n",
        "num = random.random()\n",
        "print(num)"
      ],
      "metadata": {
        "colab": {
          "base_uri": "https://localhost:8080/"
        },
        "id": "Vxc5zcy3MiUS",
        "outputId": "51a6df1f-fed3-4a7d-fa1b-c7d69f4e880e"
      },
      "execution_count": 12,
      "outputs": [
        {
          "output_type": "stream",
          "name": "stdout",
          "text": [
            "0.567719990157768\n"
          ]
        }
      ]
    }
  ]
}