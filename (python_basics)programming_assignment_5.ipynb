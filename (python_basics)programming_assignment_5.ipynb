{
  "nbformat": 4,
  "nbformat_minor": 0,
  "metadata": {
    "colab": {
      "provenance": []
    },
    "kernelspec": {
      "name": "python3",
      "display_name": "Python 3"
    },
    "language_info": {
      "name": "python"
    }
  },
  "cells": [
    {
      "cell_type": "markdown",
      "source": [
        "# **PROGRAMMING ASSIGNMENT - 5**"
      ],
      "metadata": {
        "id": "cRBbwJ2kt8dZ"
      }
    },
    {
      "cell_type": "markdown",
      "source": [
        "## **1. Write a Python Program to Find LCM?**"
      ],
      "metadata": {
        "id": "ZISF_tAyuF_e"
      }
    },
    {
      "cell_type": "code",
      "source": [
        "# Python Program to find the L.C.M of two input numbers\n",
        "\n",
        "def find_LCM(x,y):\n",
        "\n",
        "  # Choose the greater number\n",
        "  if x > y :\n",
        "    greater = x\n",
        "  else:\n",
        "    greater = y\n",
        "\n",
        "  while True :\n",
        "    if greater % x == 0 and greater % y == 0 :\n",
        "      lcm = greater\n",
        "      break\n",
        "    greater += 1\n",
        "\n",
        "  return lcm\n",
        "\n",
        "num1 = 45\n",
        "num2 = 12\n",
        "\n",
        "print('The L.C.M is ',find_LCM(num1,num2))\n",
        "\n"
      ],
      "metadata": {
        "id": "s1_PekONuDCF",
        "colab": {
          "base_uri": "https://localhost:8080/"
        },
        "outputId": "cb5703a5-e013-48d8-8aaf-710d03fbf085"
      },
      "execution_count": 1,
      "outputs": [
        {
          "output_type": "stream",
          "name": "stdout",
          "text": [
            "The L.C.M is  180\n"
          ]
        }
      ]
    },
    {
      "cell_type": "markdown",
      "source": [
        "## **2. Write a Python Program to Find HCF?**"
      ],
      "metadata": {
        "id": "BVidJRcY6OcA"
      }
    },
    {
      "cell_type": "code",
      "source": [
        "# Pythom program to find the H.C.F of two numbers\n",
        "\n",
        "def find_hcf(x,y):\n",
        "\n",
        "  # choose the smaller number\n",
        "  if x > y:\n",
        "    smaller = y\n",
        "  else:\n",
        "    smaller = x\n",
        "\n",
        "  for i in range(1,smaller+1):\n",
        "    if x %i == 0 and y%i == 0 :\n",
        "      hcf = i\n",
        "  return hcf\n",
        "\n",
        "num1 = 45\n",
        "num2 = 85\n",
        "print(\"The H.C.F is \",find_hcf(num1,num2))\n"
      ],
      "metadata": {
        "colab": {
          "base_uri": "https://localhost:8080/"
        },
        "id": "64Jf0daZ6Bii",
        "outputId": "0b18f317-08dd-4a76-9226-3d6a01a42811"
      },
      "execution_count": 2,
      "outputs": [
        {
          "output_type": "stream",
          "name": "stdout",
          "text": [
            "The H.C.F is  5\n"
          ]
        }
      ]
    },
    {
      "cell_type": "markdown",
      "source": [
        "## **3. Write a Python Program to Convert Decimal to Binary, Octal and Hexadecimal?**"
      ],
      "metadata": {
        "id": "bCU9IN7C7m7d"
      }
    },
    {
      "cell_type": "code",
      "source": [
        "deci = int(input('enter the number :'))\n",
        "\n",
        "print(\"The decimal value is \",deci)\n",
        "print(deci,\"in binary :\",bin(deci))\n",
        "print(deci,\"in octal :\",oct(deci))\n",
        "print(deci,\"in hexadecimal\",hex(deci))"
      ],
      "metadata": {
        "colab": {
          "base_uri": "https://localhost:8080/"
        },
        "id": "MM1hSwxd7rFa",
        "outputId": "e02d0cbf-9f16-4fe9-a4ef-fad1e0f254b1"
      },
      "execution_count": 4,
      "outputs": [
        {
          "output_type": "stream",
          "name": "stdout",
          "text": [
            "enter the number :123\n",
            "The decimal value is  123\n",
            "123 in binary : 0b1111011\n",
            "123 in octal : 0o173\n",
            "123 in hexadecimal 0x7b\n"
          ]
        }
      ]
    },
    {
      "cell_type": "markdown",
      "source": [
        "## **4. Write a Python Program To Find ASCII value of a character?**"
      ],
      "metadata": {
        "id": "OoMnQWA-BUhw"
      }
    },
    {
      "cell_type": "code",
      "source": [
        "K = input(\"Please enter a character: \")    \n",
        "    \n",
        "print (\"The ASCII value of '\" + K + \"' is \", ord(K))  "
      ],
      "metadata": {
        "colab": {
          "base_uri": "https://localhost:8080/"
        },
        "id": "UeXJiH4PBYRm",
        "outputId": "54306e20-13d7-42a1-c2a4-ea8bc9d0d6c8"
      },
      "execution_count": 5,
      "outputs": [
        {
          "output_type": "stream",
          "name": "stdout",
          "text": [
            "Please enter a character: d\n",
            "The ASCII value of 'd' is  100\n"
          ]
        }
      ]
    },
    {
      "cell_type": "markdown",
      "source": [
        "## **5. Write a Python Program to Make a Simple Calculator with 4 basic mathematical operations?**"
      ],
      "metadata": {
        "id": "cYM5j7DIB3bc"
      }
    },
    {
      "cell_type": "code",
      "source": [
        "# This is the function adds two numbers\n",
        "def add(a,b):\n",
        "  return a+b\n",
        "\n",
        "# This fun subtracts two numbers\n",
        "def suntract(a,b):\n",
        "  return a-b\n",
        "\n",
        "# This func multiplies two numbers\n",
        "def multiply(a,b):\n",
        "  return a*b\n",
        "\n",
        "# This func divides two numbers\n",
        "def divide(a,b):\n",
        "  return a/b\n",
        "\n",
        "\n",
        "print(\"Select operation\")\n",
        "print(f\"\"\"\n",
        "1.add\n",
        "2.Subtract\n",
        "3.Multiply\n",
        "4.Divide\n",
        "\"\"\")\n",
        "\n",
        "while True:\n",
        "  # take input from user\n",
        "  choice = input(\"Enter your choice(1/2/3/4) :\")\n",
        "  \n",
        "  #check if the choice is one of the four options\n",
        "  if choice in ('1','2','3','4'):\n",
        "    num1 = float(input(\"Enter first number :\"))\n",
        "    num2 = float(input(\"Enter second number :\"))\n",
        "\n",
        "\n",
        "    if choice == '1':\n",
        "      print(num1,\"+\",num2,\"=\",add(num1,num2))\n",
        "\n",
        "    elif choice == '2':\n",
        "      print(num1,\"-\",num2,\"=\",subtract(num1,num2))\n",
        "\n",
        "    elif choice == '3':\n",
        "      print(num1,\"*\",num2,\"=\",multiply(num1,num2))\n",
        "\n",
        "    elif choice == '4':\n",
        "      print(num1,\"/\",num2,\"=\",divide(num1,num2))\n",
        "\n",
        "\n",
        "    # check if user wants another calculation\n",
        "    # break the while loop if answer is no\n",
        "    next_cal = input(\"Let's do the next calcualtion ?(yes/no) :\")\n",
        "    if next_cal == \"no\" :\n",
        "      break\n",
        "\n",
        "  else:\n",
        "    print(\"Invalid Input\")\n",
        "\n",
        "    \n",
        "\n",
        "\n"
      ],
      "metadata": {
        "colab": {
          "base_uri": "https://localhost:8080/"
        },
        "id": "PDgvXSzOB-l3",
        "outputId": "ce44cd11-ed50-48b2-82c0-e462c1a35433"
      },
      "execution_count": 6,
      "outputs": [
        {
          "name": "stdout",
          "output_type": "stream",
          "text": [
            "Select operation\n",
            "\n",
            "1.add\n",
            "2.Subtract\n",
            "3.Multiply\n",
            "4.Divide\n",
            "\n",
            "Enter your choice(1/2/3/4) :5\n",
            "Invalid Input\n",
            "Enter your choice(1/2/3/4) :4\n",
            "Enter first number :15\n",
            "Enter second number :23\n",
            "15.0 / 23.0 = 0.6521739130434783\n",
            "Let's do the next calcualtion ?(yes/no) :yes\n",
            "Enter your choice(1/2/3/4) :1\n",
            "Enter first number :12\n",
            "Enter second number :26\n",
            "12.0 + 26.0 = 38.0\n",
            "Let's do the next calcualtion ?(yes/no) :no\n"
          ]
        }
      ]
    },
    {
      "cell_type": "code",
      "source": [],
      "metadata": {
        "id": "JGw4IzJdGspt"
      },
      "execution_count": null,
      "outputs": []
    }
  ]
}