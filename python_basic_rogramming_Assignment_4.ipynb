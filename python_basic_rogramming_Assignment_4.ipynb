{
  "nbformat": 4,
  "nbformat_minor": 0,
  "metadata": {
    "colab": {
      "provenance": []
    },
    "kernelspec": {
      "name": "python3",
      "display_name": "Python 3"
    },
    "language_info": {
      "name": "python"
    }
  },
  "cells": [
    {
      "cell_type": "markdown",
      "source": [
        "#**Programming Assignment - 4**"
      ],
      "metadata": {
        "id": "U9JNACFbzuQD"
      }
    },
    {
      "cell_type": "markdown",
      "source": [
        "## **1. Write a Python Program to Find the Factorial of a Number?**"
      ],
      "metadata": {
        "id": "1yz-PJsvz9Ny"
      }
    },
    {
      "cell_type": "code",
      "source": [
        "# Python program to find the factorial of a number.\n",
        "\n",
        "# change the value for a different result\n",
        "num = 5\n",
        "\n",
        "# To take input from the user\n",
        "#num = int(input(\"Enter a number: \"))\n",
        "\n",
        "factorial = 1\n",
        "\n",
        "# check if the number is negative , positive or zero\n",
        "\n",
        "if num < 0 :\n",
        "  print(\"Factorial doesn't exist for negative numbers.\")\n",
        "\n",
        "elif num == 0 :\n",
        "  print(\"Factorial of 0 is 1.\")\n",
        "\n",
        "else :\n",
        "  for i in range(1,num+1):\n",
        "    factorial = factorial*i\n",
        "  print(\"The factorial of \",num ,\"is\" ,factorial)     \n"
      ],
      "metadata": {
        "colab": {
          "base_uri": "https://localhost:8080/"
        },
        "id": "7E4sqx2Sz7se",
        "outputId": "fe15786a-5f6b-492e-a9c4-9b3762f365f3"
      },
      "execution_count": null,
      "outputs": [
        {
          "output_type": "stream",
          "name": "stdout",
          "text": [
            "The factorial of  5 is 120\n"
          ]
        }
      ]
    },
    {
      "cell_type": "markdown",
      "source": [
        "## **2. Write a Python Program to Display the multiplication Table?**"
      ],
      "metadata": {
        "id": "1kFPsQE52zhO"
      }
    },
    {
      "cell_type": "code",
      "source": [
        "# Multiplication table (from 1 to 10) in Python\n",
        "\n",
        "num = 1\n",
        "\n",
        "# To take input from the user\n",
        "# num = int(input(\"Display multiplication table of? \"))\n",
        "\n",
        "# Iterate 10 times from i = 1 to 10\n",
        "for i in range(1, 11):\n",
        "   print(num, 'x', i, '=', num*i)"
      ],
      "metadata": {
        "colab": {
          "base_uri": "https://localhost:8080/"
        },
        "id": "KrAg_1WW2kbt",
        "outputId": "9f6b5559-8327-4a43-c83c-300c0f7ae1a1"
      },
      "execution_count": null,
      "outputs": [
        {
          "output_type": "stream",
          "name": "stdout",
          "text": [
            "1 x 1 = 1\n",
            "1 x 2 = 2\n",
            "1 x 3 = 3\n",
            "1 x 4 = 4\n",
            "1 x 5 = 5\n",
            "1 x 6 = 6\n",
            "1 x 7 = 7\n",
            "1 x 8 = 8\n",
            "1 x 9 = 9\n",
            "1 x 10 = 10\n"
          ]
        }
      ]
    },
    {
      "cell_type": "markdown",
      "source": [
        "## **3. Write a Python Program to Print the Fibonacci sequence?**"
      ],
      "metadata": {
        "id": "zGLcjB8t3XlE"
      }
    },
    {
      "cell_type": "code",
      "source": [
        "# Program to display the Fibonacci sequence \n",
        "\n",
        "nterms = int(input(\"How many terms? \"))\n",
        "\n",
        "# first two terms\n",
        "n1, n2 = 0, 1\n",
        "count = 0\n",
        "\n",
        "# check if the number of terms is valid\n",
        "if nterms <= 0:\n",
        "   print(\"Please enter a positive integer\")\n",
        "# if there is only one term, return n1\n",
        "elif nterms == 1:\n",
        "   print(\"Fibonacci sequence upto\",nterms,\":\")\n",
        "   print(n1)\n",
        "# generate fibonacci sequence\n",
        "else:\n",
        "   print(\"Fibonacci sequence:\")\n",
        "   while count < nterms:\n",
        "       print(n1)\n",
        "       nth = n1 + n2\n",
        "       # update values\n",
        "       n1 = n2\n",
        "       n2 = nth\n",
        "       count += 1\n",
        "  "
      ],
      "metadata": {
        "id": "Y22dutxI3LzH",
        "colab": {
          "base_uri": "https://localhost:8080/"
        },
        "outputId": "e783099b-b01c-4d16-924b-a2df6bab4d0e"
      },
      "execution_count": null,
      "outputs": [
        {
          "output_type": "stream",
          "name": "stdout",
          "text": [
            "How many terms? 6\n",
            "Fibonacci sequence:\n",
            "0\n",
            "1\n",
            "1\n",
            "2\n",
            "3\n",
            "5\n"
          ]
        }
      ]
    },
    {
      "cell_type": "markdown",
      "source": [
        "## **4. Write a Python Program to Check Armstrong Number?**\n",
        "\n",
        "\n"
      ],
      "metadata": {
        "id": "SeN62I-vVoIz"
      }
    },
    {
      "cell_type": "code",
      "source": [
        "# Python program to check if the number is an Armstrong number or not\n",
        "\n",
        "# take input from user\n",
        "num = int(input('Enter a number :'))\n",
        "\n",
        "# initialize sum\n",
        "sum = 0\n",
        "\n",
        "# find the sum of the cube of each digit\n",
        "temp = num\n",
        "while temp > 0 :\n",
        "  digit = temp % 10\n",
        "  sum += digit **3\n",
        "  temp //=10\n",
        "\n",
        "# display the result\n",
        "if num == sum :\n",
        "  print(num,'is an Armstrong number.')\n",
        "else:\n",
        "  print(num,\"is not an Armstrong number.\")"
      ],
      "metadata": {
        "colab": {
          "base_uri": "https://localhost:8080/"
        },
        "id": "mjffmoZbey4x",
        "outputId": "9b562fca-0277-4b7b-db60-c8ebd5ac5542"
      },
      "execution_count": null,
      "outputs": [
        {
          "output_type": "stream",
          "name": "stdout",
          "text": [
            "Enter a number :1245\n",
            "1245 is not an Armstrong number.\n"
          ]
        }
      ]
    },
    {
      "cell_type": "markdown",
      "source": [
        "## **5. Write a Python Program to Find Armstrong Number in an Interval?**"
      ],
      "metadata": {
        "id": "LqPmHj4yosZc"
      }
    },
    {
      "cell_type": "code",
      "source": [
        "# Program to check Armstrong numbers in a certain interval\n",
        "\n",
        "lower = 100\n",
        "upper = 1000\n",
        "\n",
        "for num in range(lower,upper+1) :\n",
        "\n",
        "  #order of the number\n",
        "  order = len(str(num))\n",
        "\n",
        "  #initialize sum\n",
        "  sum = 0\n",
        "\n",
        "  temp = num\n",
        "  while temp > 0:\n",
        "    digit = temp % 10\n",
        "    sum += digit ** order\n",
        "    temp //= 10\n",
        "\n",
        "  if num == sum :\n",
        "    print(num)\n"
      ],
      "metadata": {
        "colab": {
          "base_uri": "https://localhost:8080/"
        },
        "id": "EA9Qe6YQo3DJ",
        "outputId": "e0a3f6a4-bfb7-489d-e73c-ecd7ce320da1"
      },
      "execution_count": null,
      "outputs": [
        {
          "output_type": "stream",
          "name": "stdout",
          "text": [
            "153\n",
            "370\n",
            "371\n",
            "407\n"
          ]
        }
      ]
    },
    {
      "cell_type": "markdown",
      "source": [
        "## **6. Write a Python Program to Find the Sum of Natural Numbers?**\n"
      ],
      "metadata": {
        "id": "Ioohd30LsWol"
      }
    },
    {
      "cell_type": "code",
      "source": [
        "# Pythomn program to find sum of natural numbers \n",
        "\n",
        "num = 20\n",
        "\n",
        "if num < 0:\n",
        "  print('Enter a positive number.')\n",
        "\n",
        "else:\n",
        "  sum = 0\n",
        "  #use while loop to iterate until zero\n",
        "  while num > 0 :\n",
        "    sum += num\n",
        "    num -= 1\n",
        "  print('The sum is',sum)"
      ],
      "metadata": {
        "colab": {
          "base_uri": "https://localhost:8080/"
        },
        "id": "sCbOLegPsYbc",
        "outputId": "7d57a960-ea2f-4ec7-9e6d-25aaf356a83f"
      },
      "execution_count": null,
      "outputs": [
        {
          "output_type": "stream",
          "name": "stdout",
          "text": [
            "The sum is 210\n"
          ]
        }
      ]
    },
    {
      "cell_type": "code",
      "source": [],
      "metadata": {
        "id": "7Ggfz_Ceth9A"
      },
      "execution_count": null,
      "outputs": []
    }
  ]
}