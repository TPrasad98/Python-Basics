{
  "nbformat": 4,
  "nbformat_minor": 0,
  "metadata": {
    "colab": {
      "provenance": []
    },
    "kernelspec": {
      "name": "python3",
      "display_name": "Python 3"
    },
    "language_info": {
      "name": "python"
    }
  },
  "cells": [
    {
      "cell_type": "markdown",
      "source": [
        "# **PROGRAMMING ASSIGNMENT- 11**"
      ],
      "metadata": {
        "id": "z13WHvOOVreZ"
      }
    },
    {
      "cell_type": "markdown",
      "source": [
        "## **1. Write a Python program to find words which are greater than given length k?**"
      ],
      "metadata": {
        "id": "mj32HPePV3W5"
      }
    },
    {
      "cell_type": "code",
      "source": [
        "def word_k(s,k):\n",
        "\n",
        "  #split the string where the space comes\n",
        "  word_list = s.split()\n",
        "  #iterate the loop for wvery word\n",
        "  for i in word_list :\n",
        "    #if length of current word\n",
        "    if len(i) > k :\n",
        "      #greater than k then \n",
        "      print(i,end = \" \")\n",
        "\n",
        "k = 4\n",
        "s = 'kanha is a good boy.'\n",
        "word_k(s,k)"
      ],
      "metadata": {
        "colab": {
          "base_uri": "https://localhost:8080/"
        },
        "id": "8XsbGRWwVyN7",
        "outputId": "d9692530-2f9b-4bbc-d0cc-0738b40041cc"
      },
      "execution_count": 3,
      "outputs": [
        {
          "output_type": "stream",
          "name": "stdout",
          "text": [
            "kanha "
          ]
        }
      ]
    },
    {
      "cell_type": "markdown",
      "source": [
        "## **2. Write a Python program for removing i-th character from a string?**"
      ],
      "metadata": {
        "id": "yaqqpTAPYXu_"
      }
    },
    {
      "cell_type": "code",
      "source": [
        "def remove_char(s, i):\n",
        "    a = s[ : i]\n",
        "    b = s[i + 1: ]\n",
        "    return a+b\n",
        "\n",
        "string = \"Pythonisgood\"\n",
        "# Remove ith index element\n",
        "i = 5\n",
        "remove_char(string,i)"
      ],
      "metadata": {
        "colab": {
          "base_uri": "https://localhost:8080/",
          "height": 36
        },
        "id": "8syAbK3BXxWU",
        "outputId": "bb2dcc7c-5b85-4997-9766-84c95098c842"
      },
      "execution_count": 6,
      "outputs": [
        {
          "output_type": "execute_result",
          "data": {
            "text/plain": [
              "'Pythoisgood'"
            ],
            "application/vnd.google.colaboratory.intrinsic+json": {
              "type": "string"
            }
          },
          "metadata": {},
          "execution_count": 6
        }
      ]
    },
    {
      "cell_type": "markdown",
      "source": [
        "## **3. Write a Python program to split and join a string?**"
      ],
      "metadata": {
        "id": "ktXZE_HKZdD3"
      }
    },
    {
      "cell_type": "code",
      "source": [
        "def split_string(string):\n",
        " \n",
        "    # Split the string based on space delimiter\n",
        "    list_string = string.split(' ')\n",
        "     \n",
        "    return list_string\n",
        " \n",
        "def join_string(list_string):\n",
        " \n",
        "    # Join the string based on '-' delimiter\n",
        "    string = '-'.join(list_string)\n",
        "     \n",
        "    return string\n",
        " \n",
        "\n",
        "string = 'I love iNeuron'\n",
        "     \n",
        "# Splitting a string\n",
        "list_string = split_string(string)\n",
        "print(list_string)\n",
        " \n",
        "# Join list of strings into one\n",
        "new_string = join_string(list_string)\n",
        "print(new_string)"
      ],
      "metadata": {
        "colab": {
          "base_uri": "https://localhost:8080/"
        },
        "id": "H69vGz0iY4sz",
        "outputId": "d8e8438e-0c43-4761-e12d-0935ca5151ab"
      },
      "execution_count": 10,
      "outputs": [
        {
          "output_type": "stream",
          "name": "stdout",
          "text": [
            "['I', 'love', 'iNeuron']\n",
            "I-love-iNeuron\n"
          ]
        }
      ]
    },
    {
      "cell_type": "markdown",
      "source": [
        "## **4. Write a Python to check if a given string is binary string or not?**"
      ],
      "metadata": {
        "id": "LVv9vpQHgTdr"
      }
    },
    {
      "cell_type": "code",
      "source": [
        "def check(string):\n",
        " \n",
        "    # set function convert string\n",
        "    # into set of characters .\n",
        "    p = set(string)\n",
        " \n",
        "    # declare set of '0', '1' .\n",
        "    s = {'0', '1'}\n",
        " \n",
        "    # check set p is same as set s\n",
        "    # or set p contains only '0'\n",
        "    # or set p contains only '1'\n",
        "    # or not, if any one condition\n",
        "    # is true then string is accepted\n",
        "    # otherwise not .\n",
        "    if s == p or p == {'0'} or p == {'1'}:\n",
        "        print(\"Yes\")\n",
        "    else:\n",
        "        print(\"No\")\n",
        "\n",
        "\n",
        "string = \"101010000111\"\n",
        " \n",
        "# function calling\n",
        "check(string)"
      ],
      "metadata": {
        "colab": {
          "base_uri": "https://localhost:8080/"
        },
        "id": "DvJas6jPfX3w",
        "outputId": "a72036b1-327c-448b-9970-436e8a1bbc93"
      },
      "execution_count": 11,
      "outputs": [
        {
          "output_type": "stream",
          "name": "stdout",
          "text": [
            "Yes\n"
          ]
        }
      ]
    },
    {
      "cell_type": "markdown",
      "source": [
        "## **5. Write a Python program to find uncommon words from two Strings?**"
      ],
      "metadata": {
        "id": "q5YPqwMHhG-D"
      }
    },
    {
      "cell_type": "code",
      "source": [
        "def UncommonWords(A, B):\n",
        "    A=A.split()\n",
        "    B=B.split()\n",
        "    x=[]\n",
        "    for i in A:\n",
        "        if i not in B:\n",
        "            x.append(i)\n",
        "    for i in B:\n",
        "        if i not in A:\n",
        "            x.append(i)\n",
        "    x=list(set(x))\n",
        "    return x\n",
        "\n",
        "\n",
        "A = 'I will definitely work hard'\n",
        "B = 'I will do it'\n",
        "UncommonWords(A,B)"
      ],
      "metadata": {
        "colab": {
          "base_uri": "https://localhost:8080/"
        },
        "id": "4IXs6gVphFbV",
        "outputId": "6718975d-be7a-426d-fd9f-1bb9ac81f599"
      },
      "execution_count": 14,
      "outputs": [
        {
          "output_type": "execute_result",
          "data": {
            "text/plain": [
              "['do', 'definitely', 'hard', 'it', 'work']"
            ]
          },
          "metadata": {},
          "execution_count": 14
        }
      ]
    },
    {
      "cell_type": "markdown",
      "source": [
        "## **6. Write a Python  program to find all duplicate characters in string?**"
      ],
      "metadata": {
        "id": "vVdfQEOmiMeK"
      }
    },
    {
      "cell_type": "code",
      "source": [
        "def find_dup_char(x):\n",
        "  \n",
        "  #creating an empty list\n",
        "  r = []\n",
        "\n",
        "  for i in x:\n",
        "    if i not in r and x.count(i) > 1 :\n",
        "      r.append(i)\n",
        "  print(\" \".join(r))\n",
        "\n",
        "x = 'iNeuron is love'\n",
        "find_dup_char(x)"
      ],
      "metadata": {
        "colab": {
          "base_uri": "https://localhost:8080/"
        },
        "id": "OgYUd7gHh90E",
        "outputId": "9fdd70b4-ce79-479d-d780-0824c58cc2c2"
      },
      "execution_count": 17,
      "outputs": [
        {
          "output_type": "stream",
          "name": "stdout",
          "text": [
            "i e o  \n"
          ]
        }
      ]
    },
    {
      "cell_type": "markdown",
      "source": [
        "## **7. Write a Python Program to check if a string contains any special character?**"
      ],
      "metadata": {
        "id": "0ScK_PdakEip"
      }
    },
    {
      "cell_type": "code",
      "source": [
        "n=\"jksdhfgsh$Rgbkadskjay%*&6KJMMH\"\n",
        "n.split()\n",
        "c=0\n",
        "s='[@_!#$%^&*()<>?/\\|}{~:]' # special character set\n",
        "for i in range(len(n)):\n",
        "    # checking if any special character is present in given string or not\n",
        "    if n[i] in s:\n",
        "      c+=1   # if special character found then add 1 to the c\n",
        " \n",
        "# if c value is greater than 0 then print no\n",
        "# means special character is found in string     \n",
        "if c:\n",
        "    print(\"string contains special characters.\")\n",
        "else:\n",
        "    print(\"string doesn't contain special characters\")"
      ],
      "metadata": {
        "colab": {
          "base_uri": "https://localhost:8080/"
        },
        "id": "RmJk-FTWjz5k",
        "outputId": "93e21108-cf9c-46ef-c68f-3568e389c945"
      },
      "execution_count": 24,
      "outputs": [
        {
          "output_type": "stream",
          "name": "stdout",
          "text": [
            "string contains special characters.\n"
          ]
        }
      ]
    }
  ]
}