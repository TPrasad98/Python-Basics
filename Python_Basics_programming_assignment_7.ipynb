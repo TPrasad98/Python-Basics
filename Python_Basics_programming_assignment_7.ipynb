{
  "nbformat": 4,
  "nbformat_minor": 0,
  "metadata": {
    "colab": {
      "provenance": []
    },
    "kernelspec": {
      "name": "python3",
      "display_name": "Python 3"
    },
    "language_info": {
      "name": "python"
    }
  },
  "cells": [
    {
      "cell_type": "markdown",
      "source": [
        "# **Python Basics Programming assignment - 7**"
      ],
      "metadata": {
        "id": "UzkaBO0JC8rb"
      }
    },
    {
      "cell_type": "markdown",
      "source": [
        "## **1. Write a Python Program to find sum of array?**"
      ],
      "metadata": {
        "id": "-fknbxODDKka"
      }
    },
    {
      "cell_type": "code",
      "source": [
        "arr = [12, 3, 4, 15]\n",
        " \n",
        "# sum() is an inbuilt function in python that adds\n",
        "# all the elements in list,set and tuples and returns\n",
        "# the value\n",
        "ans = sum(arr)\n",
        " \n",
        "# display sum\n",
        "print('Sum of the array is ', ans)"
      ],
      "metadata": {
        "colab": {
          "base_uri": "https://localhost:8080/"
        },
        "id": "x93BOeECD4nr",
        "outputId": "a2caffe1-87d0-43f5-e125-5735b351d151"
      },
      "execution_count": null,
      "outputs": [
        {
          "output_type": "stream",
          "name": "stdout",
          "text": [
            "Sum of the array is  34\n"
          ]
        }
      ]
    },
    {
      "cell_type": "markdown",
      "source": [
        "## **2. Write a Python Program to find largest element in an array?**"
      ],
      "metadata": {
        "id": "Hg21QMSEEbtD"
      }
    },
    {
      "cell_type": "code",
      "source": [
        "def largest(arr):\n",
        "  arr.sort()\n",
        "  return arr[-1]\n",
        "\n",
        "arr = [10, 324, 45, 90, 9808,1451,85414,12,711,2,1] \n",
        "Ans = largest(arr)\n",
        "print(\"Largest in given array \", Ans)"
      ],
      "metadata": {
        "colab": {
          "base_uri": "https://localhost:8080/"
        },
        "id": "7FKQbTmaEOJS",
        "outputId": "4d55064b-b0ed-47f2-adb4-276b21c00c7a"
      },
      "execution_count": null,
      "outputs": [
        {
          "output_type": "stream",
          "name": "stdout",
          "text": [
            "Largest in given array  85414\n"
          ]
        }
      ]
    },
    {
      "cell_type": "markdown",
      "source": [
        "## **3. Write a Python Program for array rotation?**"
      ],
      "metadata": {
        "id": "TmOKL-TbFq5b"
      }
    },
    {
      "cell_type": "code",
      "source": [
        "def rotate_array(arr,d,n):\n",
        "  arr[:]=arr[d:n]+arr[0:d]\n",
        "  return arr\n",
        "\n",
        "\n",
        "# Driver function to test above function\n",
        "arr = [1, 2, 3, 4, 5, 6]\n",
        "print(arr)\n",
        "print(\"Rotated array is\")\n",
        "print(rotate_array(arr,2,len(arr))) "
      ],
      "metadata": {
        "id": "B_DKObYlFlhk",
        "colab": {
          "base_uri": "https://localhost:8080/"
        },
        "outputId": "228a644c-8e6d-482c-9b38-4a2f6e1700e2"
      },
      "execution_count": 6,
      "outputs": [
        {
          "output_type": "stream",
          "name": "stdout",
          "text": [
            "[1, 2, 3, 4, 5, 6]\n",
            "Rotated array is\n",
            "[3, 4, 5, 6, 1, 2]\n"
          ]
        }
      ]
    },
    {
      "cell_type": "markdown",
      "source": [
        "## **4. Write a Python Program to Split the array and add the first part to the end?**\n"
      ],
      "metadata": {
        "id": "OBA8yV2JDRbt"
      }
    },
    {
      "cell_type": "code",
      "source": [
        "def splitarray(a,n,k):\n",
        "  b = a[:k]\n",
        "  return a[k::] + b[::]\n",
        "\n",
        "\n",
        "arr = [1,5,4,2,5,4,6,5]\n",
        "n = len(arr)\n",
        "position = 2\n",
        "arr = splitarray(arr,n,position)\n",
        "arr"
      ],
      "metadata": {
        "id": "r-nWeBtdddEg",
        "colab": {
          "base_uri": "https://localhost:8080/"
        },
        "outputId": "144be6b6-f5c2-4d40-b07f-f7c14f7b110c"
      },
      "execution_count": 8,
      "outputs": [
        {
          "output_type": "execute_result",
          "data": {
            "text/plain": [
              "[4, 2, 5, 4, 6, 5, 1, 5]"
            ]
          },
          "metadata": {},
          "execution_count": 8
        }
      ]
    },
    {
      "cell_type": "markdown",
      "source": [
        "## **5. Write a Python Program to check if given array is Monotonic?**"
      ],
      "metadata": {
        "id": "D2sbvUbtb0ul"
      }
    },
    {
      "cell_type": "code",
      "source": [
        "def isMonotonic(A):\n",
        "  return (all(A[i] <= A[i+1] for i in range(len(A)-1))) or (all(A[i] >= A[i+1] for i in range(len(A)-1)))\n",
        "\n",
        "A = [6, 5, 4, 4]\n",
        "print(isMonotonic(A))\n"
      ],
      "metadata": {
        "colab": {
          "base_uri": "https://localhost:8080/"
        },
        "id": "8EfIYlcudod8",
        "outputId": "a5cec5a5-2cc2-47f6-dca2-a88d6ff9ac87"
      },
      "execution_count": 22,
      "outputs": [
        {
          "output_type": "stream",
          "name": "stdout",
          "text": [
            "True\n"
          ]
        }
      ]
    },
    {
      "cell_type": "code",
      "source": [],
      "metadata": {
        "id": "M_0P1OjPeXBq"
      },
      "execution_count": null,
      "outputs": []
    }
  ]
}