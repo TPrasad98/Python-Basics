{
  "nbformat": 4,
  "nbformat_minor": 0,
  "metadata": {
    "colab": {
      "provenance": []
    },
    "kernelspec": {
      "name": "python3",
      "display_name": "Python 3"
    },
    "language_info": {
      "name": "python"
    }
  },
  "cells": [
    {
      "cell_type": "markdown",
      "source": [
        "# **PROGRAMMING ASSIGNMENT - 9**"
      ],
      "metadata": {
        "id": "zeeWHbQi0pCC"
      }
    },
    {
      "cell_type": "markdown",
      "source": [
        "## **1. Write a Python program to check if the given number is a Disarium Number?**"
      ],
      "metadata": {
        "id": "3zYgPn-m0ylx"
      }
    },
    {
      "cell_type": "code",
      "source": [
        "import math\n",
        "\n",
        "# method to check wheather the number is Disarium or not..\n",
        "def check(n) :\n",
        "  #counting the number of digits in n\n",
        "  count_digits = len(str(n))\n",
        "\n",
        "  #initialize sum of terms\n",
        "  sum = 0\n",
        "  x = n\n",
        "  while x != 0 :\n",
        "\n",
        "    #getting the rightmost digit\n",
        "    r = x % 10 \n",
        "\n",
        "    sum = (int) (sum + math.pow(r,count_digits))\n",
        "    count_digits -= 1\n",
        "    x = x//10\n",
        "\n",
        "  #if sum is same as number ,then number is..\n",
        "  if sum == n :\n",
        "    return 1\n",
        "  else :\n",
        "    return 0\n",
        "\n",
        "#drver code\n",
        "n = 143\n",
        "\n",
        "if check(n) == 1:\n",
        "  print(\"Disarium Number..\")\n",
        "else :\n",
        "  print(\"Not Disarium Number..\")\n",
        "\n"
      ],
      "metadata": {
        "colab": {
          "base_uri": "https://localhost:8080/"
        },
        "id": "_9Ia0FYX0tJv",
        "outputId": "4cae06d3-89d4-45cb-e015-64eab0243ade"
      },
      "execution_count": null,
      "outputs": [
        {
          "output_type": "stream",
          "name": "stdout",
          "text": [
            "Not Disarium Number..\n"
          ]
        }
      ]
    },
    {
      "cell_type": "markdown",
      "source": [
        "## **2. Write a Python program to print all disarium numbers between 1 to 100?**"
      ],
      "metadata": {
        "id": "nRBQW_KGJj-9"
      }
    },
    {
      "cell_type": "code",
      "source": [
        "#cal_len() will count the number of digits in a number...\n",
        "def cal_len(n):\n",
        "  len = 0\n",
        "  while n != 0:\n",
        "    len += 1\n",
        "    n = n//10\n",
        "  return len\n",
        "\n",
        "# check() will calculate the sum of digits powered with their respective position..\n",
        "def check(num):\n",
        "  r = sum = 0\n",
        "  len = cal_len(num)\n",
        "\n",
        "  while num > 0:\n",
        "    r =num % 10\n",
        "    sum += r**len\n",
        "    len -= 1\n",
        "    num //= 10\n",
        "  return sum\n",
        "\n",
        "result = 0\n",
        "\n",
        "#Display all disarium numbers between 1 to 100\n",
        "print(\"Disarium numbers between 1 and 100 are..\")\n",
        "for i in range(1,101):\n",
        "  result = check(i)\n",
        "\n",
        "  if result == i :\n",
        "    print(i,end = ' ')"
      ],
      "metadata": {
        "colab": {
          "base_uri": "https://localhost:8080/"
        },
        "id": "Td1UYPs3IX69",
        "outputId": "a8d7f19e-96b5-4c55-bc82-d29179898957"
      },
      "execution_count": null,
      "outputs": [
        {
          "output_type": "stream",
          "name": "stdout",
          "text": [
            "Disarium numbers between 1 and 100 are..\n",
            "1 2 3 4 5 6 7 8 9 89 "
          ]
        }
      ]
    },
    {
      "cell_type": "markdown",
      "source": [
        "## **3. Write a Python program to check if the given number is Happy Number?**"
      ],
      "metadata": {
        "id": "aTm5TSTLROtr"
      }
    },
    {
      "cell_type": "code",
      "source": [
        "# isHappy() will cetermine wheather a number is happy or not....\n",
        "\n",
        "def isHappy(num):\n",
        "  res = sum = 0\n",
        "\n",
        "  #calculate the sum of digits..\n",
        "  while num > 0 :\n",
        "    res = num % 10\n",
        "    sum = sum + (res*res)\n",
        "    num = num // 10\n",
        "  return sum ;\n",
        "\n",
        "Num = int(input(\"Enter a number :\"))\n",
        "\n",
        "result = Num\n",
        "while (result !=1 and result != 4) :\n",
        "  result = isHappy(result)\n",
        "\n",
        "if (result == 1) :\n",
        "  print(str(Num) + \" is a happy number...\")\n",
        "\n",
        "elif (result == 4) :\n",
        "  print(str(Num) + \" is not a happy number..\")"
      ],
      "metadata": {
        "id": "jqyHWtMyXDDJ",
        "colab": {
          "base_uri": "https://localhost:8080/"
        },
        "outputId": "a6ee0f60-2530-4152-fb39-1c0df794bc54"
      },
      "execution_count": 9,
      "outputs": [
        {
          "output_type": "stream",
          "name": "stdout",
          "text": [
            "Enter a number :320\n",
            "320 is a happy number...\n"
          ]
        }
      ]
    },
    {
      "cell_type": "markdown",
      "source": [
        "## **4. Write a Python program to print all happy numbers between 1 and 100?**"
      ],
      "metadata": {
        "id": "2mCftexbfvIw"
      }
    },
    {
      "cell_type": "code",
      "source": [
        "def ishappy(num):\n",
        "  res = sum = 0\n",
        "\n",
        "  while num > 0 :\n",
        "    res = num % 10\n",
        "    sum = sum + (res*res)\n",
        "    num = num // 10\n",
        "  return sum\n",
        "\n",
        "print(\"List of happy numbers between 1 and 100..\")\n",
        "for i in range(1,101):\n",
        "  result = i\n",
        "  while result != 1 and result != 4 :\n",
        "    result =  ishappy(result)\n",
        "\n",
        "  if result == 1 :\n",
        "    print(i,end = ' ')\n",
        "   "
      ],
      "metadata": {
        "colab": {
          "base_uri": "https://localhost:8080/"
        },
        "id": "fdT0QfDBc1BB",
        "outputId": "e11fa666-d4ab-4dcb-90ee-deefe1c5480b"
      },
      "execution_count": 14,
      "outputs": [
        {
          "output_type": "stream",
          "name": "stdout",
          "text": [
            "List of happy numbers between 1 and 100..\n",
            "1 7 10 13 19 23 28 31 32 44 49 68 70 79 82 86 91 94 97 100 "
          ]
        }
      ]
    },
    {
      "cell_type": "markdown",
      "source": [
        "## **5. Write a Python program to determine whether the given number is a Harshad Number?**"
      ],
      "metadata": {
        "id": "B1nxC3cQiatA"
      }
    },
    {
      "cell_type": "code",
      "source": [
        "def Harshad(num):\n",
        "  res = sum = 0\n",
        "\n",
        "  n = num\n",
        "  while num > 0 :\n",
        "    res = num% 10\n",
        "    sum = sum + res\n",
        "    num = num // 10\n",
        "  \n",
        "\n",
        "  if  n%sum == 0:\n",
        "    print(str(n) + ' is a harshad number..')\n",
        "  else:\n",
        "    print(str(n) + ' is not a harshad number..')\n",
        "\n",
        "Harshad(5241)"
      ],
      "metadata": {
        "colab": {
          "base_uri": "https://localhost:8080/"
        },
        "id": "-bwwDG3whVTv",
        "outputId": "44eb8c70-43c7-4e85-d085-aa083777cba8"
      },
      "execution_count": 18,
      "outputs": [
        {
          "output_type": "stream",
          "name": "stdout",
          "text": [
            "5241 is not a harshad number..\n"
          ]
        }
      ]
    },
    {
      "cell_type": "markdown",
      "source": [
        "## **6. Write a Python program to print all pronic numbers between 1 and 100?**"
      ],
      "metadata": {
        "id": "Wuw9zYNnmeiF"
      }
    },
    {
      "cell_type": "code",
      "source": [
        "def isPronic(num):\n",
        "  for i in range(1,num+1) :\n",
        "    if i*(i+1) == num :\n",
        "      print(num,end = ' ')\n",
        "\n",
        "print(\"Pronic numbers between 1 and 100..\")\n",
        "for j in range(1,101):\n",
        "  isPronic(j)"
      ],
      "metadata": {
        "colab": {
          "base_uri": "https://localhost:8080/"
        },
        "id": "TouRdClvnewH",
        "outputId": "d2f001da-5f26-4064-b4de-3edfa4d6a6c4"
      },
      "execution_count": 27,
      "outputs": [
        {
          "output_type": "stream",
          "name": "stdout",
          "text": [
            "Pronic numbers between 1 and 100..\n",
            "2 6 12 20 30 42 56 72 90 "
          ]
        }
      ]
    }
  ]
}