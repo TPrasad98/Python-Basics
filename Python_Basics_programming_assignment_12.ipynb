{
  "nbformat": 4,
  "nbformat_minor": 0,
  "metadata": {
    "colab": {
      "provenance": []
    },
    "kernelspec": {
      "name": "python3",
      "display_name": "Python 3"
    },
    "language_info": {
      "name": "python"
    }
  },
  "cells": [
    {
      "cell_type": "markdown",
      "source": [
        "# **PROGRAMMING ASSIGNMENT - 12**"
      ],
      "metadata": {
        "id": "11EvVeInwrJs"
      }
    },
    {
      "cell_type": "markdown",
      "source": [
        "## **1. Write a Python program to Extract Unique values dictionary values?**"
      ],
      "metadata": {
        "id": "j_y4lQ0LwzfI"
      }
    },
    {
      "cell_type": "code",
      "source": [
        "test_dict = {'he': [5, 6, 7, 8],\n",
        "             'is': [10, 11, 7, 5],\n",
        "             'my': [6, 12, 10, 8],\n",
        "             'friend': [1, 2, 5]}\n",
        "\n",
        "#printing the original dictonary\n",
        "print('The original dictionary is :',test_dict)\n",
        "\n",
        "#extract unique values dictionary values\n",
        "result = sorted({ele for val in test_dict.values() for ele in val})\n",
        "\n",
        "#printing the result\n",
        "print('The unique values list is :',result)\n",
        "           "
      ],
      "metadata": {
        "colab": {
          "base_uri": "https://localhost:8080/"
        },
        "id": "8zhj0EorwyeR",
        "outputId": "46db60bd-2c84-48d4-90cd-05c1c0e7860c"
      },
      "execution_count": 1,
      "outputs": [
        {
          "output_type": "stream",
          "name": "stdout",
          "text": [
            "The original dictionary is : {'he': [5, 6, 7, 8], 'is': [10, 11, 7, 5], 'my': [6, 12, 10, 8], 'friend': [1, 2, 5]}\n",
            "The unique values list is : [1, 2, 5, 6, 7, 8, 10, 11, 12]\n"
          ]
        }
      ]
    },
    {
      "cell_type": "markdown",
      "source": [
        "## **2. Write a Python program to find the sum of all items in a dictionary?**"
      ],
      "metadata": {
        "id": "TO7cuVE3zzZi"
      }
    },
    {
      "cell_type": "code",
      "source": [
        "def sum_dict(my_dict):\n",
        "\n",
        "  #creating an empty list\n",
        "  lis = []\n",
        "\n",
        "  #iterating over the dictionary\n",
        "  for i in my_dict :\n",
        "    lis.append(my_dict[i])\n",
        "  result = sum(lis)\n",
        "  \n",
        "  #returning the result\n",
        "  return result\n",
        "\n",
        "dic = {'a':124,'c':24152,'f':35322,'s':142,'g':857}\n",
        "print('Sum of all of all items in a dict :',sum_dict(dic))"
      ],
      "metadata": {
        "colab": {
          "base_uri": "https://localhost:8080/"
        },
        "id": "OmFR2Ehd0hTG",
        "outputId": "827a57aa-a6e8-4bc6-94d4-c18ddecb8d17"
      },
      "execution_count": 2,
      "outputs": [
        {
          "output_type": "stream",
          "name": "stdout",
          "text": [
            "Sum of all of all items in a dict : 60597\n"
          ]
        }
      ]
    },
    {
      "cell_type": "markdown",
      "source": [
        "## **3. Write a Python program to Merging two Dictionaries?**\n"
      ],
      "metadata": {
        "id": "jch8qNIL2rsv"
      }
    },
    {
      "cell_type": "code",
      "source": [
        "def merge_dict(dict1,dict2):\n",
        "  dict1.update(dict2)\n",
        "  return dict1\n",
        "\n",
        "dict1 = {'s':42,'kl':'summ','aka':[1,2,3,4]}\n",
        "dict2 = {'tup':(91,4,25,5),'set':{2,8,5,6}}\n",
        "\n",
        "merge_dict(dict1,dict2)"
      ],
      "metadata": {
        "colab": {
          "base_uri": "https://localhost:8080/"
        },
        "id": "C-R-qLZB2KNH",
        "outputId": "c5631d51-02ae-4843-825a-eb7dec99bed4"
      },
      "execution_count": 3,
      "outputs": [
        {
          "output_type": "execute_result",
          "data": {
            "text/plain": [
              "{'s': 42,\n",
              " 'kl': 'summ',\n",
              " 'aka': [1, 2, 3, 4],\n",
              " 'tup': (91, 4, 25, 5),\n",
              " 'set': {2, 5, 6, 8}}"
            ]
          },
          "metadata": {},
          "execution_count": 3
        }
      ]
    },
    {
      "cell_type": "markdown",
      "source": [
        "## **4. Write a Python program to convert key-values list to flat dictionary?**"
      ],
      "metadata": {
        "id": "ajO-qQ6C5ENF"
      }
    },
    {
      "cell_type": "code",
      "source": [
        "test_dict = {'kris' : ['at','post','dist'],\n",
        "            'home' : ['itukura', 'podamarai', 'cuttack']}\n",
        " \n",
        "# printing original dictionary\n",
        "print(\"The original dictionary is : \" + str(test_dict))\n",
        " \n",
        "# Convert key-values list to flat dictionary\n",
        "x=list(test_dict.values())\n",
        "a=x[0]\n",
        "b=x[1]\n",
        "d=dict()\n",
        "for i in range(0,len(a)):\n",
        "    d[a[i]]=b[i]\n",
        "# printing result\n",
        "print(\"Flattened dictionary : \" + str(d))"
      ],
      "metadata": {
        "colab": {
          "base_uri": "https://localhost:8080/"
        },
        "id": "2-1xDT_v76h7",
        "outputId": "e6188884-cb79-4350-8f3e-97777d3baa28"
      },
      "execution_count": 4,
      "outputs": [
        {
          "output_type": "stream",
          "name": "stdout",
          "text": [
            "The original dictionary is : {'kris': ['at', 'post', 'dist'], 'home': ['itukura', 'podamarai', 'cuttack']}\n",
            "Flattened dictionary : {'at': 'itukura', 'post': 'podamarai', 'dist': 'cuttack'}\n"
          ]
        }
      ]
    },
    {
      "cell_type": "markdown",
      "source": [
        "## **5. Write a Python program to insertion at the beginning in OrderedDict?**"
      ],
      "metadata": {
        "id": "7IMhWBk6-8a8"
      }
    },
    {
      "cell_type": "code",
      "source": [
        "from collections import OrderedDict\n",
        "dic1 = OrderedDict([('B', '100'), ('C', '200'), ('D', '300')])\n",
        "insrt = OrderedDict([(\"A\", '400')])\n",
        "  \n",
        "final = OrderedDict(list(insrt.items()) + list(dic1.items()))\n",
        "  \n",
        "# print result\n",
        "print (\"The final  Dictionary :\")\n",
        "print(final)\n"
      ],
      "metadata": {
        "colab": {
          "base_uri": "https://localhost:8080/"
        },
        "id": "cP_ZqJbS-7Zy",
        "outputId": "ccca7148-b67a-4bf6-e5b4-b9b18daf742c"
      },
      "execution_count": 5,
      "outputs": [
        {
          "output_type": "stream",
          "name": "stdout",
          "text": [
            "The final  Dictionary :\n",
            "OrderedDict([('A', '400'), ('B', '100'), ('C', '200'), ('D', '300')])\n"
          ]
        }
      ]
    },
    {
      "cell_type": "markdown",
      "source": [
        "## **6. Write a Python program to check order of character in string using OrderedDict()?**"
      ],
      "metadata": {
        "id": "VkysqEC9BXVY"
      }
    },
    {
      "cell_type": "code",
      "source": [
        "from collections import OrderedDict\n",
        "\n",
        "def check_order(my_input, my_pattern):\n",
        "   my_dict = OrderedDict.fromkeys(my_input)\n",
        "\n",
        "   pattern_length = 0\n",
        "   for key,value in my_dict.items():\n",
        "      if (key == my_pattern[pattern_length]):\n",
        "         pattern_length = pattern_length + 1\n",
        "\n",
        "      if (pattern_length == (len(my_pattern))):\n",
        "         return 'The order of pattern is correct'\n",
        "\n",
        "   return 'The order of pattern is incorrect'\n",
        "\n",
        "my_input = 'Hi krishna'\n",
        "input_pattern = 'ia'\n",
        "print(\"The string is \")\n",
        "print(my_input)\n",
        "print(\"The input pattern is \")\n",
        "print(input_pattern)\n",
        "print(check_order(my_input,input_pattern))\n"
      ],
      "metadata": {
        "colab": {
          "base_uri": "https://localhost:8080/"
        },
        "id": "5tVR3UhIAp7J",
        "outputId": "7ed3fa4f-5abc-4460-ce3b-953e43c9243b"
      },
      "execution_count": 9,
      "outputs": [
        {
          "output_type": "stream",
          "name": "stdout",
          "text": [
            "The string is \n",
            "Hi krishna\n",
            "The input pattern is \n",
            "ia\n",
            "The order of pattern is correct\n"
          ]
        }
      ]
    },
    {
      "cell_type": "markdown",
      "source": [
        "## **7. Write a Python program to sort Python Dictionaries by Key or Value?**"
      ],
      "metadata": {
        "id": "NHFFRCsJOe42"
      }
    },
    {
      "cell_type": "code",
      "source": [
        "key_value={}\n",
        "\n",
        "key_value[5] = 10      \n",
        "key_value[3] = 8\n",
        "key_value[6] = 77\n",
        "key_value[4] = 23\n",
        "key_value[2] = 9     \n",
        "key_value[1] = 43\n",
        " \n",
        "print(\"sorting on the basis of keys\")\n",
        "\n",
        "for i in sorted(key_value) :\n",
        "    print ((i, key_value[i]), end =\" \")"
      ],
      "metadata": {
        "colab": {
          "base_uri": "https://localhost:8080/"
        },
        "id": "X2lURt-jC_jA",
        "outputId": "e21c8af9-3eca-434a-aae0-2116373f9e46"
      },
      "execution_count": 10,
      "outputs": [
        {
          "output_type": "stream",
          "name": "stdout",
          "text": [
            "sorting on the basis of keys\n",
            "(1, 43) (2, 9) (3, 8) (4, 23) (5, 10) (6, 77) "
          ]
        }
      ]
    }
  ]
}